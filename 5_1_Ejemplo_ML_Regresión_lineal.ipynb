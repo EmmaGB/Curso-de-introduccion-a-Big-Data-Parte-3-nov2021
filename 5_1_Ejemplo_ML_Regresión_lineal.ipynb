{
  "nbformat": 4,
  "nbformat_minor": 0,
  "metadata": {
    "colab": {
      "name": "Ejemplo ML Regresión lineal.ipynb",
      "provenance": [],
      "authorship_tag": "ABX9TyPRrUI6GNtqH1X4FMuGHBho",
      "include_colab_link": true
    },
    "kernelspec": {
      "name": "python3",
      "display_name": "Python 3"
    },
    "language_info": {
      "name": "python"
    }
  },
  "cells": [
    {
      "cell_type": "markdown",
      "metadata": {
        "id": "view-in-github",
        "colab_type": "text"
      },
      "source": [
        "<a href=\"https://colab.research.google.com/github/alberto1971/Curso-de-introduccion-a-Big-Data-Parte-3-nov2021/blob/main/Ejemplo_ML_Regresi%C3%B3n_lineal.ipynb\" target=\"_parent\"><img src=\"https://colab.research.google.com/assets/colab-badge.svg\" alt=\"Open In Colab\"/></a>"
      ]
    },
    {
      "cell_type": "code",
      "metadata": {
        "colab": {
          "base_uri": "https://localhost:8080/"
        },
        "id": "k9ViJGW1MsWr",
        "outputId": "f6038702-e77a-44de-ab02-4a8044098677"
      },
      "source": [
        "import numpy as np\n",
        "x=np.arange(10)\n",
        "x"
      ],
      "execution_count": null,
      "outputs": [
        {
          "output_type": "execute_result",
          "data": {
            "text/plain": [
              "array([0, 1, 2, 3, 4, 5, 6, 7, 8, 9])"
            ]
          },
          "metadata": {},
          "execution_count": 155
        }
      ]
    },
    {
      "cell_type": "code",
      "metadata": {
        "colab": {
          "base_uri": "https://localhost:8080/"
        },
        "id": "FkIuk5y3M5J-",
        "outputId": "27c40a78-6cc5-495a-f66b-7aa375f5cda7"
      },
      "source": [
        "print(x)"
      ],
      "execution_count": null,
      "outputs": [
        {
          "output_type": "stream",
          "name": "stdout",
          "text": [
            "[0 1 2 3 4 5 6 7 8 9]\n"
          ]
        }
      ]
    },
    {
      "cell_type": "code",
      "metadata": {
        "colab": {
          "base_uri": "https://localhost:8080/"
        },
        "id": "s0qHVCiPBnmj",
        "outputId": "fac2bf92-444e-4248-e64c-e18e3ce0a625"
      },
      "source": [
        "x.shape"
      ],
      "execution_count": null,
      "outputs": [
        {
          "output_type": "execute_result",
          "data": {
            "text/plain": [
              "(10,)"
            ]
          },
          "metadata": {},
          "execution_count": 157
        }
      ]
    },
    {
      "cell_type": "code",
      "metadata": {
        "id": "7p-8b035A2gK"
      },
      "source": [
        "#Convertimos x en un array de una columna\n",
        "x=x.reshape(-1,1)"
      ],
      "execution_count": null,
      "outputs": []
    },
    {
      "cell_type": "code",
      "metadata": {
        "colab": {
          "base_uri": "https://localhost:8080/"
        },
        "id": "R7z9BbzwBHP8",
        "outputId": "cf0f55a3-6dde-4eb4-88bc-62045f1f80fe"
      },
      "source": [
        "print(x)"
      ],
      "execution_count": null,
      "outputs": [
        {
          "output_type": "stream",
          "name": "stdout",
          "text": [
            "[[0]\n",
            " [1]\n",
            " [2]\n",
            " [3]\n",
            " [4]\n",
            " [5]\n",
            " [6]\n",
            " [7]\n",
            " [8]\n",
            " [9]]\n"
          ]
        }
      ]
    },
    {
      "cell_type": "code",
      "metadata": {
        "colab": {
          "base_uri": "https://localhost:8080/"
        },
        "id": "yIz40FyNN2cA",
        "outputId": "18fe9188-57c4-4d9f-f4f2-54bb27177186"
      },
      "source": [
        "y=x**2\n",
        "print(y)"
      ],
      "execution_count": null,
      "outputs": [
        {
          "output_type": "stream",
          "name": "stdout",
          "text": [
            "[[ 0]\n",
            " [ 1]\n",
            " [ 4]\n",
            " [ 9]\n",
            " [16]\n",
            " [25]\n",
            " [36]\n",
            " [49]\n",
            " [64]\n",
            " [81]]\n"
          ]
        }
      ]
    },
    {
      "cell_type": "code",
      "metadata": {
        "colab": {
          "base_uri": "https://localhost:8080/",
          "height": 265
        },
        "id": "JD9LZ_2fOKxo",
        "outputId": "34dbab56-d89c-44bb-af70-c692452e7d2c"
      },
      "source": [
        "import matplotlib.pyplot as plt\n",
        "plt.plot(x,y, marker='.', linestyle='None')\n",
        "plt.show()"
      ],
      "execution_count": null,
      "outputs": [
        {
          "output_type": "display_data",
          "data": {
            "image/png": "[encoded data removed]",
            "text/plain": [
              "<Figure size 432x288 with 1 Axes>"
            ]
          },
          "metadata": {
            "needs_background": "light"
          }
        }
      ]
    },
    {
      "cell_type": "code",
      "metadata": {
        "colab": {
          "base_uri": "https://localhost:8080/"
        },
        "id": "IMgQG7YkAN8h",
        "outputId": "c1759a7c-1db7-415c-846e-983048c3a4b7"
      },
      "source": [
        "aleatorio=10*np.random.rand(10,1)\n",
        "aleatorio"
      ],
      "execution_count": null,
      "outputs": [
        {
          "output_type": "execute_result",
          "data": {
            "text/plain": [
              "array([[2.27111139],\n",
              "       [0.63399975],\n",
              "       [8.72587717],\n",
              "       [0.20877454],\n",
              "       [0.74581375],\n",
              "       [8.07174021],\n",
              "       [3.61610073],\n",
              "       [2.40585214],\n",
              "       [8.4275949 ],\n",
              "       [1.19681038]])"
            ]
          },
          "metadata": {},
          "execution_count": 162
        }
      ]
    },
    {
      "cell_type": "code",
      "metadata": {
        "colab": {
          "base_uri": "https://localhost:8080/",
          "height": 265
        },
        "id": "LA4Dv1jCCBzF",
        "outputId": "45d30e6f-1b03-4ac7-d080-d8e555ff5e44"
      },
      "source": [
        "plt.plot(aleatorio,marker='.', linestyle='None')\n",
        "plt.show()"
      ],
      "execution_count": null,
      "outputs": [
        {
          "output_type": "display_data",
          "data": {
            "image/png": "[encoded data removed]",
            "text/plain": [
              "<Figure size 432x288 with 1 Axes>"
            ]
          },
          "metadata": {
            "needs_background": "light"
          }
        }
      ]
    },
    {
      "cell_type": "code",
      "metadata": {
        "colab": {
          "base_uri": "https://localhost:8080/"
        },
        "id": "Eu3LRG31Af34",
        "outputId": "0e62b226-445b-4c82-8419-a249a4f51b18"
      },
      "source": [
        "ruido=aleatorio-5\n",
        "ruido"
      ],
      "execution_count": null,
      "outputs": [
        {
          "output_type": "execute_result",
          "data": {
            "text/plain": [
              "array([[-3.76958259],\n",
              "       [-3.97700799],\n",
              "       [ 4.76517059],\n",
              "       [ 4.0925859 ],\n",
              "       [ 2.99660425],\n",
              "       [ 3.64197689],\n",
              "       [-0.73455668],\n",
              "       [ 3.50153192],\n",
              "       [-1.70706305],\n",
              "       [ 1.94520252],\n",
              "       [ 1.23056057],\n",
              "       [ 1.50916512],\n",
              "       [ 0.3246822 ],\n",
              "       [ 4.32766758],\n",
              "       [ 3.37216336],\n",
              "       [ 3.02193669],\n",
              "       [-0.49833322],\n",
              "       [-4.50426558],\n",
              "       [ 4.11667672],\n",
              "       [-3.45896167]])"
            ]
          },
          "metadata": {},
          "execution_count": 133
        }
      ]
    },
    {
      "cell_type": "code",
      "metadata": {
        "colab": {
          "base_uri": "https://localhost:8080/",
          "height": 265
        },
        "id": "nwujyQBrD0ZP",
        "outputId": "5a6b2193-d8c9-4f56-a2ab-44b919abafe9"
      },
      "source": [
        "plt.plot(ruido,marker='.', linestyle='None')\n",
        "plt.show()"
      ],
      "execution_count": null,
      "outputs": [
        {
          "output_type": "display_data",
          "data": {
            "image/png": "[encoded data removed]",
            "text/plain": [
              "<Figure size 432x288 with 1 Axes>"
            ]
          },
          "metadata": {
            "needs_background": "light"
          }
        }
      ]
    },
    {
      "cell_type": "code",
      "metadata": {
        "colab": {
          "base_uri": "https://localhost:8080/"
        },
        "id": "Hi9b7QaZD-ip",
        "outputId": "ed8c87f4-f373-4fe5-f8d3-3e40a6654b19"
      },
      "source": [
        "y_real=y+ruido\n",
        "y_real"
      ],
      "execution_count": null,
      "outputs": [
        {
          "output_type": "execute_result",
          "data": {
            "text/plain": [
              "array([[ -3.76958259],\n",
              "       [ -2.97700799],\n",
              "       [  8.76517059],\n",
              "       [ 13.0925859 ],\n",
              "       [ 18.99660425],\n",
              "       [ 28.64197689],\n",
              "       [ 35.26544332],\n",
              "       [ 52.50153192],\n",
              "       [ 62.29293695],\n",
              "       [ 82.94520252],\n",
              "       [101.23056057],\n",
              "       [122.50916512],\n",
              "       [144.3246822 ],\n",
              "       [173.32766758],\n",
              "       [199.37216336],\n",
              "       [228.02193669],\n",
              "       [255.50166678],\n",
              "       [284.49573442],\n",
              "       [328.11667672],\n",
              "       [357.54103833]])"
            ]
          },
          "metadata": {},
          "execution_count": 135
        }
      ]
    },
    {
      "cell_type": "code",
      "metadata": {
        "colab": {
          "base_uri": "https://localhost:8080/",
          "height": 265
        },
        "id": "G-ed7NYiEFAw",
        "outputId": "c023662f-554c-4775-f8cc-62fb0d20693c"
      },
      "source": [
        "plt.plot(y)\n",
        "plt.plot(y_real,marker='.', linestyle='None')\n",
        "plt.show()"
      ],
      "execution_count": null,
      "outputs": [
        {
          "output_type": "display_data",
          "data": {
            "image/png": "[encoded data removed]",
            "text/plain": [
              "<Figure size 432x288 with 1 Axes>"
            ]
          },
          "metadata": {
            "needs_background": "light"
          }
        }
      ]
    },
    {
      "cell_type": "code",
      "metadata": {
        "id": "IkvF8QqsPcnf"
      },
      "source": [
        "from sklearn import linear_model\n",
        "reg = linear_model.LinearRegression()"
      ],
      "execution_count": null,
      "outputs": []
    },
    {
      "cell_type": "code",
      "metadata": {
        "colab": {
          "base_uri": "https://localhost:8080/"
        },
        "id": "6AZW88ZX-9W3",
        "outputId": "145b17f7-86d1-4813-a50b-1e9e75a5d2b9"
      },
      "source": [
        "reg.fit(x,y_real)"
      ],
      "execution_count": null,
      "outputs": [
        {
          "output_type": "execute_result",
          "data": {
            "text/plain": [
              "LinearRegression(copy_X=True, fit_intercept=True, n_jobs=None, normalize=False)"
            ]
          },
          "metadata": {},
          "execution_count": 138
        }
      ]
    },
    {
      "cell_type": "code",
      "metadata": {
        "id": "XQUYiVvLQPqs"
      },
      "source": [
        "y_est=reg.predict(x)"
      ],
      "execution_count": null,
      "outputs": []
    },
    {
      "cell_type": "code",
      "metadata": {
        "colab": {
          "base_uri": "https://localhost:8080/",
          "height": 265
        },
        "id": "4sIBM03qRFmE",
        "outputId": "021ff768-235e-43fa-dd7a-1764015d76d5"
      },
      "source": [
        "plt.plot(x,y_real,marker='.', linestyle='None')\n",
        "plt.plot(x,y_est,marker='.')\n",
        "plt.show()"
      ],
      "execution_count": null,
      "outputs": [
        {
          "output_type": "display_data",
          "data": {
            "image/png": "[encoded data removed]",
            "text/plain": [
              "<Figure size 432x288 with 1 Axes>"
            ]
          },
          "metadata": {
            "needs_background": "light"
          }
        }
      ]
    },
    {
      "cell_type": "code",
      "metadata": {
        "colab": {
          "base_uri": "https://localhost:8080/"
        },
        "id": "ubuWkF_F-Tbs",
        "outputId": "e97a6fec-fbc1-4a82-bf63-b68e6aa3d6d4"
      },
      "source": [
        "reg.score(x,y_real)"
      ],
      "execution_count": null,
      "outputs": [
        {
          "output_type": "execute_result",
          "data": {
            "text/plain": [
              "0.9365412577265044"
            ]
          },
          "metadata": {},
          "execution_count": 141
        }
      ]
    },
    {
      "cell_type": "code",
      "metadata": {
        "id": "JDAOQXeG8vmn"
      },
      "source": [
        "from sklearn.svm import SVR\n",
        "reg_svr_poly = SVR(kernel='poly', degree=2)"
      ],
      "execution_count": null,
      "outputs": []
    },
    {
      "cell_type": "code",
      "metadata": {
        "colab": {
          "base_uri": "https://localhost:8080/"
        },
        "id": "Ns_SNnjn9T27",
        "outputId": "268930d2-3e59-433c-bdd4-5923a3b1592a"
      },
      "source": [
        "reg_svr_poly.fit(x, y_real)"
      ],
      "execution_count": null,
      "outputs": [
        {
          "output_type": "stream",
          "name": "stderr",
          "text": [
            "/usr/local/lib/python3.7/dist-packages/sklearn/utils/validation.py:760: DataConversionWarning: A column-vector y was passed when a 1d array was expected. Please change the shape of y to (n_samples, ), for example using ravel().\n",
            "  y = column_or_1d(y, warn=True)\n"
          ]
        },
        {
          "output_type": "execute_result",
          "data": {
            "text/plain": [
              "SVR(C=1.0, cache_size=200, coef0=0.0, degree=2, epsilon=0.1, gamma='scale',\n",
              "    kernel='poly', max_iter=-1, shrinking=True, tol=0.001, verbose=False)"
            ]
          },
          "metadata": {},
          "execution_count": 148
        }
      ]
    },
    {
      "cell_type": "code",
      "metadata": {
        "id": "EnT2Kuvt9hUV"
      },
      "source": [
        "y_est3=reg_svr_poly.predict(x)"
      ],
      "execution_count": null,
      "outputs": []
    },
    {
      "cell_type": "code",
      "metadata": {
        "colab": {
          "base_uri": "https://localhost:8080/",
          "height": 265
        },
        "id": "hPuORoTp9rS_",
        "outputId": "07e07f54-7670-4798-87f2-b5df47ca52b7"
      },
      "source": [
        "plt.plot(x,y_real,marker='.')\n",
        "plt.plot(x,y_est3,marker='.', linestyle='None')\n",
        "plt.show()"
      ],
      "execution_count": null,
      "outputs": [
        {
          "output_type": "display_data",
          "data": {
            "image/png": "[encoded data removed]",
            "text/plain": [
              "<Figure size 432x288 with 1 Axes>"
            ]
          },
          "metadata": {
            "needs_background": "light"
          }
        }
      ]
    },
    {
      "cell_type": "code",
      "metadata": {
        "colab": {
          "base_uri": "https://localhost:8080/"
        },
        "id": "myj6DDiPGiey",
        "outputId": "ef814896-5bc3-4e90-afde-49035dfb1a14"
      },
      "source": [
        "reg_svr_poly.score(x,y_real)"
      ],
      "execution_count": null,
      "outputs": [
        {
          "output_type": "execute_result",
          "data": {
            "text/plain": [
              "0.9987244504061233"
            ]
          },
          "metadata": {},
          "execution_count": 151
        }
      ]
    },
    {
      "cell_type": "code",
      "metadata": {
        "id": "r96tvSavGoV2"
      },
      "source": [
        ""
      ],
      "execution_count": null,
      "outputs": []
    }
  ]
}
