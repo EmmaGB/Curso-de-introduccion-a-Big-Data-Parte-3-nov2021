{
  "nbformat": 4,
  "nbformat_minor": 0,
  "metadata": {
    "colab": {
      "name": "Machine Learning Aprendizaje supervisado.ipynb",
      "provenance": [],
      "authorship_tag": "ABX9TyM1OgSXJR7XgMctdUoAYzts",
      "include_colab_link": true
    },
    "kernelspec": {
      "name": "python3",
      "display_name": "Python 3"
    },
    "language_info": {
      "name": "python"
    }
  },
  "cells": [
    {
      "cell_type": "markdown",
      "metadata": {
        "id": "view-in-github",
        "colab_type": "text"
      },
      "source": [
        "<a href=\"https://colab.research.google.com/github/alberto1971/Curso-de-introduccion-a-Big-Data-Parte-3-nov2021/blob/main/5_Machine_Learning_Aprendizaje_supervisado.ipynb\" target=\"_parent\"><img src=\"https://colab.research.google.com/assets/colab-badge.svg\" alt=\"Open In Colab\"/></a>"
      ]
    },
    {
      "cell_type": "markdown",
      "metadata": {
        "id": "jfq-m7bV4sIu"
      },
      "source": [
        "#Machine Learning: Aprendizaje Supervisado\n",
        "\n",
        "Veamos un ejemplo que intenta identificar caracteres numéricos escritos a mano a partir de una imagen.\n",
        "\n",
        "#Reconocimiento de dígitos con Machine Learning"
      ]
    },
    {
      "cell_type": "code",
      "metadata": {
        "colab": {
          "base_uri": "https://localhost:8080/"
        },
        "id": "BcF69RY54gZ0",
        "outputId": "8ce48c9b-e072-41b1-cefa-fea155e2d1fc"
      },
      "source": [
        "import matplotlib.pyplot as plt\n",
        "\n",
        "%matplotlib inline\n",
        "#Load data set.\n",
        "from sklearn import datasets\n",
        "digits = datasets.load_digits()\n",
        "X, y = digits.data, digits.target\n",
        "\n",
        "print (X.shape)\n",
        "print (y.shape)"
      ],
      "execution_count": 4,
      "outputs": [
        {
          "output_type": "stream",
          "name": "stdout",
          "text": [
            "(1797, 64)\n",
            "(1797,)\n"
          ]
        }
      ]
    },
    {
      "cell_type": "markdown",
      "metadata": {
        "id": "gI_nGstZ5Uo2"
      },
      "source": [
        "Esto nos dice que tenemos 1797 ejemplos, cada uno compuesto por 64 dimensiones (imágenes de 8x8 pixels). Todos están etiquetados con su clase. Visualizemos un digito del dataset (por ejemplo el elemento 666). Como está en formato vector lo pasamos de nuevo a forma cuadrada. Usaremos para visualizarlo la librería Scikit image, que es una librería de Python especializada en tratamiento de imágenes."
      ]
    },
    {
      "cell_type": "code",
      "metadata": {
        "colab": {
          "base_uri": "https://localhost:8080/"
        },
        "id": "HhFS_-1K5a2i",
        "outputId": "57ef722e-80fa-4973-e056-8dd9ab399bcc"
      },
      "source": [
        "print (X[666].reshape((8,8)))"
      ],
      "execution_count": 5,
      "outputs": [
        {
          "output_type": "stream",
          "name": "stdout",
          "text": [
            "[[ 0.  0.  5. 15. 14.  3.  0.  0.]\n",
            " [ 0.  0. 13. 15.  9. 15.  2.  0.]\n",
            " [ 0.  4. 16. 12.  0. 10.  6.  0.]\n",
            " [ 0.  8. 16.  9.  0.  8. 10.  0.]\n",
            " [ 0.  7. 15.  5.  0. 12. 11.  0.]\n",
            " [ 0.  7. 13.  0.  5. 16.  6.  0.]\n",
            " [ 0.  0. 16. 12. 15. 13.  1.  0.]\n",
            " [ 0.  0.  6. 16. 12.  2.  0.  0.]]\n"
          ]
        }
      ]
    },
    {
      "cell_type": "code",
      "metadata": {
        "colab": {
          "base_uri": "https://localhost:8080/",
          "height": 352
        },
        "id": "rkiNh0dK6I0R",
        "outputId": "30d0afe5-d323-4a12-8755-94141f4666d9"
      },
      "source": [
        "from skimage import io as io\n",
        "io.imshow(X[666].reshape((8,8)),cmap=plt.cm.Greys)\n",
        "io.show()"
      ],
      "execution_count": 6,
      "outputs": [
        {
          "output_type": "stream",
          "name": "stderr",
          "text": [
            "/usr/local/lib/python3.7/dist-packages/skimage/io/_plugins/matplotlib_plugin.py:150: UserWarning: Float image out of standard range; displaying image with stretched contrast.\n",
            "  lo, hi, cmap = _get_display_range(image)\n"
          ]
        },
        {
          "output_type": "display_data",
          "data": {
            "image/png": "[encoded data removed]",
            "text/plain": [
              "<Figure size 432x288 with 2 Axes>"
            ]
          },
          "metadata": {
            "needs_background": "light"
          }
        }
      ]
    },
    {
      "cell_type": "markdown",
      "metadata": {
        "id": "8V356Omg7T0A"
      },
      "source": [
        "Vamos a visualizar unas cuantas imágenes de dígitos"
      ]
    },
    {
      "cell_type": "code",
      "metadata": {
        "colab": {
          "base_uri": "https://localhost:8080/",
          "height": 252
        },
        "id": "Qt4kLLpH6i_n",
        "outputId": "fac604fd-6634-4af5-b2fe-0b1b54b2c3b6"
      },
      "source": [
        "#Visualize some of the data.\n",
        "import matplotlib.pyplot as plt\n",
        "fig, ax = plt.subplots(4, 4, subplot_kw={'xticks':[], 'yticks':[]})\n",
        "for i in range(ax.size):\n",
        "    ax.flat[i].imshow(digits.data[i].reshape(8, 8), cmap=plt.cm.Greys)\n"
      ],
      "execution_count": 7,
      "outputs": [
        {
          "output_type": "display_data",
          "data": {
            "image/png": "[encoded data removed]",
            "text/plain": [
              "<Figure size 432x288 with 16 Axes>"
            ]
          },
          "metadata": {}
        }
      ]
    },
    {
      "cell_type": "markdown",
      "metadata": {
        "id": "5agWtXC57yba"
      },
      "source": [
        "##Modelo KNN con Scikit-learn\n",
        "Pongamos un ejemplo de uso de funciones prediciendo con KNN (K Nearest Neighbours o k vecinos más cercanos) que es un algoritmo de machine learning. Usando KNN, vamos a predecir la etiqueta de los 16 números que acabamos de mostrar.\n"
      ]
    },
    {
      "cell_type": "code",
      "metadata": {
        "colab": {
          "base_uri": "https://localhost:8080/"
        },
        "id": "o1vkxaw_8Nmr",
        "outputId": "1a9707c5-9c9e-4a25-de5d-b0bbbac401e9"
      },
      "source": [
        "from sklearn import neighbors\n",
        "knn = neighbors.KNeighborsClassifier()\n",
        "knn.fit(X,y) \n",
        "y_pred = knn.predict(X)\n",
        "for i in range(16):\n",
        "    print (i, \": \", y_pred[i])\n"
      ],
      "execution_count": 8,
      "outputs": [
        {
          "output_type": "stream",
          "name": "stdout",
          "text": [
            "0 :  0\n",
            "1 :  1\n",
            "2 :  2\n",
            "3 :  3\n",
            "4 :  4\n",
            "5 :  9\n",
            "6 :  6\n",
            "7 :  7\n",
            "8 :  8\n",
            "9 :  9\n",
            "10 :  0\n",
            "11 :  1\n",
            "12 :  2\n",
            "13 :  3\n",
            "14 :  4\n",
            "15 :  5\n"
          ]
        }
      ]
    },
    {
      "cell_type": "markdown",
      "metadata": {
        "id": "RQtJsKWM8gX2"
      },
      "source": [
        "Como vemos, falla en el ejemplo 5. "
      ]
    },
    {
      "cell_type": "code",
      "metadata": {
        "colab": {
          "base_uri": "https://localhost:8080/",
          "height": 352
        },
        "id": "U9fHH-1I8jvj",
        "outputId": "6add678d-870c-47ce-ef59-37484f3bdee0"
      },
      "source": [
        "io.imshow(X[5].reshape((8,8)),cmap=plt.cm.Greys)\n",
        "io.show()"
      ],
      "execution_count": 9,
      "outputs": [
        {
          "output_type": "stream",
          "name": "stderr",
          "text": [
            "/usr/local/lib/python3.7/dist-packages/skimage/io/_plugins/matplotlib_plugin.py:150: UserWarning: Float image out of standard range; displaying image with stretched contrast.\n",
            "  lo, hi, cmap = _get_display_range(image)\n"
          ]
        },
        {
          "output_type": "display_data",
          "data": {
            "image/png": "[encoded data removed]",
            "text/plain": [
              "<Figure size 432x288 with 2 Axes>"
            ]
          },
          "metadata": {
            "needs_background": "light"
          }
        }
      ]
    },
    {
      "cell_type": "markdown",
      "metadata": {
        "id": "ngKkgxQI8uXB"
      },
      "source": [
        "Evaluemos de una manera sencilla que tal lo ha hecho KNN para todo el dataset de dígitos (aciertos / total). Esta forma de calcular la eficacia del algoritmo no es la más correcta (clases no balanceadas, tendencia al overfitting, etc.) pero de momento nos vale."
      ]
    },
    {
      "cell_type": "code",
      "metadata": {
        "colab": {
          "base_uri": "https://localhost:8080/"
        },
        "id": "2DZYUwEE7QHJ",
        "outputId": "93ffa380-ac2f-4069-9480-4d211b282a05"
      },
      "source": [
        "knn.score(X,y)"
      ],
      "execution_count": 10,
      "outputs": [
        {
          "output_type": "execute_result",
          "data": {
            "text/plain": [
              "0.9905397885364496"
            ]
          },
          "metadata": {},
          "execution_count": 10
        }
      ]
    },
    {
      "cell_type": "markdown",
      "metadata": {
        "id": "V5_yms2D85-n"
      },
      "source": [
        "##Cómo medir la eficacia del algoritmo\n",
        "Veamos como obtener algunos de estos valores usando la clase metrics de sklearn. A la función classification_report le pasamos como primer argumento los valores predichos, y como segundo argumento los reales. La última columna del informe (support) nos dice el número de ejemplos que había en esa clase.\n"
      ]
    },
    {
      "cell_type": "code",
      "metadata": {
        "id": "RtGkcAFG9aCf"
      },
      "source": [
        "import pylab as plt\n",
        "from sklearn import metrics"
      ],
      "execution_count": 11,
      "outputs": []
    },
    {
      "cell_type": "code",
      "metadata": {
        "colab": {
          "base_uri": "https://localhost:8080/",
          "height": 595
        },
        "id": "7-a6MDDx9CLq",
        "outputId": "811d2e53-4886-4905-b1fd-f50367b72519"
      },
      "source": [
        "def plot_confusion_matrix(y, y_pred):\n",
        "    plt.imshow(metrics.confusion_matrix(y, y_pred),\n",
        "               cmap=plt.cm.jet, interpolation='nearest')\n",
        "    plt.colorbar()\n",
        "    plt.ylabel('true value')\n",
        "    plt.xlabel('predicted value')\n",
        "    \n",
        "print (\"Ratio de aciertos:\", metrics.accuracy_score(y, y_pred))\n",
        "plot_confusion_matrix(y, y_pred)\n",
        "print(metrics.classification_report(y_pred,y))\n"
      ],
      "execution_count": 12,
      "outputs": [
        {
          "output_type": "stream",
          "name": "stdout",
          "text": [
            "Ratio de aciertos: 0.9905397885364496\n",
            "              precision    recall  f1-score   support\n",
            "\n",
            "           0       1.00      1.00      1.00       178\n",
            "           1       1.00      0.98      0.99       186\n",
            "           2       1.00      1.00      1.00       177\n",
            "           3       0.99      0.98      0.99       184\n",
            "           4       1.00      0.99      1.00       182\n",
            "           5       0.99      0.99      0.99       181\n",
            "           6       1.00      0.99      0.99       183\n",
            "           7       0.99      0.99      0.99       180\n",
            "           8       0.98      0.99      0.98       172\n",
            "           9       0.96      0.99      0.97       174\n",
            "\n",
            "    accuracy                           0.99      1797\n",
            "   macro avg       0.99      0.99      0.99      1797\n",
            "weighted avg       0.99      0.99      0.99      1797\n",
            "\n"
          ]
        },
        {
          "output_type": "display_data",
          "data": {
            "image/png": "[encoded data removed]",
            "text/plain": [
              "<Figure size 432x288 with 2 Axes>"
            ]
          },
          "metadata": {
            "needs_background": "light"
          }
        }
      ]
    },
    {
      "cell_type": "markdown",
      "metadata": {
        "id": "zix5o_MZ9ioY"
      },
      "source": [
        "Hasta ahora hemos medido la clasificación sobre datos con los que había sido entrenado. Vamos ahora a simular un caso real, diviendo el dataset en dos partes, una la usaremos sólo para entrenar (datos de entrenamiento) y otra parte la usaremos sólo para evaluar que tal hemos ajustado los datos (datos de test o de evaluación). Llamando a numpy.random.permutation y dando como argumento un número, esta función randomiza los índices entre cero y el número que le hayamos pasado. Definimos también un parámetro (splitting) que determina que porcentaje de datos se usan para entrenamiento (el resto para evaluación)."
      ]
    },
    {
      "cell_type": "code",
      "metadata": {
        "id": "S14jsLnfA_QR"
      },
      "source": [
        "import numpy as np\n",
        "\n",
        "digits = datasets.load_digits()\n",
        "X, y = digits.data, digits.target\n",
        "\n",
        "perm = np.random.permutation(y.size)\n",
        "\n",
        "splitting = 0.7\n",
        "split_point = int(np.ceil(y.shape[0]*splitting))\n",
        "\n",
        "X_train = X[perm[:split_point].ravel(),:]\n",
        "y_train = y[perm[:split_point].ravel()]\n",
        "\n",
        "X_test = X[perm[split_point:].ravel(),:]\n",
        "y_test = y[perm[split_point:].ravel()]\n"
      ],
      "execution_count": 13,
      "outputs": []
    },
    {
      "cell_type": "code",
      "metadata": {
        "colab": {
          "base_uri": "https://localhost:8080/"
        },
        "id": "lP4YF8JYBFmG",
        "outputId": "93bc43d8-2e42-4827-fa14-dbb71afb7372"
      },
      "source": [
        "print(X_train.shape)\n",
        "print(y_train.shape)\n",
        "print(X_test.shape)\n",
        "print(y_test.shape)"
      ],
      "execution_count": 14,
      "outputs": [
        {
          "output_type": "stream",
          "name": "stdout",
          "text": [
            "(1258, 64)\n",
            "(1258,)\n",
            "(539, 64)\n",
            "(539,)\n"
          ]
        }
      ]
    },
    {
      "cell_type": "markdown",
      "metadata": {
        "id": "DdJ0iu0sBXGg"
      },
      "source": [
        "Entrenamos el algoritmo KNN con el connjunto de datos de entrenamiento (X_train, y_train)"
      ]
    },
    {
      "cell_type": "code",
      "metadata": {
        "colab": {
          "base_uri": "https://localhost:8080/"
        },
        "id": "6Il88rTdBmVy",
        "outputId": "9dd83bd1-3e8d-4b7b-98ab-4592312bcc73"
      },
      "source": [
        "#Train a classifier on training data\n",
        "from sklearn import neighbors\n",
        "knn = neighbors.KNeighborsClassifier(n_neighbors=1)\n",
        "knn.fit(X_train,y_train)"
      ],
      "execution_count": 15,
      "outputs": [
        {
          "output_type": "execute_result",
          "data": {
            "text/plain": [
              "KNeighborsClassifier(algorithm='auto', leaf_size=30, metric='minkowski',\n",
              "                     metric_params=None, n_jobs=None, n_neighbors=1, p=2,\n",
              "                     weights='uniform')"
            ]
          },
          "metadata": {},
          "execution_count": 15
        }
      ]
    },
    {
      "cell_type": "markdown",
      "metadata": {
        "id": "ySN0tMF5CUC0"
      },
      "source": [
        "La precisión que obtiene con los datos de entrenamiento es:"
      ]
    },
    {
      "cell_type": "code",
      "metadata": {
        "colab": {
          "base_uri": "https://localhost:8080/"
        },
        "id": "FdXUuAdJCESw",
        "outputId": "b8beb3a8-298a-4ac1-93b4-f7a7912c6ddf"
      },
      "source": [
        "print(knn.score(X_train,y_train))"
      ],
      "execution_count": 16,
      "outputs": [
        {
          "output_type": "stream",
          "name": "stdout",
          "text": [
            "1.0\n"
          ]
        }
      ]
    },
    {
      "cell_type": "markdown",
      "metadata": {
        "id": "STTPy71qB2rl"
      },
      "source": [
        "Evaluamos la precisión de nuestro algoritmo en el conjunto de datos de test o validación"
      ]
    },
    {
      "cell_type": "code",
      "metadata": {
        "colab": {
          "base_uri": "https://localhost:8080/",
          "height": 300
        },
        "id": "c1IceVAiBwoK",
        "outputId": "177c4947-ab59-4156-9de0-b61e8e2e889b"
      },
      "source": [
        "#Check on the test set and visualize performance\n",
        "yhat=knn.predict(X_test)\n",
        "print (\"Ratio de aciertos: \", metrics.accuracy_score(yhat, y_test))\n",
        "plt.figure()\n",
        "plt.imshow(metrics.confusion_matrix(y_test, yhat), interpolation='nearest')\n",
        "plt.colorbar()\n"
      ],
      "execution_count": 17,
      "outputs": [
        {
          "output_type": "stream",
          "name": "stdout",
          "text": [
            "Ratio de aciertos:  0.9851576994434137\n"
          ]
        },
        {
          "output_type": "execute_result",
          "data": {
            "text/plain": [
              "<matplotlib.colorbar.Colorbar at 0x7f47455b95d0>"
            ]
          },
          "metadata": {},
          "execution_count": 17
        },
        {
          "output_type": "display_data",
          "data": {
            "image/png": "[encoded data removed]",
            "text/plain": [
              "<Figure size 432x288 with 2 Axes>"
            ]
          },
          "metadata": {
            "needs_background": "light"
          }
        }
      ]
    },
    {
      "cell_type": "markdown",
      "metadata": {
        "id": "x6QsCXtoCtDW"
      },
      "source": [
        "Como vemos, el resultado es bueno, pero peor que cuando evaluábamos sobre los propios datos de entrenamiento. Aunque pueda parecer que ésto es algo malo, en realidad no lo es. El algoritmo ha sido capaz de generalizar usando los datos de entrenamiento y ha conseguido predecir bien datos que no habia visto nunca."
      ]
    },
    {
      "cell_type": "markdown",
      "metadata": {
        "id": "qKns7f7ACwhA"
      },
      "source": [
        "Como el corte para separar datos de entrenamiento y datos de evaluación es aleatorio, cada vez que ejecutemos el algoritmo el resultado será un poco distinto. Lo que podemos hacer es ejecutar diez veces el algoritmo sobre los datos, cortando cada vez por un sitio distinto. Después, hacemos la media de los scores."
      ]
    },
    {
      "cell_type": "code",
      "metadata": {
        "id": "oGsyiqrVDEyW"
      },
      "source": [
        "from sklearn.model_selection import train_test_split\n",
        "from sklearn import metrics"
      ],
      "execution_count": 18,
      "outputs": []
    },
    {
      "cell_type": "code",
      "metadata": {
        "colab": {
          "base_uri": "https://localhost:8080/"
        },
        "id": "Ir7On1vOC3rQ",
        "outputId": "58e19564-7415-4197-9870-463dc96bb792"
      },
      "source": [
        "splitting = 0.7\n",
        "acc=np.zeros((10,))\n",
        "for i in range(10):\n",
        "    X_train, X_test, y_train, y_test = train_test_split(X, y, train_size=splitting)\n",
        "    knn = neighbors.KNeighborsClassifier()\n",
        "    knn.fit(X_train,y_train)\n",
        "    yhat=knn.predict(X_test)\n",
        "    acc[i] = metrics.accuracy_score(yhat, y_test)\n",
        "    print (i,acc[i])\n",
        "print (\"Score medio: \" + str(np.mean(acc[0])))\n"
      ],
      "execution_count": 19,
      "outputs": [
        {
          "output_type": "stream",
          "name": "stdout",
          "text": [
            "0 0.9851851851851852\n",
            "1 0.9777777777777777\n",
            "2 0.9777777777777777\n",
            "3 0.9777777777777777\n",
            "4 0.987037037037037\n",
            "5 0.9851851851851852\n",
            "6 0.9777777777777777\n",
            "7 0.987037037037037\n",
            "8 0.9962962962962963\n",
            "9 0.9777777777777777\n",
            "Score medio: 0.9851851851851852\n"
          ]
        }
      ]
    },
    {
      "cell_type": "markdown",
      "metadata": {
        "id": "TSabyfDADkkQ"
      },
      "source": [
        "##Selección del mejor modelo\n",
        "##Validación cruzada (Cross-Validation)\n",
        "Usando el error en los datos desconocidos podemos seleccionar que modelo ajusta mejor nuestros datos. A esto se le llama validación cruzada (cross-validation).\n",
        "Vamos a probar tres algoritmos (k nearest neighbours, support vector machine y árboles de decisión). Probaremos cada algoritmo 10 veces y mostraremos un diagrama de cajas con los resultados. Todos los algoritmos usaran los mismos datos para entrenar y para evaluar.\n"
      ]
    },
    {
      "cell_type": "code",
      "metadata": {
        "id": "FT0gnzUaDAhT"
      },
      "source": [
        "from sklearn.model_selection import train_test_split\n",
        "from sklearn import neighbors\n",
        "from sklearn import tree\n",
        "from sklearn import svm\n",
        "from sklearn import metrics\n",
        "import matplotlib.pyplot as plt\n",
        "import numpy as np\n",
        "from sklearn import datasets"
      ],
      "execution_count": 20,
      "outputs": []
    },
    {
      "cell_type": "code",
      "metadata": {
        "colab": {
          "base_uri": "https://localhost:8080/",
          "height": 283
        },
        "id": "LgIWSggjD2a7",
        "outputId": "de5abc90-2c7f-4d7b-b5bc-a674236a3b25"
      },
      "source": [
        "digits = datasets.load_digits()\n",
        "X, y = digits.data, digits.target\n",
        "\n",
        "splitting = 0.7\n",
        "acc_cr=np.zeros((10,3))\n",
        "for i in range(10):\n",
        "    X_train, X_test, y_train, y_test = train_test_split(X, y, train_size=splitting)\n",
        "    knn = neighbors.KNeighborsClassifier()\n",
        "    svc = svm.SVC()\n",
        "    dt = tree.DecisionTreeClassifier()\n",
        "    \n",
        "    knn.fit(X_train,y_train)\n",
        "    svc.fit(X_train,y_train)\n",
        "    dt.fit(X_train,y_train)\n",
        "    \n",
        "    yhat_knn=knn.predict(X_test)\n",
        "    yhat_svc=svc.predict(X_test)\n",
        "    yhat_dt=dt.predict(X_test)\n",
        "    \n",
        "    acc_cr[i][0] = metrics.accuracy_score(yhat_knn, y_test)\n",
        "    acc_cr[i][1] = metrics.accuracy_score(yhat_svc, y_test)\n",
        "    acc_cr[i][2] = metrics.accuracy_score(yhat_dt, y_test)\n",
        "\n",
        "\n",
        "plt.boxplot(acc_cr);\n",
        "\n",
        "ax = plt.gca()\n",
        "ax.set_xticklabels(['KNN','SVM','Arboles de decision'])\n"
      ],
      "execution_count": 21,
      "outputs": [
        {
          "output_type": "execute_result",
          "data": {
            "text/plain": [
              "[Text(0, 0, 'KNN'), Text(0, 0, 'SVM'), Text(0, 0, 'Arboles de decision')]"
            ]
          },
          "metadata": {},
          "execution_count": 21
        },
        {
          "output_type": "display_data",
          "data": {
            "image/png": "[encoded data removed]",
            "text/plain": [
              "<Figure size 432x288 with 1 Axes>"
            ]
          },
          "metadata": {
            "needs_background": "light"
          }
        }
      ]
    },
    {
      "cell_type": "markdown",
      "metadata": {
        "id": "RLUvxIyFEEH4"
      },
      "source": [
        "Como vemos, para este problema, el algoritmo que mejor funciona es KNN, ya que es el que tiene el score medio más alto de los algoritmos probados. Existen otras formas de seleccionar el mejor modelo."
      ]
    },
    {
      "cell_type": "markdown",
      "metadata": {
        "id": "ZoGtk_4cEPTz"
      },
      "source": [
        "##Validación cruzada de K iteraciones (K-fold cross validation)\n",
        "En este caso los datos de entrenamiento se dividen en K trozos que no se superponen. Todos los trozos menos uno se usan para entrenamiento y el último para la evaluación. Este proceso se repite K veces, dejando para evaluación cada vez un trozo distinto. El score final es promediado.\n"
      ]
    },
    {
      "cell_type": "code",
      "metadata": {
        "colab": {
          "base_uri": "https://localhost:8080/",
          "height": 282
        },
        "id": "RTuTZYWqEXBS",
        "outputId": "7d648333-f6f2-4f19-eec8-72a42b254f29"
      },
      "source": [
        "from sklearn.model_selection import KFold\n",
        "acc_kf = np.zeros((10,3))\n",
        "kf=KFold(n_splits=10, shuffle=True, random_state=0)\n",
        "i=0\n",
        "for train_index, test_index in kf.split(X):\n",
        "    X_train, X_test = X[train_index], X[test_index]\n",
        "    y_train, y_test = y[train_index], y[test_index]\n",
        "    \n",
        "    knn = neighbors.KNeighborsClassifier()\n",
        "    svc = svm.SVC()\n",
        "    dt = tree.DecisionTreeClassifier()\n",
        "    \n",
        "    knn.fit(X_train,y_train)\n",
        "    svc.fit(X_train,y_train)\n",
        "    dt.fit(X_train,y_train)\n",
        "    \n",
        "    yhat_knn=knn.predict(X_test)\n",
        "    yhat_svc=svc.predict(X_test)\n",
        "    yhat_dt=dt.predict(X_test)\n",
        "    \n",
        "    acc_kf[i][0] = metrics.accuracy_score(yhat_knn, y_test)\n",
        "    acc_kf[i][1] = metrics.accuracy_score(yhat_svc, y_test)\n",
        "    acc_kf[i][2] = metrics.accuracy_score(yhat_dt, y_test)\n",
        "    i=i+1\n",
        "    \n",
        "\n",
        "plt.boxplot(acc_kf);\n",
        "ax = plt.gca()\n",
        "ax.set_xticklabels(['KNN','SVM','Arboles de decision'])\n"
      ],
      "execution_count": 22,
      "outputs": [
        {
          "output_type": "execute_result",
          "data": {
            "text/plain": [
              "[Text(0, 0, 'KNN'), Text(0, 0, 'SVM'), Text(0, 0, 'Arboles de decision')]"
            ]
          },
          "metadata": {},
          "execution_count": 22
        },
        {
          "output_type": "display_data",
          "data": {
            "image/png": "[encoded data removed]",
            "text/plain": [
              "<Figure size 432x288 with 1 Axes>"
            ]
          },
          "metadata": {
            "needs_background": "light"
          }
        }
      ]
    },
    {
      "cell_type": "markdown",
      "metadata": {
        "id": "3ZYF8WzBGoZ-"
      },
      "source": [
        "##Validación cruzada dejando uno fuera (Leave-one-out cross-validation)\n",
        "En este caso, dados N datos para entrenar el modelo, éste se entrena con N-1 datos y se evalúa con el que queda. Este proceso se repite N veces usando cada vez un dato distinto para evaluar y promedio los resultados. Como este entrenamiento es más intensivo que los anterioes en cuanto a número de operaciones, vamos a usar una parte de los datos y no todos.\n"
      ]
    },
    {
      "cell_type": "code",
      "metadata": {
        "colab": {
          "base_uri": "https://localhost:8080/",
          "height": 357
        },
        "id": "rMR59XwFGxk6",
        "outputId": "211daa75-bb87-47b5-fae8-5995e9b6bfe6"
      },
      "source": [
        "from sklearn.model_selection import LeaveOneOut\n",
        "X_reduced=X[:600]\n",
        "y_reduced=y[:600]\n",
        "acc_loo = np.zeros((y.shape[0],3))\n",
        "loo = LeaveOneOut()\n",
        "i=0\n",
        "for train_index, test_index in loo.split(X_reduced):\n",
        "    #X_train, X_test = X[train_index], X[test_index]\n",
        "    #y_train, y_test = y[train_index], y[test_index]\n",
        "\n",
        "    X_train, X_test = X_reduced[train_index], X_reduced[test_index]\n",
        "    y_train, y_test = y_reduced[train_index], y_reduced[test_index]\n",
        "    \n",
        "    knn = neighbors.KNeighborsClassifier()\n",
        "    svc = svm.SVC()\n",
        "    dt = tree.DecisionTreeClassifier()\n",
        "    \n",
        "    knn.fit(X_train,y_train)\n",
        "    svc.fit(X_train,y_train)\n",
        "    dt.fit(X_train,y_train)\n",
        "    \n",
        "    yhat_knn=knn.predict(X_test)\n",
        "    yhat_svc=svc.predict(X_test)\n",
        "    yhat_dt=dt.predict(X_test)\n",
        "    \n",
        "    acc_loo[i][0] = metrics.accuracy_score(yhat_knn, y_test)\n",
        "    acc_loo[i][1] = metrics.accuracy_score(yhat_svc, y_test)\n",
        "    acc_loo[i][2] = metrics.accuracy_score(yhat_dt, y_test)\n",
        "    i=i+1\n",
        "    \n",
        "    \n",
        "print (\"Ratio de aciertos: \\n\", \\\n",
        "\"KNN: \", (sum(acc_loo)/acc_loo.shape[0])[0], \"\\n\",\\\n",
        "\"SVM: \", (sum(acc_loo)/acc_loo.shape[0])[1],  \"\\n\",\\\n",
        "\"Arboles de decision: \", (sum(acc_loo)/acc_loo.shape[0])[2]\n",
        ")\n",
        "plt.boxplot(acc_loo);\n",
        "ax = plt.gca()\n",
        "ax.set_ylim(-3, 3)\n",
        "ax.set_xticklabels(['KNN','SVM','Arboles de decision'])\n"
      ],
      "execution_count": 23,
      "outputs": [
        {
          "output_type": "stream",
          "name": "stdout",
          "text": [
            "Ratio de aciertos: \n",
            " KNN:  0.330550918196995 \n",
            " SVM:  0.3299944351697273 \n",
            " Arboles de decision:  0.2760155815247635\n"
          ]
        },
        {
          "output_type": "execute_result",
          "data": {
            "text/plain": [
              "[Text(0, 0, 'KNN'), Text(0, 0, 'SVM'), Text(0, 0, 'Arboles de decision')]"
            ]
          },
          "metadata": {},
          "execution_count": 23
        },
        {
          "output_type": "display_data",
          "data": {
            "image/png": "[encoded data removed]",
            "text/plain": [
              "<Figure size 432x288 with 1 Axes>"
            ]
          },
          "metadata": {
            "needs_background": "light"
          }
        }
      ]
    },
    {
      "cell_type": "markdown",
      "metadata": {
        "id": "ak5-rFe8Idxr"
      },
      "source": [
        "En este caso, hacer la gráfica tiene menos sentido, ya que en cada evaluación completa, solo se prueba con un dato, lo que nos dará un 1 o un 0 en función de si lo ha clasificado bien o no. Repetido este proceso N veces, obtienes una lista de unos y ceros, de los que solo se puede sacar la media y no intervalos de confianza. La única información que aporta la gráfica es indicarnos si la mediana es cero o uno (lo que cuál no es de gran ayuda). Por este motivo, para esta forma de entrenamiento, hemos calculado el ratio de aciertos, con el resultado de que KNN es el algoritmo que mejor funciona para este problema."
      ]
    },
    {
      "cell_type": "code",
      "metadata": {
        "id": "fLPiu2E7HMMk"
      },
      "source": [
        ""
      ],
      "execution_count": 23,
      "outputs": []
    }
  ]
}