{
  "nbformat": 4,
  "nbformat_minor": 0,
  "metadata": {
    "colab": {
      "name": "2_a_ML_Ejemplo_Clusterizacion_alumnos .ipynb",
      "provenance": [],
      "authorship_tag": "ABX9TyOGN42zlS7CsL9DTRrmgP+z",
      "include_colab_link": true
    },
    "kernelspec": {
      "name": "python3",
      "display_name": "Python 3"
    },
    "language_info": {
      "name": "python"
    }
  },
  "cells": [
    {
      "cell_type": "markdown",
      "metadata": {
        "id": "view-in-github",
        "colab_type": "text"
      },
      "source": [
        "<a href=\"https://colab.research.google.com/github/alberto1971/Curso-de-introduccion-a-Big-Data-Parte-3-nov2021/blob/main/2_a_ML_Ejemplo_Clusterizacion_alumnos_.ipynb\" target=\"_parent\"><img src=\"https://colab.research.google.com/assets/colab-badge.svg\" alt=\"Open In Colab\"/></a>"
      ]
    },
    {
      "cell_type": "code",
      "metadata": {
        "id": "KvDhtISU4K6Q"
      },
      "source": [
        "import numpy as np\n",
        "import pandas as pd\n",
        "import matplotlib.pyplot as plt\n",
        "from sklearn.cluster import KMeans"
      ],
      "execution_count": 366,
      "outputs": []
    },
    {
      "cell_type": "code",
      "metadata": {
        "id": "S9NTimoQHIES"
      },
      "source": [
        "n_alumnos = 60"
      ],
      "execution_count": 367,
      "outputs": []
    },
    {
      "cell_type": "code",
      "metadata": {
        "colab": {
          "base_uri": "https://localhost:8080/"
        },
        "id": "tl6NhqFi4a4p",
        "outputId": "a6172bca-ce06-4b5c-9ff8-c6e6301d7d74"
      },
      "source": [
        "Lengua=5+5*(np.random.rand(n_alumnos))\n",
        "Lengua"
      ],
      "execution_count": 368,
      "outputs": [
        {
          "output_type": "execute_result",
          "data": {
            "text/plain": [
              "array([6.81866055, 5.01101465, 7.16575911, 5.61179157, 9.51800957,\n",
              "       6.35719391, 8.15856028, 7.00150206, 7.8934881 , 8.15385172,\n",
              "       6.66798771, 8.74515389, 9.21491745, 6.09870523, 7.24341624,\n",
              "       8.88076277, 8.91784464, 8.31142476, 7.79058896, 7.17063856,\n",
              "       6.87458369, 6.82680437, 6.14821733, 5.24413413, 6.69767494,\n",
              "       6.9972865 , 7.05674346, 5.26905   , 8.3666845 , 9.06755405,\n",
              "       7.43933021, 5.9934794 , 9.39212894, 5.82223983, 9.19527559,\n",
              "       7.5992109 , 5.59898724, 8.19471142, 6.14335656, 6.26371773,\n",
              "       8.24216801, 5.611978  , 9.07872865, 6.17245486, 8.42226858,\n",
              "       8.78656012, 7.74343507, 5.57382341, 8.91611361, 9.95694845,\n",
              "       6.89798774, 5.83241559, 8.92881894, 5.83912778, 6.12595706,\n",
              "       7.05730081, 8.30966882, 6.16009205, 7.54575298, 9.16570489])"
            ]
          },
          "metadata": {},
          "execution_count": 368
        }
      ]
    },
    {
      "cell_type": "code",
      "metadata": {
        "colab": {
          "base_uri": "https://localhost:8080/"
        },
        "id": "Xa_RlqIe4h6o",
        "outputId": "cb829100-8868-4b9b-d32b-7d48bd55eaa8"
      },
      "source": [
        "Matematicas=5+5*(np.random.rand(n_alumnos))\n",
        "Matematicas"
      ],
      "execution_count": 369,
      "outputs": [
        {
          "output_type": "execute_result",
          "data": {
            "text/plain": [
              "array([8.47161841, 5.24826616, 6.20346628, 9.99940274, 6.60464986,\n",
              "       6.4115937 , 7.38587346, 7.76379922, 9.81444698, 8.94713118,\n",
              "       9.17258657, 9.2806466 , 8.03351189, 9.02349406, 5.00875172,\n",
              "       6.2562725 , 9.10832842, 6.90892283, 8.21401916, 5.82000544,\n",
              "       5.66841115, 8.78678052, 6.69743049, 9.05592605, 9.55365001,\n",
              "       9.71085486, 6.17880429, 5.78584478, 8.16479684, 6.86447062,\n",
              "       9.93380842, 7.38034196, 9.07143516, 6.52518367, 8.58660637,\n",
              "       9.28709474, 8.49579931, 7.85363058, 7.95356128, 8.41917247,\n",
              "       5.52560652, 5.04730122, 9.2033941 , 5.64740972, 5.4073047 ,\n",
              "       6.60307719, 7.06448226, 6.91042867, 9.96118965, 8.35078214,\n",
              "       6.9179681 , 7.13342141, 6.53524695, 9.21888354, 8.44474378,\n",
              "       5.68290301, 5.21631611, 7.42029897, 9.54824968, 6.95188957])"
            ]
          },
          "metadata": {},
          "execution_count": 369
        }
      ]
    },
    {
      "cell_type": "code",
      "metadata": {
        "colab": {
          "base_uri": "https://localhost:8080/",
          "height": 459
        },
        "id": "dZHiLWRi49zq",
        "outputId": "b4336c0d-fdd6-4aff-9931-2b2d5453aede"
      },
      "source": [
        "plt.figure(figsize=(7,7))\n",
        "plt.scatter(Lengua, Matematicas)\n",
        "plt.grid()\n",
        "plt.xlabel('Lengua')\n",
        "plt.ylabel('Matemáticas')"
      ],
      "execution_count": 370,
      "outputs": [
        {
          "output_type": "execute_result",
          "data": {
            "text/plain": [
              "Text(0, 0.5, 'Matemáticas')"
            ]
          },
          "metadata": {},
          "execution_count": 370
        },
        {
          "output_type": "display_data",
          "data": {
            "image/png": "[encoded data removed]",
            "text/plain": [
              "<Figure size 504x504 with 1 Axes>"
            ]
          },
          "metadata": {
            "needs_background": "light"
          }
        }
      ]
    },
    {
      "cell_type": "code",
      "metadata": {
        "colab": {
          "base_uri": "https://localhost:8080/"
        },
        "id": "ewWzDI3L7VOv",
        "outputId": "30e038c3-4d1e-4633-8794-71f061937c59"
      },
      "source": [
        "np.arange(1,n_alumnos+1)"
      ],
      "execution_count": 371,
      "outputs": [
        {
          "output_type": "execute_result",
          "data": {
            "text/plain": [
              "array([ 1,  2,  3,  4,  5,  6,  7,  8,  9, 10, 11, 12, 13, 14, 15, 16, 17,\n",
              "       18, 19, 20, 21, 22, 23, 24, 25, 26, 27, 28, 29, 30, 31, 32, 33, 34,\n",
              "       35, 36, 37, 38, 39, 40, 41, 42, 43, 44, 45, 46, 47, 48, 49, 50, 51,\n",
              "       52, 53, 54, 55, 56, 57, 58, 59, 60])"
            ]
          },
          "metadata": {},
          "execution_count": 371
        }
      ]
    },
    {
      "cell_type": "code",
      "metadata": {
        "id": "pvzXopsw8Oph"
      },
      "source": [
        "X=pd.DataFrame(index=np.arange(1,n_alumnos+1))"
      ],
      "execution_count": 372,
      "outputs": []
    },
    {
      "cell_type": "code",
      "metadata": {
        "id": "IzZ9ZKOG8U03"
      },
      "source": [
        "X['Lengua']=Lengua"
      ],
      "execution_count": 373,
      "outputs": []
    },
    {
      "cell_type": "code",
      "metadata": {
        "id": "s0Vsowpw8fol"
      },
      "source": [
        "X['Matemáticas']=Matematicas"
      ],
      "execution_count": 374,
      "outputs": []
    },
    {
      "cell_type": "code",
      "metadata": {
        "colab": {
          "base_uri": "https://localhost:8080/",
          "height": 203
        },
        "id": "dsxqwVe_85W6",
        "outputId": "6f6bd3c3-f797-4591-f7f8-7eb99a90b8b1"
      },
      "source": [
        "X.head()"
      ],
      "execution_count": 375,
      "outputs": [
        {
          "output_type": "execute_result",
          "data": {
            "text/html": [
              "<div>\n",
              "<style scoped>\n",
              "    .dataframe tbody tr th:only-of-type {\n",
              "        vertical-align: middle;\n",
              "    }\n",
              "\n",
              "    .dataframe tbody tr th {\n",
              "        vertical-align: top;\n",
              "    }\n",
              "\n",
              "    .dataframe thead th {\n",
              "        text-align: right;\n",
              "    }\n",
              "</style>\n",
              "<table border=\"1\" class=\"dataframe\">\n",
              "  <thead>\n",
              "    <tr style=\"text-align: right;\">\n",
              "      <th></th>\n",
              "      <th>Lengua</th>\n",
              "      <th>Matemáticas</th>\n",
              "    </tr>\n",
              "  </thead>\n",
              "  <tbody>\n",
              "    <tr>\n",
              "      <th>1</th>\n",
              "      <td>6.818661</td>\n",
              "      <td>8.471618</td>\n",
              "    </tr>\n",
              "    <tr>\n",
              "      <th>2</th>\n",
              "      <td>5.011015</td>\n",
              "      <td>5.248266</td>\n",
              "    </tr>\n",
              "    <tr>\n",
              "      <th>3</th>\n",
              "      <td>7.165759</td>\n",
              "      <td>6.203466</td>\n",
              "    </tr>\n",
              "    <tr>\n",
              "      <th>4</th>\n",
              "      <td>5.611792</td>\n",
              "      <td>9.999403</td>\n",
              "    </tr>\n",
              "    <tr>\n",
              "      <th>5</th>\n",
              "      <td>9.518010</td>\n",
              "      <td>6.604650</td>\n",
              "    </tr>\n",
              "  </tbody>\n",
              "</table>\n",
              "</div>"
            ],
            "text/plain": [
              "     Lengua  Matemáticas\n",
              "1  6.818661     8.471618\n",
              "2  5.011015     5.248266\n",
              "3  7.165759     6.203466\n",
              "4  5.611792     9.999403\n",
              "5  9.518010     6.604650"
            ]
          },
          "metadata": {},
          "execution_count": 375
        }
      ]
    },
    {
      "cell_type": "code",
      "metadata": {
        "id": "1PeG8E7IJmix"
      },
      "source": [
        "X.to_excel('sample_data/notas_alumnos.xlsx')"
      ],
      "execution_count": 376,
      "outputs": []
    },
    {
      "cell_type": "code",
      "metadata": {
        "id": "rq28ERxUKQTx"
      },
      "source": [
        "X=pd.read_excel('sample_data/notas_alumnos.xlsx', index_col=0)"
      ],
      "execution_count": 377,
      "outputs": []
    },
    {
      "cell_type": "code",
      "metadata": {
        "colab": {
          "base_uri": "https://localhost:8080/",
          "height": 203
        },
        "id": "kSDZ2QHmKWad",
        "outputId": "42168331-d64c-4d10-9536-cccf8c620563"
      },
      "source": [
        "X.head()"
      ],
      "execution_count": 378,
      "outputs": [
        {
          "output_type": "execute_result",
          "data": {
            "text/html": [
              "<div>\n",
              "<style scoped>\n",
              "    .dataframe tbody tr th:only-of-type {\n",
              "        vertical-align: middle;\n",
              "    }\n",
              "\n",
              "    .dataframe tbody tr th {\n",
              "        vertical-align: top;\n",
              "    }\n",
              "\n",
              "    .dataframe thead th {\n",
              "        text-align: right;\n",
              "    }\n",
              "</style>\n",
              "<table border=\"1\" class=\"dataframe\">\n",
              "  <thead>\n",
              "    <tr style=\"text-align: right;\">\n",
              "      <th></th>\n",
              "      <th>Lengua</th>\n",
              "      <th>Matemáticas</th>\n",
              "    </tr>\n",
              "  </thead>\n",
              "  <tbody>\n",
              "    <tr>\n",
              "      <th>1</th>\n",
              "      <td>6.818661</td>\n",
              "      <td>8.471618</td>\n",
              "    </tr>\n",
              "    <tr>\n",
              "      <th>2</th>\n",
              "      <td>5.011015</td>\n",
              "      <td>5.248266</td>\n",
              "    </tr>\n",
              "    <tr>\n",
              "      <th>3</th>\n",
              "      <td>7.165759</td>\n",
              "      <td>6.203466</td>\n",
              "    </tr>\n",
              "    <tr>\n",
              "      <th>4</th>\n",
              "      <td>5.611792</td>\n",
              "      <td>9.999403</td>\n",
              "    </tr>\n",
              "    <tr>\n",
              "      <th>5</th>\n",
              "      <td>9.518010</td>\n",
              "      <td>6.604650</td>\n",
              "    </tr>\n",
              "  </tbody>\n",
              "</table>\n",
              "</div>"
            ],
            "text/plain": [
              "     Lengua  Matemáticas\n",
              "1  6.818661     8.471618\n",
              "2  5.011015     5.248266\n",
              "3  7.165759     6.203466\n",
              "4  5.611792     9.999403\n",
              "5  9.518010     6.604650"
            ]
          },
          "metadata": {},
          "execution_count": 378
        }
      ]
    },
    {
      "cell_type": "code",
      "metadata": {
        "colab": {
          "base_uri": "https://localhost:8080/",
          "height": 442
        },
        "id": "bWAAoJIp6h9G",
        "outputId": "5ba496bf-4380-48af-fe01-091cdc88967f"
      },
      "source": [
        "plt.figure(figsize=(7,7))\n",
        "plt.scatter(X['Lengua'],X['Matemáticas'], s=60)\n",
        "plt.grid()\n",
        "plt.xlabel('Lengua')\n",
        "plt.ylabel('Matemáticas')\n",
        "for i in range(len(X)):\n",
        "  plt.text(X['Lengua'].iloc[i], X['Matemáticas'].iloc[i], s=str(i+1), ha='left', va='bottom')"
      ],
      "execution_count": 379,
      "outputs": [
        {
          "output_type": "display_data",
          "data": {
            "image/png": "[encoded data removed]",
            "text/plain": [
              "<Figure size 504x504 with 1 Axes>"
            ]
          },
          "metadata": {
            "needs_background": "light"
          }
        }
      ]
    },
    {
      "cell_type": "code",
      "metadata": {
        "colab": {
          "base_uri": "https://localhost:8080/"
        },
        "id": "_A3639UD5V5m",
        "outputId": "bd66c92e-2f05-4892-bc17-fe5f825425d6"
      },
      "source": [
        "n_grupos = 3\n",
        "\n",
        "kmeans = KMeans(n_clusters=n_grupos, random_state=42)\n",
        "kmeans.fit(X)"
      ],
      "execution_count": 380,
      "outputs": [
        {
          "output_type": "execute_result",
          "data": {
            "text/plain": [
              "KMeans(algorithm='auto', copy_x=True, init='k-means++', max_iter=300,\n",
              "       n_clusters=3, n_init=10, n_jobs=None, precompute_distances='auto',\n",
              "       random_state=42, tol=0.0001, verbose=0)"
            ]
          },
          "metadata": {},
          "execution_count": 380
        }
      ]
    },
    {
      "cell_type": "code",
      "metadata": {
        "id": "F4cQkis4-X-c"
      },
      "source": [
        "X_clasificado = X.copy()\n",
        "X_clasificado['Grupo'] = kmeans.labels_"
      ],
      "execution_count": 381,
      "outputs": []
    },
    {
      "cell_type": "code",
      "metadata": {
        "colab": {
          "base_uri": "https://localhost:8080/",
          "height": 203
        },
        "id": "Xv235z59-lbJ",
        "outputId": "aef7c307-ff94-470f-eeb6-933f1c77ab78"
      },
      "source": [
        "X_clasificado.head()"
      ],
      "execution_count": 382,
      "outputs": [
        {
          "output_type": "execute_result",
          "data": {
            "text/html": [
              "<div>\n",
              "<style scoped>\n",
              "    .dataframe tbody tr th:only-of-type {\n",
              "        vertical-align: middle;\n",
              "    }\n",
              "\n",
              "    .dataframe tbody tr th {\n",
              "        vertical-align: top;\n",
              "    }\n",
              "\n",
              "    .dataframe thead th {\n",
              "        text-align: right;\n",
              "    }\n",
              "</style>\n",
              "<table border=\"1\" class=\"dataframe\">\n",
              "  <thead>\n",
              "    <tr style=\"text-align: right;\">\n",
              "      <th></th>\n",
              "      <th>Lengua</th>\n",
              "      <th>Matemáticas</th>\n",
              "      <th>Grupo</th>\n",
              "    </tr>\n",
              "  </thead>\n",
              "  <tbody>\n",
              "    <tr>\n",
              "      <th>1</th>\n",
              "      <td>6.818661</td>\n",
              "      <td>8.471618</td>\n",
              "      <td>2</td>\n",
              "    </tr>\n",
              "    <tr>\n",
              "      <th>2</th>\n",
              "      <td>5.011015</td>\n",
              "      <td>5.248266</td>\n",
              "      <td>0</td>\n",
              "    </tr>\n",
              "    <tr>\n",
              "      <th>3</th>\n",
              "      <td>7.165759</td>\n",
              "      <td>6.203466</td>\n",
              "      <td>0</td>\n",
              "    </tr>\n",
              "    <tr>\n",
              "      <th>4</th>\n",
              "      <td>5.611792</td>\n",
              "      <td>9.999403</td>\n",
              "      <td>2</td>\n",
              "    </tr>\n",
              "    <tr>\n",
              "      <th>5</th>\n",
              "      <td>9.518010</td>\n",
              "      <td>6.604650</td>\n",
              "      <td>1</td>\n",
              "    </tr>\n",
              "  </tbody>\n",
              "</table>\n",
              "</div>"
            ],
            "text/plain": [
              "     Lengua  Matemáticas  Grupo\n",
              "1  6.818661     8.471618      2\n",
              "2  5.011015     5.248266      0\n",
              "3  7.165759     6.203466      0\n",
              "4  5.611792     9.999403      2\n",
              "5  9.518010     6.604650      1"
            ]
          },
          "metadata": {},
          "execution_count": 382
        }
      ]
    },
    {
      "cell_type": "code",
      "metadata": {
        "colab": {
          "base_uri": "https://localhost:8080/"
        },
        "id": "Mg343niA-m0M",
        "outputId": "04b3413e-5ae2-4759-fc30-11dee98a8ea2"
      },
      "source": [
        "X_clasificado['Grupo'].value_counts().sort_index()"
      ],
      "execution_count": 383,
      "outputs": [
        {
          "output_type": "execute_result",
          "data": {
            "text/plain": [
              "0    21\n",
              "1    21\n",
              "2    18\n",
              "Name: Grupo, dtype: int64"
            ]
          },
          "metadata": {},
          "execution_count": 383
        }
      ]
    },
    {
      "cell_type": "code",
      "metadata": {
        "colab": {
          "base_uri": "https://localhost:8080/",
          "height": 477
        },
        "id": "S3TxpBV_-2qw",
        "outputId": "dc4ee644-5032-4be9-e377-459f24b68bc9"
      },
      "source": [
        "plt.figure(figsize=(7,7))\n",
        "plt.scatter(X_clasificado['Lengua'],X_clasificado['Matemáticas'],c=X_clasificado['Grupo'], s=60)\n",
        "plt.grid()\n",
        "plt.xlabel('Lengua')\n",
        "plt.ylabel('Matemáticas')\n",
        "for i in range(len(X_clasificado)):\n",
        "  plt.text(X_clasificado['Lengua'].iloc[i], X_clasificado['Matemáticas'].iloc[i], s=str(i+1), ha='left', va='bottom')\n",
        "plt.legend()"
      ],
      "execution_count": 384,
      "outputs": [
        {
          "output_type": "stream",
          "name": "stderr",
          "text": [
            "No handles with labels found to put in legend.\n"
          ]
        },
        {
          "output_type": "execute_result",
          "data": {
            "text/plain": [
              "<matplotlib.legend.Legend at 0x7f3c5abd2ed0>"
            ]
          },
          "metadata": {},
          "execution_count": 384
        },
        {
          "output_type": "display_data",
          "data": {
            "image/png": "[encoded data removed]",
            "text/plain": [
              "<Figure size 504x504 with 1 Axes>"
            ]
          },
          "metadata": {
            "needs_background": "light"
          }
        }
      ]
    },
    {
      "cell_type": "code",
      "metadata": {
        "colab": {
          "base_uri": "https://localhost:8080/"
        },
        "id": "i3PMi0iz_d52",
        "outputId": "ff861c2e-921d-4f91-f711-23a53b4694b0"
      },
      "source": [
        "kmeans.score(X)"
      ],
      "execution_count": 385,
      "outputs": [
        {
          "output_type": "execute_result",
          "data": {
            "text/plain": [
              "-79.51904635106217"
            ]
          },
          "metadata": {},
          "execution_count": 385
        }
      ]
    },
    {
      "cell_type": "code",
      "metadata": {
        "colab": {
          "base_uri": "https://localhost:8080/"
        },
        "id": "OMxSJhcnDOga",
        "outputId": "685f9088-1c5a-4b86-87d0-0d1029edda1c"
      },
      "source": [
        "scores=[]\n",
        "for k in range(2,8):\n",
        "  kmeans= KMeans(n_clusters=k, random_state=42)\n",
        "  kmeans.fit(X)\n",
        "  scores.append([k,kmeans.score(X)])\n",
        "scores"
      ],
      "execution_count": 386,
      "outputs": [
        {
          "output_type": "execute_result",
          "data": {
            "text/plain": [
              "[[2, -129.29391570836447],\n",
              " [3, -79.51904635106217],\n",
              " [4, -52.23201832175893],\n",
              " [5, -43.02915026704878],\n",
              " [6, -34.99123547043439],\n",
              " [7, -27.86280137470898]]"
            ]
          },
          "metadata": {},
          "execution_count": 386
        }
      ]
    },
    {
      "cell_type": "code",
      "metadata": {
        "colab": {
          "base_uri": "https://localhost:8080/",
          "height": 265
        },
        "id": "9Pu3fU2ZD9qx",
        "outputId": "245272f9-3ca7-48ed-9ed0-931df71f8bd9"
      },
      "source": [
        "score=pd.DataFrame(scores)\n",
        "plt.plot(score.iloc[:,0],score.iloc[:,1],'-o')\n",
        "plt.grid()"
      ],
      "execution_count": 387,
      "outputs": [
        {
          "output_type": "display_data",
          "data": {
            "image/png": "[encoded data removed]",
            "text/plain": [
              "<Figure size 432x288 with 1 Axes>"
            ]
          },
          "metadata": {
            "needs_background": "light"
          }
        }
      ]
    },
    {
      "cell_type": "code",
      "metadata": {
        "id": "CJPcMTItLoXb"
      },
      "source": [
        "dic = {0:'A', 1:'B', 2:'C', 4:'D'}\n",
        "\n",
        "X_clasificado['Clase']=[dic.get(n, n) for n in X_clasificado['Grupo']]"
      ],
      "execution_count": 388,
      "outputs": []
    },
    {
      "cell_type": "code",
      "metadata": {
        "colab": {
          "base_uri": "https://localhost:8080/",
          "height": 203
        },
        "id": "z90GVg3gMLOp",
        "outputId": "de82452e-f206-44f8-b566-508e1df93526"
      },
      "source": [
        "X_clasificado = X_clasificado.drop('Grupo', axis=1)\n",
        "X_clasificado.head()"
      ],
      "execution_count": 389,
      "outputs": [
        {
          "output_type": "execute_result",
          "data": {
            "text/html": [
              "<div>\n",
              "<style scoped>\n",
              "    .dataframe tbody tr th:only-of-type {\n",
              "        vertical-align: middle;\n",
              "    }\n",
              "\n",
              "    .dataframe tbody tr th {\n",
              "        vertical-align: top;\n",
              "    }\n",
              "\n",
              "    .dataframe thead th {\n",
              "        text-align: right;\n",
              "    }\n",
              "</style>\n",
              "<table border=\"1\" class=\"dataframe\">\n",
              "  <thead>\n",
              "    <tr style=\"text-align: right;\">\n",
              "      <th></th>\n",
              "      <th>Lengua</th>\n",
              "      <th>Matemáticas</th>\n",
              "      <th>Clase</th>\n",
              "    </tr>\n",
              "  </thead>\n",
              "  <tbody>\n",
              "    <tr>\n",
              "      <th>1</th>\n",
              "      <td>6.818661</td>\n",
              "      <td>8.471618</td>\n",
              "      <td>C</td>\n",
              "    </tr>\n",
              "    <tr>\n",
              "      <th>2</th>\n",
              "      <td>5.011015</td>\n",
              "      <td>5.248266</td>\n",
              "      <td>A</td>\n",
              "    </tr>\n",
              "    <tr>\n",
              "      <th>3</th>\n",
              "      <td>7.165759</td>\n",
              "      <td>6.203466</td>\n",
              "      <td>A</td>\n",
              "    </tr>\n",
              "    <tr>\n",
              "      <th>4</th>\n",
              "      <td>5.611792</td>\n",
              "      <td>9.999403</td>\n",
              "      <td>C</td>\n",
              "    </tr>\n",
              "    <tr>\n",
              "      <th>5</th>\n",
              "      <td>9.518010</td>\n",
              "      <td>6.604650</td>\n",
              "      <td>B</td>\n",
              "    </tr>\n",
              "  </tbody>\n",
              "</table>\n",
              "</div>"
            ],
            "text/plain": [
              "     Lengua  Matemáticas Clase\n",
              "1  6.818661     8.471618     C\n",
              "2  5.011015     5.248266     A\n",
              "3  7.165759     6.203466     A\n",
              "4  5.611792     9.999403     C\n",
              "5  9.518010     6.604650     B"
            ]
          },
          "metadata": {},
          "execution_count": 389
        }
      ]
    },
    {
      "cell_type": "code",
      "metadata": {
        "id": "JiXrlimREJIN"
      },
      "source": [
        "X_clasificado.to_excel('sample_data/notas_alumnos_clasificado.xlsx')"
      ],
      "execution_count": 390,
      "outputs": []
    }
  ]
}