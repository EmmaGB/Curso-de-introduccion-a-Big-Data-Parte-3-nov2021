{
  "nbformat": 4,
  "nbformat_minor": 0,
  "metadata": {
    "anaconda-cloud": {},
    "kernelspec": {
      "display_name": "Python 3",
      "language": "python",
      "name": "python3"
    },
    "language_info": {
      "codemirror_mode": {
        "name": "ipython",
        "version": 3
      },
      "file_extension": ".py",
      "mimetype": "text/x-python",
      "name": "python",
      "nbconvert_exporter": "python",
      "pygments_lexer": "ipython3",
      "version": "3.6.4"
    },
    "colab": {
      "name": "PCA.ipynb",
      "provenance": [],
      "include_colab_link": true
    }
  },
  "cells": [
    {
      "cell_type": "markdown",
      "metadata": {
        "id": "view-in-github",
        "colab_type": "text"
      },
      "source": [
        "<a href=\"https://colab.research.google.com/github/alberto1971/Curso-de-introduccion-a-Big-Data-Parte-3-nov2021/blob/main/4_Reduccion_de_dimensiones_PCA.ipynb\" target=\"_parent\"><img src=\"https://colab.research.google.com/assets/colab-badge.svg\" alt=\"Open In Colab\"/></a>"
      ]
    },
    {
      "cell_type": "markdown",
      "metadata": {
        "id": "FTQsA_R4ZQ8e"
      },
      "source": [
        "<h1 style='color: blue;'>REDUCCION DE DIMENSIONALIDAD</h1>\n",
        "\n",
        "En este capitulo se introduce el algoritmo __*Principal Components Analysis*__ (PCA) y se ilustra su utilidad para la compresión de los datos. Se trata de un algoritmo de aprendizaje no supervisado que transforma los datos de entrada.\n",
        "\n",
        "La compresion de datos es interesante porque nos permite obtener mayor eficiencia en otros algoritmos (ahorro de memoria y aceleracion de calculos) y facilita la visualización de conjuntos de datos complejos o de muchas dimensiones."
      ]
    },
    {
      "cell_type": "markdown",
      "metadata": {
        "id": "s9tMd9PLZQ8f"
      },
      "source": [
        "# 0. Cargamos las librerías\n",
        "\n",
        "Cargamos todas las librerías de DataScience y configuramos matplot lib para que muestre las imagenes inline, ie. en la misma celda que la genera."
      ]
    },
    {
      "cell_type": "code",
      "metadata": {
        "id": "3ihx4V6mZQ8g"
      },
      "source": [
        "%matplotlib inline\n",
        "import matplotlib.pyplot as plt\n",
        "import numpy as np"
      ],
      "execution_count": 1,
      "outputs": []
    },
    {
      "cell_type": "markdown",
      "metadata": {
        "id": "ITqHZL_3ZQ8h"
      },
      "source": [
        "# 1. Cargamos los datos\n",
        "\n",
        "Para ilustrar este algoritmo, vamos a generar un conjunto de datos de dos variables, que están correlacionadas entre sí.\n",
        "\n",
        "Para ello generamos 100 datos en dos variables utilizando el generador de numpy de datos con distribución normal[normal](https://docs.scipy.org/doc/numpy/reference/generated/numpy.random.normal.html):"
      ]
    },
    {
      "cell_type": "code",
      "metadata": {
        "id": "cclP8MPnZQ8i",
        "outputId": "b1c1cd47-daaf-4bb7-f44a-52cfdd374ce5",
        "colab": {
          "base_uri": "https://localhost:8080/",
          "height": 531
        }
      },
      "source": [
        "rnd = np.random.RandomState(42) #It's the answer to Life, The Universe, and Everything from Douglas Adams' Hitchhiker's Guide to the Galaxy\n",
        "X_ = rnd.normal(size=(100, 2))\n",
        "\n",
        "#tranformamos los datos para correlacionarlos\n",
        "X_transf = np.array(np.array([[-0.47064751, -0.09790047], [ 1.88416925, -1.74263228]]))\n",
        "X_blob = np.dot(X_,X_transf)\n",
        "\n",
        "#los representamos en una gráfica\n",
        "fig = plt.figure(figsize=(8,8))\n",
        "ax = fig.add_subplot(1, 1, 1)\n",
        "\n",
        "ax.set_title(\"DATOS INICIALES\")\n",
        "ax.scatter(X_blob[:, 0], X_blob[:, 1],marker='x')\n",
        "ax.set_xlabel(\"x_1\")\n",
        "ax.set_ylabel(\"x_2\")"
      ],
      "execution_count": 2,
      "outputs": [
        {
          "output_type": "execute_result",
          "data": {
            "text/plain": [
              "Text(0, 0.5, 'x_2')"
            ]
          },
          "metadata": {},
          "execution_count": 2
        },
        {
          "output_type": "display_data",
          "data": {
            "image/png": "[encoded data removed]",
            "text/plain": [
              "<Figure size 576x576 with 1 Axes>"
            ]
          },
          "metadata": {
            "needs_background": "light"
          }
        }
      ]
    },
    {
      "cell_type": "markdown",
      "metadata": {
        "id": "IgyiBKkXZQ8j"
      },
      "source": [
        "Como puede verse tenemos un conjunto de datos con dos variables muy correlacionadas. Podríamos buscar la direccion en la que varían los datos y transformarlas variables para expresarlas en unos nuevos ejes de coordenadas.\n",
        "\n",
        "Los ejes de coordenadas que siguen las direcciones de la mayor variación son los que denominaremos los __*componentes principales*__. Si podemos expresar los datos en estos nuevos ejes, podemos incluso quedarnos con una de las componentes y así reducimos la información del conjunto de datos original.\n"
      ]
    },
    {
      "cell_type": "markdown",
      "metadata": {
        "id": "ArG4PcC3ZQ8j"
      },
      "source": [
        "# 3. Principal component analysis (PCA)\n",
        "\n",
        "Típicamente los datos de entrada tienen ya muchas variables y provienen de varias fuentes, por lo que suelen contener muchas correlaciones. Lo interesante es eliminar esa información redundante. Nuestro objetivo es reducir el numero de variables del conjunto de datos original, comprimir los datos intentando no perder información.\n",
        "\n",
        "Generamos el modelo PCA que tratará de encontrar la direccion de máxima variación y construir <u>__una superficie de menor dimensión sobre la que al proyectar los datos sobre ella el ERROR de PROYECCION es minimo__</u>\n"
      ]
    },
    {
      "cell_type": "markdown",
      "metadata": {
        "id": "wtEi0CJGZQ8k"
      },
      "source": [
        "## 3.1 El algoritmo\n",
        "\n",
        "En *SKLearn*, <a href='https://scikit-learn.org/stable/modules/generated/sklearn.decomposition.PCA.html#sklearn.decomposition.PCA'>PCA </a> es una clase de transformación que aprende sus componentes con el método *__.fit__* y puede utilizarse posteriormente para proyectar nuevos datos a los componentes principales entrenados con el método *__.transform__*.\n",
        "\n",
        "PCA utiliza el método de descomposición matricial que se denomina <a href='https://es.wikipedia.org/wiki/Descomposici%C3%B3n_en_valores_singulares'>*Descomposición de Valores Singulares* o *Singular Value Decomposition* (SVD)</a> para encontrar una base nueva base vectorial de menor dimension que la original y que sigue las direcciones de máxima variación de los datos originales.\n",
        "\n",
        "SVD es un método de descomposición de matrices similar a la descomposición en vectores y valores propios de las matrices cuadradas, solo que es más general y puede aplicarse a matrices de cualquier rango ($mxn$).\n",
        "\n",
        "<div class=\"alert alert-block alert-info\">Dada una matriz A $m x n$ de números reales podemos descomponerla en:<br>\n",
        "$A = U \\Sigma V^T$\n",
        "<br>\n",
        "donde:<br>\n",
        "- $U$ es una matriz cuadrada $m x m$ que contiene una base ortogonal de las columnas de $A$<br>\n",
        "- $S$ o también llamada $\\Sigma$ es una matriz diagonal $m x n$ con los valores singulares $s_i$<br>\n",
        "- y $V^T$ es la matriz transpuesta de $V$, matriz cuadrada $n x n$ que contiene una base ortogonal de las filas de $A$, o de las columnas de $A^T$\n",
        "</div>\n",
        "\n",
        "\n",
        "En python podemos hacer SVD con las librerías *Scipy* (<a href='https://docs.scipy.org/doc/scipy/reference/generated/scipy.sparse.linalg.svds.html'>referencia scipy.svd</a>), vamos a probarla:"
      ]
    },
    {
      "cell_type": "code",
      "metadata": {
        "id": "eKSR4daRZQ8l",
        "outputId": "69a659eb-847a-45da-e9ff-6684f63248bf",
        "colab": {
          "base_uri": "https://localhost:8080/"
        }
      },
      "source": [
        "from scipy.linalg import svd\n",
        "\n",
        "# definimos una matrizcon distribucion normal m=10 n=2 RandomState=42 (m datos de n dimensiones)\n",
        "rnd = np.random.RandomState(42) \n",
        "X1_ = rnd.normal(size=(10, 2))\n",
        "\n",
        "#tranformamos los datos para correlacionarlos\n",
        "X_transf = np.array([[-0.47064751, -0.09790047], [ 1.88416925, -1.74263228]])\n",
        "A = np.dot(X1_,X_transf)\n",
        "#A= A - A.mean(axis=0) para probar que PCA centra en torno a la media de la columna\n",
        "\n",
        "#Realiza la Singular-value decomposition\n",
        "U, s, VT = svd(A)\n",
        "\n",
        "# s son solo los valores propios, para construir la matriz S o Sigma\n",
        "# creamos una matriz de ceros y le ponemos los n valores singulares en la diagonal\n",
        "print('valores singulares ordenados s-> ',s)\n",
        "Sigma = np.zeros((A.shape[0], A.shape[1]))\n",
        "Sigma[:A.shape[1], :A.shape[1]]= np.diag(s)\n",
        "#print(Sigma)\n",
        "\n",
        "# reconstruct en efecto A=USVt\n",
        "B = U.dot(Sigma.dot(VT))\n",
        "#print(B)\n",
        "#print(A)\n",
        "print('A=USVt? ',np.allclose(A,B))\n",
        "\n",
        "# V es una base ortonormal de A.T\n",
        "# AV=US la transformación de los datos\n",
        "# Las nuevas coordenadas de los datos en base V son US\n",
        "C= A.dot(VT.T)\n",
        "D= U.dot(Sigma)\n",
        "#print(C)\n",
        "#print(D)\n",
        "\n",
        "print('Av=US? ',np.allclose(C,D))\n",
        "\n",
        "#Muestra el valor de los componentes principales\n",
        "print('Componentes principales:\\n' ,VT.T)"
      ],
      "execution_count": 3,
      "outputs": [
        {
          "output_type": "stream",
          "name": "stdout",
          "text": [
            "valores singulares ordenados s->  [7.65557856 1.08643313]\n",
            "A=USVt?  True\n",
            "Av=US?  True\n",
            "Componentes principales:\n",
            " [[ 0.70135487  0.71281228]\n",
            " [-0.71281228  0.70135487]]\n"
          ]
        }
      ]
    },
    {
      "cell_type": "markdown",
      "metadata": {
        "id": "b3vVILieZQ8m"
      },
      "source": [
        "<u>__REDUCCION DE DIMENSIONALIDAD__</u>: Podemos probar que si truncamos la matriz de valores singulares $V$ para quedarnos con una base de $r<n$ de menor dimension, tenemos una versión aproximada de los datos originales.\n",
        "\n",
        "Comprueba que si reducimos la dimension de $V$ de $nxn$ a $nxr$ y de $S$ de $mxn$ a $mxr$ podemos calcular la matriz A de forma aproximada:"
      ]
    },
    {
      "cell_type": "code",
      "metadata": {
        "id": "7jqGQAKaZQ8m",
        "outputId": "a42f4d4c-41de-4341-e830-5d541c777341",
        "colab": {
          "base_uri": "https://localhost:8080/"
        }
      },
      "source": [
        "# Reduccion de dimensionalidad\n",
        "# rango hasta donde nos quedamos k=1\n",
        "# comprobar que con 2 si da lo mismo, pero con uno es parecido pero no\n",
        "r = 1\n",
        "rSigma = Sigma[:, :r]\n",
        "rVT = VT[:r, :]\n",
        "\n",
        "B=U.dot(rSigma.dot(rVT))\n",
        "print('A=USVt? ',np.allclose(A,B))\n",
        "#print(B)\n",
        "#print(A)\n",
        "print(A-B)"
      ],
      "execution_count": 4,
      "outputs": [
        {
          "output_type": "stream",
          "name": "stdout",
          "text": [
            "A=USVt?  False\n",
            "[[-0.15500471 -0.15251324]\n",
            " [-0.05538168 -0.0544915 ]\n",
            " [ 0.04728477  0.04652474]\n",
            " [-0.38882799 -0.38257815]\n",
            " [ 0.18198641  0.17906124]\n",
            " [ 0.09338027  0.09187932]\n",
            " [-0.23452829 -0.23075859]\n",
            " [ 0.44847561  0.44126702]\n",
            " [ 0.31884836  0.31372334]\n",
            " [ 0.139918    0.13766902]]\n"
          ]
        }
      ]
    },
    {
      "cell_type": "markdown",
      "metadata": {
        "id": "tPq-4V45ZQ8n"
      },
      "source": [
        "Ejecutamos el algoritmo <a href='https://scikit-learn.org/stable/modules/generated/sklearn.decomposition.PCA.html#sklearn.decomposition.PCA'>PCA </a> , para comprobar que es precisamente esta descomposición de valores singulares:\n",
        "\n",
        "<div class=\"alert alert-block alert-warning\">*__NOTA__*: PCA centra los datos en torno a las medias por lo que para obtener el mismo valor de los componentes principales con SVD y PCA es necesario centrar previamente los datos.\n",
        "\n",
        "Añade A= A - A.mean(axis=0) al codigo de SVD y verás que obtenemos lo mismo\n",
        "</div>"
      ]
    },
    {
      "cell_type": "code",
      "metadata": {
        "id": "HseLTARlZQ8n",
        "outputId": "0fabf662-924c-436d-bceb-7f2413759bad",
        "colab": {
          "base_uri": "https://localhost:8080/"
        }
      },
      "source": [
        "from sklearn.decomposition import PCA\n",
        "\n",
        "pca = PCA()\n",
        "pca.fit(A)\n",
        "\n",
        "# parámetros del modelo\n",
        "print('Componentes principales:\\n' ,pca.components_)\n"
      ],
      "execution_count": 5,
      "outputs": [
        {
          "output_type": "stream",
          "name": "stdout",
          "text": [
            "Componentes principales:\n",
            " [[-0.70386503  0.71033373]\n",
            " [-0.71033373 -0.70386503]]\n"
          ]
        }
      ]
    },
    {
      "cell_type": "markdown",
      "metadata": {
        "id": "78-lEZFYZQ8o"
      },
      "source": [
        "## 3.2 El modelo\n",
        "\n",
        "Entendido el algoritmo, correremos este modelo en los datos generados inicialmente $X_{blob}$ para reducir su dimensionalidad. PCA transforma los datos iniciales del sistema de referencia $x_1,x_2$ a una base de referencia ortogonal  $v_1,v_2$ en las direcciones de mayor variacion. Podemos tomar un subespacio de esta nueva base, por ejemplo solo la coordenada $v_1$ y obtenemos una representación comprimida de los datos originales :"
      ]
    },
    {
      "cell_type": "code",
      "metadata": {
        "id": "OHG9c1f2ZQ8o",
        "outputId": "2218ce32-c5e6-4bda-d4d1-0c8fc5d96bde",
        "colab": {
          "base_uri": "https://localhost:8080/",
          "height": 399
        }
      },
      "source": [
        "from sklearn.decomposition import PCA\n",
        "\n",
        "pca = PCA()\n",
        "pca.fit(X_blob)\n",
        "X_pca = pca.transform(X_blob)\n",
        "\n",
        "fig = plt.figure(figsize=(10,8))\n",
        "ax1 = fig.add_subplot(1, 2, 1)\n",
        "\n",
        "ax1.set_title(\"DATOS TRANSFORMADOS\")\n",
        "ax1.scatter(X_pca[:, 0], X_pca[:, 1], marker='x')\n",
        "ax1.set_xlabel(\"v_1 (componente principal)\")\n",
        "ax1.set_ylabel(\"v_2 (componente principal)\")\n",
        "ax1.set_aspect('equal')\n",
        "ax1.set_ylim(-8, 8)\n",
        "\n",
        "ax2 = fig.add_subplot(1, 2, 2)\n",
        "ax2.set_title(\"DATOS COMPRIMIDOS\")\n",
        "ax2.scatter(X_pca[:, 0], np.zeros(X_pca.shape[0]), marker='x')\n",
        "ax2.set_xlabel(\"v_1 (componente principal)\")\n",
        "ax2.set_aspect('equal')\n",
        "ax2.set_ylim(-8, 8)"
      ],
      "execution_count": 6,
      "outputs": [
        {
          "output_type": "execute_result",
          "data": {
            "text/plain": [
              "(-8.0, 8.0)"
            ]
          },
          "metadata": {},
          "execution_count": 6
        },
        {
          "output_type": "display_data",
          "data": {
            "image/png": "[encoded data removed]",
            "text/plain": [
              "<Figure size 720x576 with 2 Axes>"
            ]
          },
          "metadata": {
            "needs_background": "light"
          }
        }
      ]
    },
    {
      "cell_type": "markdown",
      "metadata": {
        "id": "prZEyCfAZQ8o"
      },
      "source": [
        "PCA encuentra __la dirección de máxima variación que alinea con $v_1$__. La componente $v_2$ es la componente ortogonal a $v_1$, en dos diemnsiones no hay más grados de libertad.\n",
        "\n",
        "Si proyectamos los datos sobre $v_1$, obtenemos la versión comprimida de los datos originales."
      ]
    },
    {
      "cell_type": "markdown",
      "metadata": {
        "id": "6qyxTwTaZQ8o"
      },
      "source": [
        "# 3. Parámetros del modelo\n",
        "\n",
        "Los parámetros del modelo nos dan los valores de ajuste que ha obtenido el algoritmo. Veamos los vectores singulares obtenidos:"
      ]
    },
    {
      "cell_type": "code",
      "metadata": {
        "id": "EYxmfuZrZQ8p",
        "outputId": "54d57a1d-5352-41a8-a198-a369ad5d4746",
        "colab": {
          "base_uri": "https://localhost:8080/"
        }
      },
      "source": [
        "pca.components_"
      ],
      "execution_count": 7,
      "outputs": [
        {
          "output_type": "execute_result",
          "data": {
            "text/plain": [
              "array([[ 0.73960352, -0.67304282],\n",
              "       [ 0.67304282,  0.73960352]])"
            ]
          },
          "metadata": {},
          "execution_count": 7
        }
      ]
    },
    {
      "cell_type": "markdown",
      "metadata": {
        "id": "KjjWqdJdZQ8p"
      },
      "source": [
        "Podemos comprobar que son base ortonormal. Calculamos la norma del primer vector singular $v_1$:"
      ]
    },
    {
      "cell_type": "code",
      "metadata": {
        "id": "DNFecheSZQ8p",
        "outputId": "54deb5e8-d8dc-434a-9ffa-b8a300ab83ec",
        "colab": {
          "base_uri": "https://localhost:8080/"
        }
      },
      "source": [
        "np.linalg.norm(pca.components_[0])"
      ],
      "execution_count": 8,
      "outputs": [
        {
          "output_type": "execute_result",
          "data": {
            "text/plain": [
              "0.9999999999999999"
            ]
          },
          "metadata": {},
          "execution_count": 8
        }
      ]
    },
    {
      "cell_type": "markdown",
      "metadata": {
        "id": "asCwYILbZQ8q"
      },
      "source": [
        "Los valores singulares_"
      ]
    },
    {
      "cell_type": "code",
      "metadata": {
        "id": "SpGxV0VoZQ8q",
        "outputId": "16db47a8-abd2-4319-c20f-a58b6f5fbd42",
        "colab": {
          "base_uri": "https://localhost:8080/"
        }
      },
      "source": [
        "pca.singular_values_ "
      ],
      "execution_count": 9,
      "outputs": [
        {
          "output_type": "execute_result",
          "data": {
            "text/plain": [
              "array([25.54184245,  3.32887363])"
            ]
          },
          "metadata": {},
          "execution_count": 9
        }
      ]
    },
    {
      "cell_type": "markdown",
      "metadata": {
        "id": "yae2Bj0zZQ8q"
      },
      "source": [
        "El valor medio que ha utilizado para centrar los datos en cada dimension:"
      ]
    },
    {
      "cell_type": "code",
      "metadata": {
        "id": "CTnBwxxQZQ8q",
        "outputId": "77b460e2-413e-4760-ddf7-20e81cbf9ed5",
        "colab": {
          "base_uri": "https://localhost:8080/"
        }
      },
      "source": [
        "pca.mean_"
      ],
      "execution_count": 10,
      "outputs": [
        {
          "output_type": "execute_result",
          "data": {
            "text/plain": [
              "array([ 0.11849385, -0.04797461])"
            ]
          },
          "metadata": {},
          "execution_count": 10
        }
      ]
    },
    {
      "cell_type": "markdown",
      "metadata": {
        "id": "UEcfOreuZQ8r"
      },
      "source": [
        "# 4. Reconstruccion de los datos\n",
        "\n",
        "Para obtener los datos comprimidos en el sistema de coordenadas original debemos de usar el método *__inverse_transform__*"
      ]
    },
    {
      "cell_type": "code",
      "metadata": {
        "id": "QY5DVKRzZQ8r",
        "outputId": "e661116e-c41b-44d8-e2de-4bc6f670aaf8",
        "colab": {
          "base_uri": "https://localhost:8080/",
          "height": 365
        }
      },
      "source": [
        "fig = plt.figure(figsize=(20,10))\n",
        "\n",
        "# Los datos originales X_blob\n",
        "ax2 = fig.add_subplot(1, 3, 1)\n",
        "ax2.set_title(\"Datos originales\")\n",
        "ax2.scatter(X_blob[:, 0], X_blob[:, 1], marker='x')\n",
        "ax2.set_xlabel(\"x_1\")\n",
        "ax2.set_ylabel(\"x_2\")\n",
        "ax2.set_aspect('equal')\n",
        "ax2.set_xlim(-8, 8)\n",
        "ax2.set_ylim(-8, 8)\n",
        "\n",
        "# Los datos reconstruidos tras usar PCA -> X_blob = USV\n",
        "# US = X_pca = pca.transform(X_blob)  -> los datos X_blob en la nueva base V\n",
        "# USV = X_pca . pca_components  -> porque V=pca_components\n",
        "\n",
        "X_reconst = np.dot(X_pca,pca.components_)\n",
        "\n",
        "ax1 = fig.add_subplot(1, 3, 2)\n",
        "ax1.set_title(\"Datos reconstruidos\")\n",
        "ax1.scatter(X_reconst[:, 0], X_reconst[:, 1], marker='x')\n",
        "ax1.set_xlabel(\"x_1\")\n",
        "ax1.set_ylabel(\"x_2\")\n",
        "ax1.set_aspect('equal')\n",
        "ax1.set_xlim(-8, 8)\n",
        "ax1.set_ylim(-8, 8)\n",
        "\n",
        "\n",
        "# Los datos parcialmente reconstruidos o comprimidos, tomando una base con solo un vector singular v_1\n",
        "pca_n1 = PCA(n_components=1)\n",
        "pca_n1.fit(X_blob)\n",
        "X_pca_n1 = pca_n1.transform(X_blob)\n",
        "X_inverse = pca_n1.inverse_transform(X_pca_n1)\n",
        "\n",
        "ax3 = fig.add_subplot(1, 3, 3)\n",
        "ax3.set_title(\"Compresión usando un solo componente principal\")\n",
        "ax3.scatter(X_inverse[:, 0], X_inverse[:, 1], marker='x')\n",
        "ax3.set_xlabel(\"x_1\")\n",
        "ax3.set_ylabel(\"x_2\")\n",
        "ax3.set_aspect('equal')\n",
        "ax3.set_xlim(-8, 8)\n",
        "ax3.set_ylim(-8, 8);"
      ],
      "execution_count": 11,
      "outputs": [
        {
          "output_type": "display_data",
          "data": {
            "image/png": "[encoded data removed]",
            "text/plain": [
              "<Figure size 1440x720 with 3 Axes>"
            ]
          },
          "metadata": {
            "needs_background": "light"
          }
        }
      ]
    },
    {
      "cell_type": "markdown",
      "metadata": {
        "id": "zQdoYLz0ZQ8r"
      },
      "source": [
        "Los nuevos datos comprimidos mantienen la mayor parte de la variación o información del conjunto de datos originales, pero como puede verse, se pierde información."
      ]
    },
    {
      "cell_type": "markdown",
      "metadata": {
        "id": "54n1K82jZQ8r"
      },
      "source": [
        "# 5. Evaluación del modelo\n",
        "\n",
        "Típicamente trajaremos con muchas variables y no resultará intuitivo cuantos componentes principales es recomendable mantener. Para ello se toma el criterio de que los datos comprimidos mantengan la mayor información o variación posible. Esto implica que la compresión los han movido poco, o sea que están proyectados en una superficie muy proxima con respecto de los originales. ¿Cómo medimos esto?. \n",
        "\n",
        "Pensemos que inicialmente la variación o información total de los $m$ datos $x$ es:\n",
        "\n",
        "$ \\frac{1}{m} \\sum_{i=1}^{m} ||x^{(i)}||^2$\n",
        "\n",
        "La variación de un dato es su norma, o como de lejos está la muestras del origen.\n",
        "\n",
        "Una vez comprimidos los datos, conseguimos $x_{aprox}$ y hemos perdido una variación total en las $m$ muestras que es:\n",
        "\n",
        "$ \\frac{1}{m} \\sum_{i=1}^{m} ||x^{(i)}-x_{aprox}^{(i)}||^2$\n",
        "\n",
        "Que es el error cuadrático medio de la proyeccion de las muestras sobre la nueva superficie.\n",
        "<br><br>\n",
        "<div class=\"alert alert-block alert-info\">\n",
        "Se intenta elegir un rango $r$ de manera que el ratio de perdida de variación: \n",
        "<br><br>\n",
        "$ \\frac{\\frac{1}{m} \\sum_{i=1}^{m} ||x^{(i)}-x_{aprox}^{(i)}||^2}{ \\frac{1}{m} \\sum_{i=1}^{m} ||x^{(i)}||^2} \\le \\frac{k}{100}$  (k%)\n",
        "<br><br>\n",
        "\n",
        "Sea pequeño. Tipicamente se especifica en términos de $100-k$% y se toma que se mantenga se mantenga entre rangos del $90$% al $99$% de la información.\n",
        "</div>\n",
        "\n",
        "Este criterio tiene una interpretación con significado gráfico, más alla de una eleccion arbitraria de un numero $r$ de componentes principales.\n",
        "\n",
        "En la practica los datasets tienen variables muy correlacionadas y se puede reducir la dimension de $n\\rightarrow r$  con $r<<n$  y mantener el $99$% de la variación total de los datos.\n",
        "<br><br>\n",
        "\n",
        "<div class=\"alert alert-block alert-info\">\n",
        "Este valor puede calcularse directamente a partir de los valores singulares:\n",
        "<br><br>\n",
        "\n",
        "$ 1- \\frac{ \\sum_{i=1}^{r} s_i^2}{\\sum_{i=1}^{n} s_i^2}  \\le \\frac{k}{100}$  (k%)\n",
        "\n",
        "<br><br>\n",
        "\n",
        "Tomando los $r$ primeros vectores y valores singulares.\n",
        "</div>\n",
        "\n"
      ]
    },
    {
      "cell_type": "markdown",
      "metadata": {
        "id": "-_nULASOZQ8s"
      },
      "source": [
        "El modelo PCA tiene los parámetros __*explained_variance_*__ y __*explained_variance_ratio_*__ que nos dicen la variación que explica cada uno de los componentes principales o vectores singulares: "
      ]
    },
    {
      "cell_type": "code",
      "metadata": {
        "id": "UqZB1Mb0ZQ8s",
        "outputId": "e057de41-82ae-48f9-fc8d-572f71216dbd",
        "colab": {
          "base_uri": "https://localhost:8080/"
        }
      },
      "source": [
        "print(pca.explained_variance_)  \n"
      ],
      "execution_count": 12,
      "outputs": [
        {
          "output_type": "stream",
          "name": "stdout",
          "text": [
            "[6.58975471 0.11193333]\n"
          ]
        }
      ]
    },
    {
      "cell_type": "code",
      "metadata": {
        "id": "1lP0zg7VZQ8s",
        "outputId": "282c23fe-43d4-4a0e-a29c-e42e325d030b",
        "colab": {
          "base_uri": "https://localhost:8080/"
        }
      },
      "source": [
        "print(pca.explained_variance_ratio_)  \n"
      ],
      "execution_count": 13,
      "outputs": [
        {
          "output_type": "stream",
          "name": "stdout",
          "text": [
            "[0.98329774 0.01670226]\n"
          ]
        }
      ]
    },
    {
      "cell_type": "markdown",
      "metadata": {
        "id": "_Sh9pvbJZQ8s"
      },
      "source": [
        "Podemos calcularlo también a partir de los valores singulares:"
      ]
    },
    {
      "cell_type": "code",
      "metadata": {
        "id": "OdPNOJM8ZQ8s",
        "outputId": "f45b811c-7b87-4e77-9f03-ee7816823d61",
        "colab": {
          "base_uri": "https://localhost:8080/"
        }
      },
      "source": [
        "np.square(pca.singular_values_) / np.square(pca.singular_values_).sum()"
      ],
      "execution_count": 14,
      "outputs": [
        {
          "output_type": "execute_result",
          "data": {
            "text/plain": [
              "array([0.98329774, 0.01670226])"
            ]
          },
          "metadata": {},
          "execution_count": 14
        }
      ]
    },
    {
      "cell_type": "markdown",
      "metadata": {
        "id": "1vhtdzFxZQ8t"
      },
      "source": [
        "# 5. Consejos importantes\n",
        "\n",
        "PCA es al fin y al cabo un cambio de sistema de coordenadas dictado por las muestras de nuestro conjunto de datos. Por ello a la hora de usar PCA debe de tenerse en cuenta que:\n",
        "\n",
        "- Es importante __<u>escalar los datos</u>__ con el *standardScaler* para asegurarnos que el grado de variación de todas las variables es similar. Como PCA va buscando como componentes principales las direcciones de mayor variación, si no escalamos los datos estamos prefijando las direcciones de los componentes. Lee el ejemplo de <a href=\"https://scikit-learn.org/stable/auto_examples/preprocessing/plot_scaling_importance.html\">recomendación de escalado</a>.\n",
        "    \n",
        "    \n",
        "\n",
        "- __<u>Solo debe de aplicarse PCA a los datos de entrenamiento</u>__. Generalmente aplicamos PCA para comprimir datos para inyectarlos a otro algoritmo y que este sea mas eficiente. Por tanto, el algoritmo se entrena con los datos comprimidos en un determinado sistema de referencia que depende de las muestras originales. Si posteriormente conseguimos más muestras para aplicar al algoritmo, estas deben de suministrarse al algoritmo aplicandoles la transformación del PCA de los datos de entrenamiento.\n",
        "\n",
        "\n",
        "\n",
        "- Hay que recordar que PCA elimina información del conjunto de datos original, por lo que __<u>no debe de usarse si no es necesario</u>__.\n",
        "\n",
        "\n",
        "\n",
        "- __<u>PCA no ayuda a simplificar un modelo</u>__.También es importante pensar que si un modelo no da buenos resultados porque es muy complejo y utiliza muchas variables, aplicar PCA no mejora la situación. PCA mantiene casi toda la información del conjunto de datos, por lo que no ayudará y es recomendable cambiar de algoritmo o simplificarlo."
      ]
    }
  ]
}