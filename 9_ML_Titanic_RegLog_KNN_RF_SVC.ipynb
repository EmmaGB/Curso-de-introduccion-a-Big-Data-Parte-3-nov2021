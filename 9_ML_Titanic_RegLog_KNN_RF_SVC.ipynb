{
  "nbformat": 4,
  "nbformat_minor": 0,
  "metadata": {
    "colab": {
      "name": "9_ML_Titanic_RegLog_KNN_RF_SVC.ipynb",
      "provenance": [],
      "include_colab_link": true
    },
    "kernelspec": {
      "name": "python3",
      "display_name": "Python 3"
    },
    "language_info": {
      "name": "python"
    }
  },
  "cells": [
    {
      "cell_type": "markdown",
      "metadata": {
        "id": "view-in-github",
        "colab_type": "text"
      },
      "source": [
        "<a href=\"https://colab.research.google.com/github/alberto1971/Curso-de-introduccion-a-Big-Data-Parte-3-nov2021/blob/main/9_ML_Titanic_RegLog_KNN_RF_SVC.ipynb\" target=\"_parent\"><img src=\"https://colab.research.google.com/assets/colab-badge.svg\" alt=\"Open In Colab\"/></a>"
      ]
    },
    {
      "cell_type": "markdown",
      "metadata": {
        "id": "cawGrdBqxLCs"
      },
      "source": [
        "#Aplicación de Machine Learning en el caso Titanic: Regresión Logística, KNN, Random Forest y SVC\n",
        "\n",
        "El reto\n",
        "\n",
        "El hundimiento del Titanic es uno de los naufragios más conocidos de la historia.\n",
        "\n",
        "El 15 de abril de 1912, durante su viaje inaugural, el RMS Titanic, ampliamente considerado \"insumergible\", se hundió después de chocar con un iceberg. Desafortunadamente, no había suficientes botes salvavidas para todos a bordo, lo que supuso la muerte de 1502 de los 2224 pasajeros y de la tripulación.\n",
        "\n",
        "Si bien hubo algún elemento de suerte involucrado en sobrevivir, parece que algunos grupos de personas tenían más probabilidades de sobrevivir que otros.\n",
        "\n",
        "En este desafío, le pedimos que cree un modelo predictivo que responda a la pregunta: \"¿Qué tipo de personas tenían más probabilidades de sobrevivir?\" utilizando datos de pasajeros (es decir, nombre, edad, sexo, clase socioeconómica, etc.)."
      ]
    },
    {
      "cell_type": "markdown",
      "metadata": {
        "id": "ToXM7762QC3w"
      },
      "source": [
        "##Referencias\n",
        "\n",
        "https://www.kaggle.com/c/titanic\n",
        "\n",
        "https://www.kaggle.com/showeed/starter-book-begginer-analysis/notebook"
      ]
    },
    {
      "cell_type": "markdown",
      "metadata": {
        "id": "6qfjz7rFxhoz"
      },
      "source": [
        "# Importar librerías"
      ]
    },
    {
      "cell_type": "code",
      "metadata": {
        "id": "pMlUpc6gxGex"
      },
      "source": [
        "import pandas as pd"
      ],
      "execution_count": 1,
      "outputs": []
    },
    {
      "cell_type": "markdown",
      "metadata": {
        "id": "xUKPxnmjxjjj"
      },
      "source": [
        "#Obtener los datos\n",
        "Descargamos el fichero en local y lo subimos a Google Colab"
      ]
    },
    {
      "cell_type": "markdown",
      "metadata": {
        "id": "hYpHe-YPyUq9"
      },
      "source": [
        "https://www.kaggle.com/c/titanic/data?select=train.csv"
      ]
    },
    {
      "cell_type": "code",
      "metadata": {
        "id": "8LslRHIHx4NT"
      },
      "source": [
        "#train_data = pd.read_csv(\"train.csv\")\n",
        "train_data = pd.read_csv(\"sample_data/train.csv\")\n"
      ],
      "execution_count": 2,
      "outputs": []
    },
    {
      "cell_type": "markdown",
      "metadata": {
        "id": "XZsC6Q3g2BAk"
      },
      "source": [
        "Examinamos los datos cargados"
      ]
    },
    {
      "cell_type": "code",
      "metadata": {
        "colab": {
          "base_uri": "https://localhost:8080/",
          "height": 269
        },
        "id": "RNsAhsBq2H7b",
        "outputId": "c070fa15-4880-43d1-fcba-be19e1c9e157"
      },
      "source": [
        "train_data.head()"
      ],
      "execution_count": 3,
      "outputs": [
        {
          "output_type": "execute_result",
          "data": {
            "text/html": [
              "<div>\n",
              "<style scoped>\n",
              "    .dataframe tbody tr th:only-of-type {\n",
              "        vertical-align: middle;\n",
              "    }\n",
              "\n",
              "    .dataframe tbody tr th {\n",
              "        vertical-align: top;\n",
              "    }\n",
              "\n",
              "    .dataframe thead th {\n",
              "        text-align: right;\n",
              "    }\n",
              "</style>\n",
              "<table border=\"1\" class=\"dataframe\">\n",
              "  <thead>\n",
              "    <tr style=\"text-align: right;\">\n",
              "      <th></th>\n",
              "      <th>PassengerId</th>\n",
              "      <th>Survived</th>\n",
              "      <th>Pclass</th>\n",
              "      <th>Name</th>\n",
              "      <th>Sex</th>\n",
              "      <th>Age</th>\n",
              "      <th>SibSp</th>\n",
              "      <th>Parch</th>\n",
              "      <th>Ticket</th>\n",
              "      <th>Fare</th>\n",
              "      <th>Cabin</th>\n",
              "      <th>Embarked</th>\n",
              "    </tr>\n",
              "  </thead>\n",
              "  <tbody>\n",
              "    <tr>\n",
              "      <th>0</th>\n",
              "      <td>1</td>\n",
              "      <td>0</td>\n",
              "      <td>3</td>\n",
              "      <td>Braund, Mr. Owen Harris</td>\n",
              "      <td>male</td>\n",
              "      <td>22.0</td>\n",
              "      <td>1</td>\n",
              "      <td>0</td>\n",
              "      <td>A/5 21171</td>\n",
              "      <td>7.2500</td>\n",
              "      <td>NaN</td>\n",
              "      <td>S</td>\n",
              "    </tr>\n",
              "    <tr>\n",
              "      <th>1</th>\n",
              "      <td>2</td>\n",
              "      <td>1</td>\n",
              "      <td>1</td>\n",
              "      <td>Cumings, Mrs. John Bradley (Florence Briggs Th...</td>\n",
              "      <td>female</td>\n",
              "      <td>38.0</td>\n",
              "      <td>1</td>\n",
              "      <td>0</td>\n",
              "      <td>PC 17599</td>\n",
              "      <td>71.2833</td>\n",
              "      <td>C85</td>\n",
              "      <td>C</td>\n",
              "    </tr>\n",
              "    <tr>\n",
              "      <th>2</th>\n",
              "      <td>3</td>\n",
              "      <td>1</td>\n",
              "      <td>3</td>\n",
              "      <td>Heikkinen, Miss. Laina</td>\n",
              "      <td>female</td>\n",
              "      <td>26.0</td>\n",
              "      <td>0</td>\n",
              "      <td>0</td>\n",
              "      <td>STON/O2. 3101282</td>\n",
              "      <td>7.9250</td>\n",
              "      <td>NaN</td>\n",
              "      <td>S</td>\n",
              "    </tr>\n",
              "    <tr>\n",
              "      <th>3</th>\n",
              "      <td>4</td>\n",
              "      <td>1</td>\n",
              "      <td>1</td>\n",
              "      <td>Futrelle, Mrs. Jacques Heath (Lily May Peel)</td>\n",
              "      <td>female</td>\n",
              "      <td>35.0</td>\n",
              "      <td>1</td>\n",
              "      <td>0</td>\n",
              "      <td>113803</td>\n",
              "      <td>53.1000</td>\n",
              "      <td>C123</td>\n",
              "      <td>S</td>\n",
              "    </tr>\n",
              "    <tr>\n",
              "      <th>4</th>\n",
              "      <td>5</td>\n",
              "      <td>0</td>\n",
              "      <td>3</td>\n",
              "      <td>Allen, Mr. William Henry</td>\n",
              "      <td>male</td>\n",
              "      <td>35.0</td>\n",
              "      <td>0</td>\n",
              "      <td>0</td>\n",
              "      <td>373450</td>\n",
              "      <td>8.0500</td>\n",
              "      <td>NaN</td>\n",
              "      <td>S</td>\n",
              "    </tr>\n",
              "  </tbody>\n",
              "</table>\n",
              "</div>"
            ],
            "text/plain": [
              "   PassengerId  Survived  Pclass  ...     Fare Cabin  Embarked\n",
              "0            1         0       3  ...   7.2500   NaN         S\n",
              "1            2         1       1  ...  71.2833   C85         C\n",
              "2            3         1       3  ...   7.9250   NaN         S\n",
              "3            4         1       1  ...  53.1000  C123         S\n",
              "4            5         0       3  ...   8.0500   NaN         S\n",
              "\n",
              "[5 rows x 12 columns]"
            ]
          },
          "metadata": {},
          "execution_count": 3
        }
      ]
    },
    {
      "cell_type": "markdown",
      "metadata": {
        "id": "SHBk0FTCORfr"
      },
      "source": [
        "##Información de los campos o features (\"características\")"
      ]
    },
    {
      "cell_type": "markdown",
      "metadata": {
        "id": "X5X3VmJsHgT9"
      },
      "source": [
        "\"PassengerId\" es el número de pasajero\n",
        "\n",
        "\"Survived\" indica si el pasajero sobrevivió (valor 1) o no sobrevivió (valor 0) al naufragio\n",
        "\n",
        "\"Pclass\" es la clase: primera clase, segunda clase y tercera clase \n",
        "\n",
        "\"Name\" es el nombre del pasajero\n",
        "\n",
        "\"Sex\" es el sexo del pasajero: male (masculino) o female (femenino)\n",
        "\n",
        "\"Age\" es la edad del pasajero\n",
        "\n",
        "\"SibSp\" es la abreviatura de \"Siblings and Spouses\" que se traduce como \"Hermanos y Esposas\" que se embarcaron con el pasajero\n",
        "\n",
        "\"Parch\" es la abreviatura de \"Parents and children\", esto es, el número de padres / hijos que se embarcaron con el pasajero\n",
        "\n",
        "\"Ticket\" es el código del billete\n",
        "\n",
        "\"Fare\" es la tarifa o precio del billete\n",
        "\n",
        "\"Cabin\" es el camarote del pasajero\n",
        "\n",
        "\"Embarked\" es la inicial del puerto donde embarcó el pasajero: C = Cherbourg; Q = Queenstown; S = Southampton\n"
      ]
    },
    {
      "cell_type": "markdown",
      "metadata": {
        "id": "wmYvWMxm3rDm"
      },
      "source": [
        "Examinamos el contenido del DataFrame: \n",
        "- Datos no nulos\n",
        "- Tipos de datos\n"
      ]
    },
    {
      "cell_type": "code",
      "metadata": {
        "colab": {
          "base_uri": "https://localhost:8080/"
        },
        "id": "yyEBkF4K31lV",
        "outputId": "9c209843-32f3-4335-d654-a63530f561c7"
      },
      "source": [
        "train_data.info()"
      ],
      "execution_count": 4,
      "outputs": [
        {
          "output_type": "stream",
          "name": "stdout",
          "text": [
            "<class 'pandas.core.frame.DataFrame'>\n",
            "RangeIndex: 891 entries, 0 to 890\n",
            "Data columns (total 12 columns):\n",
            " #   Column       Non-Null Count  Dtype  \n",
            "---  ------       --------------  -----  \n",
            " 0   PassengerId  891 non-null    int64  \n",
            " 1   Survived     891 non-null    int64  \n",
            " 2   Pclass       891 non-null    int64  \n",
            " 3   Name         891 non-null    object \n",
            " 4   Sex          891 non-null    object \n",
            " 5   Age          714 non-null    float64\n",
            " 6   SibSp        891 non-null    int64  \n",
            " 7   Parch        891 non-null    int64  \n",
            " 8   Ticket       891 non-null    object \n",
            " 9   Fare         891 non-null    float64\n",
            " 10  Cabin        204 non-null    object \n",
            " 11  Embarked     889 non-null    object \n",
            "dtypes: float64(2), int64(5), object(5)\n",
            "memory usage: 83.7+ KB\n"
          ]
        }
      ]
    },
    {
      "cell_type": "markdown",
      "metadata": {
        "id": "9CdnlZkjJho6"
      },
      "source": [
        "Podemos ver que hay valores nulos en algunos campos o variables.\n",
        "\n",
        "También vemos que hay campos con valores no numéricos como Name, Sex, Ticket, Cabin y Embarked"
      ]
    },
    {
      "cell_type": "markdown",
      "metadata": {
        "id": "85fz_YnHtlK7"
      },
      "source": [
        "##¿Qué hacer con los valores nulos?\n",
        "\n",
        "Veamos cuántos valores nulos hay:"
      ]
    },
    {
      "cell_type": "code",
      "metadata": {
        "id": "z_YC00WaJv6a",
        "colab": {
          "base_uri": "https://localhost:8080/"
        },
        "outputId": "446d9fec-ecf1-46f0-dc67-6216d8021fe1"
      },
      "source": [
        "train_data.isnull().sum()"
      ],
      "execution_count": 5,
      "outputs": [
        {
          "output_type": "execute_result",
          "data": {
            "text/plain": [
              "PassengerId      0\n",
              "Survived         0\n",
              "Pclass           0\n",
              "Name             0\n",
              "Sex              0\n",
              "Age            177\n",
              "SibSp            0\n",
              "Parch            0\n",
              "Ticket           0\n",
              "Fare             0\n",
              "Cabin          687\n",
              "Embarked         2\n",
              "dtype: int64"
            ]
          },
          "metadata": {},
          "execution_count": 5
        }
      ]
    },
    {
      "cell_type": "markdown",
      "metadata": {
        "id": "rNa9d9adKa3B"
      },
      "source": [
        "Aquí podemos ver el número de valores que faltan en cada columna. Esos valores que faltan pueden causar un problema cuando los necesitemos"
      ]
    },
    {
      "cell_type": "markdown",
      "metadata": {
        "id": "jMDVQzb4Tsza"
      },
      "source": [
        "Tenemos varias opciones\n",
        "\n",
        "- Eliminar todos los registros que tienen algún valor nulo -> Perdemos información\n",
        "\n",
        "- Prescindir de las variables o atributos de las que no tenemos valores en todos los registros -> Perdemos información\n",
        "\n",
        "- Rellenar los valores nulos con valores, por ejemplo, la media del valor si es numérico o el valor más frecuente si no es numérico -> No perdemos información pero añadimos información estimativa (no real)\n",
        "\n",
        "Si eliminamos todos los registros que no tienen valor en el campo edad"
      ]
    },
    {
      "cell_type": "code",
      "metadata": {
        "id": "pEI0CIEwUjGw"
      },
      "source": [
        "train_data_2=train_data.dropna(subset=['Age'])"
      ],
      "execution_count": 6,
      "outputs": []
    },
    {
      "cell_type": "code",
      "metadata": {
        "colab": {
          "base_uri": "https://localhost:8080/"
        },
        "id": "2LL1rBDSUm9W",
        "outputId": "77dce244-0910-4094-9636-1a1e8e62cd22"
      },
      "source": [
        "train_data_2.info()"
      ],
      "execution_count": 7,
      "outputs": [
        {
          "output_type": "stream",
          "name": "stdout",
          "text": [
            "<class 'pandas.core.frame.DataFrame'>\n",
            "Int64Index: 714 entries, 0 to 890\n",
            "Data columns (total 12 columns):\n",
            " #   Column       Non-Null Count  Dtype  \n",
            "---  ------       --------------  -----  \n",
            " 0   PassengerId  714 non-null    int64  \n",
            " 1   Survived     714 non-null    int64  \n",
            " 2   Pclass       714 non-null    int64  \n",
            " 3   Name         714 non-null    object \n",
            " 4   Sex          714 non-null    object \n",
            " 5   Age          714 non-null    float64\n",
            " 6   SibSp        714 non-null    int64  \n",
            " 7   Parch        714 non-null    int64  \n",
            " 8   Ticket       714 non-null    object \n",
            " 9   Fare         714 non-null    float64\n",
            " 10  Cabin        185 non-null    object \n",
            " 11  Embarked     712 non-null    object \n",
            "dtypes: float64(2), int64(5), object(5)\n",
            "memory usage: 72.5+ KB\n"
          ]
        }
      ]
    },
    {
      "cell_type": "markdown",
      "metadata": {
        "id": "Kk0LXobIUwO0"
      },
      "source": [
        "El inconveniente es que perdemos la información de los registros incompletos y pueden ser muchos. \n",
        "\n",
        "Supongamos que eliminamos todos los registros incompletos..."
      ]
    },
    {
      "cell_type": "code",
      "metadata": {
        "id": "jualRHoHWDAr"
      },
      "source": [
        "train_data_3=train_data.dropna()"
      ],
      "execution_count": 8,
      "outputs": []
    },
    {
      "cell_type": "code",
      "metadata": {
        "colab": {
          "base_uri": "https://localhost:8080/"
        },
        "id": "M7SpgbphWDAr",
        "outputId": "60e4b913-656e-47ca-d449-f22583cb88c3"
      },
      "source": [
        "train_data_3.info()"
      ],
      "execution_count": 9,
      "outputs": [
        {
          "output_type": "stream",
          "name": "stdout",
          "text": [
            "<class 'pandas.core.frame.DataFrame'>\n",
            "Int64Index: 183 entries, 1 to 889\n",
            "Data columns (total 12 columns):\n",
            " #   Column       Non-Null Count  Dtype  \n",
            "---  ------       --------------  -----  \n",
            " 0   PassengerId  183 non-null    int64  \n",
            " 1   Survived     183 non-null    int64  \n",
            " 2   Pclass       183 non-null    int64  \n",
            " 3   Name         183 non-null    object \n",
            " 4   Sex          183 non-null    object \n",
            " 5   Age          183 non-null    float64\n",
            " 6   SibSp        183 non-null    int64  \n",
            " 7   Parch        183 non-null    int64  \n",
            " 8   Ticket       183 non-null    object \n",
            " 9   Fare         183 non-null    float64\n",
            " 10  Cabin        183 non-null    object \n",
            " 11  Embarked     183 non-null    object \n",
            "dtypes: float64(2), int64(5), object(5)\n",
            "memory usage: 18.6+ KB\n"
          ]
        }
      ]
    },
    {
      "cell_type": "markdown",
      "metadata": {
        "id": "717srQGAWIpM"
      },
      "source": [
        "Nos quedan solo 183 registros y hemos perdido mucha información!!!"
      ]
    },
    {
      "cell_type": "markdown",
      "metadata": {
        "id": "zBWUj57fWQhA"
      },
      "source": [
        "Si rellenamos los valores nulos con el valor medio conservamos la información anterior aunque estamos introduciendo valores estimativos que puede distorsionar el original"
      ]
    },
    {
      "cell_type": "markdown",
      "metadata": {
        "id": "04xpZoCycZlt"
      },
      "source": [
        "Calculamos la media de edad de los pasajeros "
      ]
    },
    {
      "cell_type": "code",
      "metadata": {
        "id": "fXAo-5KicQmk",
        "colab": {
          "base_uri": "https://localhost:8080/"
        },
        "outputId": "d92cc926-f3fa-408f-a47b-a26982f62790"
      },
      "source": [
        "edad_media = train_data['Age'].mean()\n",
        "edad_media"
      ],
      "execution_count": 10,
      "outputs": [
        {
          "output_type": "execute_result",
          "data": {
            "text/plain": [
              "29.69911764705882"
            ]
          },
          "metadata": {},
          "execution_count": 10
        }
      ]
    },
    {
      "cell_type": "markdown",
      "metadata": {
        "id": "xi0e6I0GcjHd"
      },
      "source": [
        "Y rellenamos los registros sin edad con la edad media del resto de pasajeros"
      ]
    },
    {
      "cell_type": "code",
      "metadata": {
        "id": "s5_xZiooc2Lb"
      },
      "source": [
        "train_data['Age']=train_data['Age'].fillna(edad_media)"
      ],
      "execution_count": 11,
      "outputs": []
    },
    {
      "cell_type": "markdown",
      "metadata": {
        "id": "jhrBfzHvdcNR"
      },
      "source": [
        "Y así logramos tener una tabla de datos con menos valores nulos"
      ]
    },
    {
      "cell_type": "code",
      "metadata": {
        "id": "BSO7CT0yeuCv",
        "colab": {
          "base_uri": "https://localhost:8080/"
        },
        "outputId": "3c45a86f-1223-425e-ce73-2c3640389d35"
      },
      "source": [
        "train_data.info()"
      ],
      "execution_count": 12,
      "outputs": [
        {
          "output_type": "stream",
          "name": "stdout",
          "text": [
            "<class 'pandas.core.frame.DataFrame'>\n",
            "RangeIndex: 891 entries, 0 to 890\n",
            "Data columns (total 12 columns):\n",
            " #   Column       Non-Null Count  Dtype  \n",
            "---  ------       --------------  -----  \n",
            " 0   PassengerId  891 non-null    int64  \n",
            " 1   Survived     891 non-null    int64  \n",
            " 2   Pclass       891 non-null    int64  \n",
            " 3   Name         891 non-null    object \n",
            " 4   Sex          891 non-null    object \n",
            " 5   Age          891 non-null    float64\n",
            " 6   SibSp        891 non-null    int64  \n",
            " 7   Parch        891 non-null    int64  \n",
            " 8   Ticket       891 non-null    object \n",
            " 9   Fare         891 non-null    float64\n",
            " 10  Cabin        204 non-null    object \n",
            " 11  Embarked     889 non-null    object \n",
            "dtypes: float64(2), int64(5), object(5)\n",
            "memory usage: 83.7+ KB\n"
          ]
        }
      ]
    },
    {
      "cell_type": "markdown",
      "metadata": {
        "id": "13dQKIpgc2o0"
      },
      "source": [
        "Para rellenar la edad podríamos ser más precisos si usamos datos estimados más elaborados como la media de edad de los pasajeros en función del género"
      ]
    },
    {
      "cell_type": "code",
      "metadata": {
        "id": "XtGJM3p7WgMZ",
        "colab": {
          "base_uri": "https://localhost:8080/"
        },
        "outputId": "9b1793b9-1a28-4493-e2e6-e285aaef9807"
      },
      "source": [
        "train_data.groupby('Sex')['Age'].mean()"
      ],
      "execution_count": 13,
      "outputs": [
        {
          "output_type": "execute_result",
          "data": {
            "text/plain": [
              "Sex\n",
              "female    28.216730\n",
              "male      30.505824\n",
              "Name: Age, dtype: float64"
            ]
          },
          "metadata": {},
          "execution_count": 13
        }
      ]
    },
    {
      "cell_type": "markdown",
      "metadata": {
        "id": "X2wud7i0eUC4"
      },
      "source": [
        "O la media de edad en función del género y de la clase"
      ]
    },
    {
      "cell_type": "code",
      "metadata": {
        "id": "-7RiREveeHDF",
        "colab": {
          "base_uri": "https://localhost:8080/"
        },
        "outputId": "6ae5cc3b-dbb7-492c-8c96-c023ed18e493"
      },
      "source": [
        "train_data.groupby(['Sex','Pclass'])['Age'].mean()"
      ],
      "execution_count": 14,
      "outputs": [
        {
          "output_type": "execute_result",
          "data": {
            "text/plain": [
              "Sex     Pclass\n",
              "female  1         34.141405\n",
              "        2         28.748661\n",
              "        3         24.068493\n",
              "male    1         39.287717\n",
              "        2         30.653908\n",
              "        3         27.372153\n",
              "Name: Age, dtype: float64"
            ]
          },
          "metadata": {},
          "execution_count": 14
        }
      ]
    },
    {
      "cell_type": "markdown",
      "metadata": {
        "id": "gVrdZIqPupqy"
      },
      "source": [
        "Del atributo Embarked hay solo dos valores nulos por lo que optamos por rellenar los nulos con el valor más frecuente o probable"
      ]
    },
    {
      "cell_type": "code",
      "metadata": {
        "colab": {
          "base_uri": "https://localhost:8080/"
        },
        "id": "KbuXnFQlu3sf",
        "outputId": "d84b33f5-b9ba-412c-8f7c-703ed084576f"
      },
      "source": [
        "train_data.groupby('Embarked')['Embarked'].count()"
      ],
      "execution_count": 15,
      "outputs": [
        {
          "output_type": "execute_result",
          "data": {
            "text/plain": [
              "Embarked\n",
              "C    168\n",
              "Q     77\n",
              "S    644\n",
              "Name: Embarked, dtype: int64"
            ]
          },
          "metadata": {},
          "execution_count": 15
        }
      ]
    },
    {
      "cell_type": "code",
      "metadata": {
        "id": "ThgG0KUxvGRn"
      },
      "source": [
        "train_data['Embarked'] = train_data['Embarked'].fillna('S')"
      ],
      "execution_count": 16,
      "outputs": []
    },
    {
      "cell_type": "markdown",
      "metadata": {
        "id": "tTUULSEnuAIF"
      },
      "source": [
        "Vamos a eliminar las varibles o atributos con muchos valores nulos: el atributo Cabin tiene 204 valores y 687 valores nulos (sin información)"
      ]
    },
    {
      "cell_type": "code",
      "metadata": {
        "id": "gO1ZJOeYuHOS"
      },
      "source": [
        "del train_data['Cabin']"
      ],
      "execution_count": 17,
      "outputs": []
    },
    {
      "cell_type": "markdown",
      "metadata": {
        "id": "ZHBdh1BOvYAh"
      },
      "source": [
        "Y este es el dataframe resultante sin valores nulos"
      ]
    },
    {
      "cell_type": "code",
      "metadata": {
        "colab": {
          "base_uri": "https://localhost:8080/"
        },
        "id": "UrKriJCevdha",
        "outputId": "7736b5fa-19b2-403c-d595-6a1afa65fff6"
      },
      "source": [
        "train_data.info()"
      ],
      "execution_count": 18,
      "outputs": [
        {
          "output_type": "stream",
          "name": "stdout",
          "text": [
            "<class 'pandas.core.frame.DataFrame'>\n",
            "RangeIndex: 891 entries, 0 to 890\n",
            "Data columns (total 11 columns):\n",
            " #   Column       Non-Null Count  Dtype  \n",
            "---  ------       --------------  -----  \n",
            " 0   PassengerId  891 non-null    int64  \n",
            " 1   Survived     891 non-null    int64  \n",
            " 2   Pclass       891 non-null    int64  \n",
            " 3   Name         891 non-null    object \n",
            " 4   Sex          891 non-null    object \n",
            " 5   Age          891 non-null    float64\n",
            " 6   SibSp        891 non-null    int64  \n",
            " 7   Parch        891 non-null    int64  \n",
            " 8   Ticket       891 non-null    object \n",
            " 9   Fare         891 non-null    float64\n",
            " 10  Embarked     891 non-null    object \n",
            "dtypes: float64(2), int64(5), object(4)\n",
            "memory usage: 76.7+ KB\n"
          ]
        }
      ]
    },
    {
      "cell_type": "markdown",
      "metadata": {
        "id": "wFbpIYAAwypT"
      },
      "source": [
        "#¿Qué hacer con los atributos no numéricos?\n",
        "\n",
        "Para que nuestras máquinas funcionen debemos alimentarlos con números por lo que debemos convertir los atributos no numéricos o por categorías en atributos numéricos"
      ]
    },
    {
      "cell_type": "markdown",
      "metadata": {
        "id": "4qemOVgQxfBF"
      },
      "source": [
        "La función get_dummies() de Pandas convierte variables o atributos de categorías en varias variables numéricas con valores 0 y 1"
      ]
    },
    {
      "cell_type": "code",
      "metadata": {
        "colab": {
          "base_uri": "https://localhost:8080/",
          "height": 415
        },
        "id": "z7FcyzBFxZnQ",
        "outputId": "7cd5ab18-1432-4257-8539-613c3e8be982"
      },
      "source": [
        "pd.get_dummies(train_data[\"Sex\"])"
      ],
      "execution_count": 19,
      "outputs": [
        {
          "output_type": "execute_result",
          "data": {
            "text/html": [
              "<div>\n",
              "<style scoped>\n",
              "    .dataframe tbody tr th:only-of-type {\n",
              "        vertical-align: middle;\n",
              "    }\n",
              "\n",
              "    .dataframe tbody tr th {\n",
              "        vertical-align: top;\n",
              "    }\n",
              "\n",
              "    .dataframe thead th {\n",
              "        text-align: right;\n",
              "    }\n",
              "</style>\n",
              "<table border=\"1\" class=\"dataframe\">\n",
              "  <thead>\n",
              "    <tr style=\"text-align: right;\">\n",
              "      <th></th>\n",
              "      <th>female</th>\n",
              "      <th>male</th>\n",
              "    </tr>\n",
              "  </thead>\n",
              "  <tbody>\n",
              "    <tr>\n",
              "      <th>0</th>\n",
              "      <td>0</td>\n",
              "      <td>1</td>\n",
              "    </tr>\n",
              "    <tr>\n",
              "      <th>1</th>\n",
              "      <td>1</td>\n",
              "      <td>0</td>\n",
              "    </tr>\n",
              "    <tr>\n",
              "      <th>2</th>\n",
              "      <td>1</td>\n",
              "      <td>0</td>\n",
              "    </tr>\n",
              "    <tr>\n",
              "      <th>3</th>\n",
              "      <td>1</td>\n",
              "      <td>0</td>\n",
              "    </tr>\n",
              "    <tr>\n",
              "      <th>4</th>\n",
              "      <td>0</td>\n",
              "      <td>1</td>\n",
              "    </tr>\n",
              "    <tr>\n",
              "      <th>...</th>\n",
              "      <td>...</td>\n",
              "      <td>...</td>\n",
              "    </tr>\n",
              "    <tr>\n",
              "      <th>886</th>\n",
              "      <td>0</td>\n",
              "      <td>1</td>\n",
              "    </tr>\n",
              "    <tr>\n",
              "      <th>887</th>\n",
              "      <td>1</td>\n",
              "      <td>0</td>\n",
              "    </tr>\n",
              "    <tr>\n",
              "      <th>888</th>\n",
              "      <td>1</td>\n",
              "      <td>0</td>\n",
              "    </tr>\n",
              "    <tr>\n",
              "      <th>889</th>\n",
              "      <td>0</td>\n",
              "      <td>1</td>\n",
              "    </tr>\n",
              "    <tr>\n",
              "      <th>890</th>\n",
              "      <td>0</td>\n",
              "      <td>1</td>\n",
              "    </tr>\n",
              "  </tbody>\n",
              "</table>\n",
              "<p>891 rows × 2 columns</p>\n",
              "</div>"
            ],
            "text/plain": [
              "     female  male\n",
              "0         0     1\n",
              "1         1     0\n",
              "2         1     0\n",
              "3         1     0\n",
              "4         0     1\n",
              "..      ...   ...\n",
              "886       0     1\n",
              "887       1     0\n",
              "888       1     0\n",
              "889       0     1\n",
              "890       0     1\n",
              "\n",
              "[891 rows x 2 columns]"
            ]
          },
          "metadata": {},
          "execution_count": 19
        }
      ]
    },
    {
      "cell_type": "markdown",
      "metadata": {
        "id": "Q5IbFHXex-o6"
      },
      "source": [
        "Estas columnas tienen información redundante por lo que podemos eliminar una columna porque no aporta información"
      ]
    },
    {
      "cell_type": "code",
      "metadata": {
        "colab": {
          "base_uri": "https://localhost:8080/",
          "height": 415
        },
        "id": "ztaPUHiqyMNl",
        "outputId": "cbd7d35c-95ad-489a-988d-1242338e00fe"
      },
      "source": [
        "pd.get_dummies(train_data[\"Sex\"],drop_first=True)"
      ],
      "execution_count": 20,
      "outputs": [
        {
          "output_type": "execute_result",
          "data": {
            "text/html": [
              "<div>\n",
              "<style scoped>\n",
              "    .dataframe tbody tr th:only-of-type {\n",
              "        vertical-align: middle;\n",
              "    }\n",
              "\n",
              "    .dataframe tbody tr th {\n",
              "        vertical-align: top;\n",
              "    }\n",
              "\n",
              "    .dataframe thead th {\n",
              "        text-align: right;\n",
              "    }\n",
              "</style>\n",
              "<table border=\"1\" class=\"dataframe\">\n",
              "  <thead>\n",
              "    <tr style=\"text-align: right;\">\n",
              "      <th></th>\n",
              "      <th>male</th>\n",
              "    </tr>\n",
              "  </thead>\n",
              "  <tbody>\n",
              "    <tr>\n",
              "      <th>0</th>\n",
              "      <td>1</td>\n",
              "    </tr>\n",
              "    <tr>\n",
              "      <th>1</th>\n",
              "      <td>0</td>\n",
              "    </tr>\n",
              "    <tr>\n",
              "      <th>2</th>\n",
              "      <td>0</td>\n",
              "    </tr>\n",
              "    <tr>\n",
              "      <th>3</th>\n",
              "      <td>0</td>\n",
              "    </tr>\n",
              "    <tr>\n",
              "      <th>4</th>\n",
              "      <td>1</td>\n",
              "    </tr>\n",
              "    <tr>\n",
              "      <th>...</th>\n",
              "      <td>...</td>\n",
              "    </tr>\n",
              "    <tr>\n",
              "      <th>886</th>\n",
              "      <td>1</td>\n",
              "    </tr>\n",
              "    <tr>\n",
              "      <th>887</th>\n",
              "      <td>0</td>\n",
              "    </tr>\n",
              "    <tr>\n",
              "      <th>888</th>\n",
              "      <td>0</td>\n",
              "    </tr>\n",
              "    <tr>\n",
              "      <th>889</th>\n",
              "      <td>1</td>\n",
              "    </tr>\n",
              "    <tr>\n",
              "      <th>890</th>\n",
              "      <td>1</td>\n",
              "    </tr>\n",
              "  </tbody>\n",
              "</table>\n",
              "<p>891 rows × 1 columns</p>\n",
              "</div>"
            ],
            "text/plain": [
              "     male\n",
              "0       1\n",
              "1       0\n",
              "2       0\n",
              "3       0\n",
              "4       1\n",
              "..    ...\n",
              "886     1\n",
              "887     0\n",
              "888     0\n",
              "889     1\n",
              "890     1\n",
              "\n",
              "[891 rows x 1 columns]"
            ]
          },
          "metadata": {},
          "execution_count": 20
        }
      ]
    },
    {
      "cell_type": "markdown",
      "metadata": {
        "id": "qjgO0lAXzFI1"
      },
      "source": [
        "Así creamos un atributo numérico a partir de un atributo no numérico o por categorías"
      ]
    },
    {
      "cell_type": "code",
      "metadata": {
        "id": "k4H9J81Qy_dj"
      },
      "source": [
        "genero = pd.get_dummies(train_data[\"Sex\"],drop_first=True)"
      ],
      "execution_count": 21,
      "outputs": []
    },
    {
      "cell_type": "markdown",
      "metadata": {
        "id": "zgt7NwEHytRj"
      },
      "source": [
        "Hacemos lo mismo con el resto de atributos no numéricos"
      ]
    },
    {
      "cell_type": "code",
      "metadata": {
        "id": "7GWMslmTyry8"
      },
      "source": [
        "puerto = pd.get_dummies(train_data[\"Embarked\"],drop_first=True)"
      ],
      "execution_count": 22,
      "outputs": []
    },
    {
      "cell_type": "code",
      "metadata": {
        "colab": {
          "base_uri": "https://localhost:8080/",
          "height": 415
        },
        "id": "zSchkHvVzQv5",
        "outputId": "fe0113b8-ab51-4aaa-9605-4f464f4d8c4c"
      },
      "source": [
        "puerto"
      ],
      "execution_count": 23,
      "outputs": [
        {
          "output_type": "execute_result",
          "data": {
            "text/html": [
              "<div>\n",
              "<style scoped>\n",
              "    .dataframe tbody tr th:only-of-type {\n",
              "        vertical-align: middle;\n",
              "    }\n",
              "\n",
              "    .dataframe tbody tr th {\n",
              "        vertical-align: top;\n",
              "    }\n",
              "\n",
              "    .dataframe thead th {\n",
              "        text-align: right;\n",
              "    }\n",
              "</style>\n",
              "<table border=\"1\" class=\"dataframe\">\n",
              "  <thead>\n",
              "    <tr style=\"text-align: right;\">\n",
              "      <th></th>\n",
              "      <th>Q</th>\n",
              "      <th>S</th>\n",
              "    </tr>\n",
              "  </thead>\n",
              "  <tbody>\n",
              "    <tr>\n",
              "      <th>0</th>\n",
              "      <td>0</td>\n",
              "      <td>1</td>\n",
              "    </tr>\n",
              "    <tr>\n",
              "      <th>1</th>\n",
              "      <td>0</td>\n",
              "      <td>0</td>\n",
              "    </tr>\n",
              "    <tr>\n",
              "      <th>2</th>\n",
              "      <td>0</td>\n",
              "      <td>1</td>\n",
              "    </tr>\n",
              "    <tr>\n",
              "      <th>3</th>\n",
              "      <td>0</td>\n",
              "      <td>1</td>\n",
              "    </tr>\n",
              "    <tr>\n",
              "      <th>4</th>\n",
              "      <td>0</td>\n",
              "      <td>1</td>\n",
              "    </tr>\n",
              "    <tr>\n",
              "      <th>...</th>\n",
              "      <td>...</td>\n",
              "      <td>...</td>\n",
              "    </tr>\n",
              "    <tr>\n",
              "      <th>886</th>\n",
              "      <td>0</td>\n",
              "      <td>1</td>\n",
              "    </tr>\n",
              "    <tr>\n",
              "      <th>887</th>\n",
              "      <td>0</td>\n",
              "      <td>1</td>\n",
              "    </tr>\n",
              "    <tr>\n",
              "      <th>888</th>\n",
              "      <td>0</td>\n",
              "      <td>1</td>\n",
              "    </tr>\n",
              "    <tr>\n",
              "      <th>889</th>\n",
              "      <td>0</td>\n",
              "      <td>0</td>\n",
              "    </tr>\n",
              "    <tr>\n",
              "      <th>890</th>\n",
              "      <td>1</td>\n",
              "      <td>0</td>\n",
              "    </tr>\n",
              "  </tbody>\n",
              "</table>\n",
              "<p>891 rows × 2 columns</p>\n",
              "</div>"
            ],
            "text/plain": [
              "     Q  S\n",
              "0    0  1\n",
              "1    0  0\n",
              "2    0  1\n",
              "3    0  1\n",
              "4    0  1\n",
              "..  .. ..\n",
              "886  0  1\n",
              "887  0  1\n",
              "888  0  1\n",
              "889  0  0\n",
              "890  1  0\n",
              "\n",
              "[891 rows x 2 columns]"
            ]
          },
          "metadata": {},
          "execution_count": 23
        }
      ]
    },
    {
      "cell_type": "markdown",
      "metadata": {
        "id": "0Y0-Zka30B7a"
      },
      "source": [
        "Añadimos estas columnas a nuestro DataFrame"
      ]
    },
    {
      "cell_type": "code",
      "metadata": {
        "id": "Mc1JvhDbzzRz"
      },
      "source": [
        "train_data = pd.concat([train_data,genero,puerto],axis=1)"
      ],
      "execution_count": 24,
      "outputs": []
    },
    {
      "cell_type": "code",
      "metadata": {
        "colab": {
          "base_uri": "https://localhost:8080/"
        },
        "id": "KkVAeVMZ1Qrt",
        "outputId": "f862ea00-771f-42f3-b686-e30142760a99"
      },
      "source": [
        "train_data.info()"
      ],
      "execution_count": 25,
      "outputs": [
        {
          "output_type": "stream",
          "name": "stdout",
          "text": [
            "<class 'pandas.core.frame.DataFrame'>\n",
            "RangeIndex: 891 entries, 0 to 890\n",
            "Data columns (total 14 columns):\n",
            " #   Column       Non-Null Count  Dtype  \n",
            "---  ------       --------------  -----  \n",
            " 0   PassengerId  891 non-null    int64  \n",
            " 1   Survived     891 non-null    int64  \n",
            " 2   Pclass       891 non-null    int64  \n",
            " 3   Name         891 non-null    object \n",
            " 4   Sex          891 non-null    object \n",
            " 5   Age          891 non-null    float64\n",
            " 6   SibSp        891 non-null    int64  \n",
            " 7   Parch        891 non-null    int64  \n",
            " 8   Ticket       891 non-null    object \n",
            " 9   Fare         891 non-null    float64\n",
            " 10  Embarked     891 non-null    object \n",
            " 11  male         891 non-null    uint8  \n",
            " 12  Q            891 non-null    uint8  \n",
            " 13  S            891 non-null    uint8  \n",
            "dtypes: float64(2), int64(5), object(4), uint8(3)\n",
            "memory usage: 79.3+ KB\n"
          ]
        }
      ]
    },
    {
      "cell_type": "markdown",
      "metadata": {
        "id": "OGArWr5F0ZEV"
      },
      "source": [
        "Y eliminamos las columnas con datos por categorías"
      ]
    },
    {
      "cell_type": "code",
      "metadata": {
        "id": "SnW00YJD1PIX"
      },
      "source": [
        "train_data.drop([\"PassengerId\",\"Name\",\"Sex\",\"Ticket\",\"Embarked\"],axis=1,inplace=True)"
      ],
      "execution_count": 26,
      "outputs": []
    },
    {
      "cell_type": "code",
      "metadata": {
        "colab": {
          "base_uri": "https://localhost:8080/"
        },
        "id": "EQf5_JqF0k5u",
        "outputId": "feed5b2a-62ff-4dc9-cdc4-8e1407180718"
      },
      "source": [
        "train_data.info()"
      ],
      "execution_count": 27,
      "outputs": [
        {
          "output_type": "stream",
          "name": "stdout",
          "text": [
            "<class 'pandas.core.frame.DataFrame'>\n",
            "RangeIndex: 891 entries, 0 to 890\n",
            "Data columns (total 9 columns):\n",
            " #   Column    Non-Null Count  Dtype  \n",
            "---  ------    --------------  -----  \n",
            " 0   Survived  891 non-null    int64  \n",
            " 1   Pclass    891 non-null    int64  \n",
            " 2   Age       891 non-null    float64\n",
            " 3   SibSp     891 non-null    int64  \n",
            " 4   Parch     891 non-null    int64  \n",
            " 5   Fare      891 non-null    float64\n",
            " 6   male      891 non-null    uint8  \n",
            " 7   Q         891 non-null    uint8  \n",
            " 8   S         891 non-null    uint8  \n",
            "dtypes: float64(2), int64(4), uint8(3)\n",
            "memory usage: 44.5 KB\n"
          ]
        }
      ]
    },
    {
      "cell_type": "markdown",
      "metadata": {
        "id": "kStZmnHX2AG7"
      },
      "source": [
        "Podemos ver las correlaciones entre todos los atributos porque ahora son todos numéricos"
      ]
    },
    {
      "cell_type": "code",
      "metadata": {
        "id": "BtQOSbX20tWb"
      },
      "source": [
        "import matplotlib.pyplot as plt\n",
        "import seaborn as sns\n",
        "sns.set()"
      ],
      "execution_count": 28,
      "outputs": []
    },
    {
      "cell_type": "code",
      "metadata": {
        "colab": {
          "base_uri": "https://localhost:8080/",
          "height": 325
        },
        "id": "FSFFlW1W2Nm1",
        "outputId": "36914f22-63e6-4b11-e400-4bb83d50ce9f"
      },
      "source": [
        "train_data.corr()"
      ],
      "execution_count": 29,
      "outputs": [
        {
          "output_type": "execute_result",
          "data": {
            "text/html": [
              "<div>\n",
              "<style scoped>\n",
              "    .dataframe tbody tr th:only-of-type {\n",
              "        vertical-align: middle;\n",
              "    }\n",
              "\n",
              "    .dataframe tbody tr th {\n",
              "        vertical-align: top;\n",
              "    }\n",
              "\n",
              "    .dataframe thead th {\n",
              "        text-align: right;\n",
              "    }\n",
              "</style>\n",
              "<table border=\"1\" class=\"dataframe\">\n",
              "  <thead>\n",
              "    <tr style=\"text-align: right;\">\n",
              "      <th></th>\n",
              "      <th>Survived</th>\n",
              "      <th>Pclass</th>\n",
              "      <th>Age</th>\n",
              "      <th>SibSp</th>\n",
              "      <th>Parch</th>\n",
              "      <th>Fare</th>\n",
              "      <th>male</th>\n",
              "      <th>Q</th>\n",
              "      <th>S</th>\n",
              "    </tr>\n",
              "  </thead>\n",
              "  <tbody>\n",
              "    <tr>\n",
              "      <th>Survived</th>\n",
              "      <td>1.000000</td>\n",
              "      <td>-0.338481</td>\n",
              "      <td>-0.069809</td>\n",
              "      <td>-0.035322</td>\n",
              "      <td>0.081629</td>\n",
              "      <td>0.257307</td>\n",
              "      <td>-0.543351</td>\n",
              "      <td>0.003650</td>\n",
              "      <td>-0.149683</td>\n",
              "    </tr>\n",
              "    <tr>\n",
              "      <th>Pclass</th>\n",
              "      <td>-0.338481</td>\n",
              "      <td>1.000000</td>\n",
              "      <td>-0.331339</td>\n",
              "      <td>0.083081</td>\n",
              "      <td>0.018443</td>\n",
              "      <td>-0.549500</td>\n",
              "      <td>0.131900</td>\n",
              "      <td>0.221009</td>\n",
              "      <td>0.074053</td>\n",
              "    </tr>\n",
              "    <tr>\n",
              "      <th>Age</th>\n",
              "      <td>-0.069809</td>\n",
              "      <td>-0.331339</td>\n",
              "      <td>1.000000</td>\n",
              "      <td>-0.232625</td>\n",
              "      <td>-0.179191</td>\n",
              "      <td>0.091566</td>\n",
              "      <td>0.084153</td>\n",
              "      <td>-0.013855</td>\n",
              "      <td>-0.019336</td>\n",
              "    </tr>\n",
              "    <tr>\n",
              "      <th>SibSp</th>\n",
              "      <td>-0.035322</td>\n",
              "      <td>0.083081</td>\n",
              "      <td>-0.232625</td>\n",
              "      <td>1.000000</td>\n",
              "      <td>0.414838</td>\n",
              "      <td>0.159651</td>\n",
              "      <td>-0.114631</td>\n",
              "      <td>-0.026354</td>\n",
              "      <td>0.068734</td>\n",
              "    </tr>\n",
              "    <tr>\n",
              "      <th>Parch</th>\n",
              "      <td>0.081629</td>\n",
              "      <td>0.018443</td>\n",
              "      <td>-0.179191</td>\n",
              "      <td>0.414838</td>\n",
              "      <td>1.000000</td>\n",
              "      <td>0.216225</td>\n",
              "      <td>-0.245489</td>\n",
              "      <td>-0.081228</td>\n",
              "      <td>0.060814</td>\n",
              "    </tr>\n",
              "    <tr>\n",
              "      <th>Fare</th>\n",
              "      <td>0.257307</td>\n",
              "      <td>-0.549500</td>\n",
              "      <td>0.091566</td>\n",
              "      <td>0.159651</td>\n",
              "      <td>0.216225</td>\n",
              "      <td>1.000000</td>\n",
              "      <td>-0.182333</td>\n",
              "      <td>-0.117216</td>\n",
              "      <td>-0.162184</td>\n",
              "    </tr>\n",
              "    <tr>\n",
              "      <th>male</th>\n",
              "      <td>-0.543351</td>\n",
              "      <td>0.131900</td>\n",
              "      <td>0.084153</td>\n",
              "      <td>-0.114631</td>\n",
              "      <td>-0.245489</td>\n",
              "      <td>-0.182333</td>\n",
              "      <td>1.000000</td>\n",
              "      <td>-0.074115</td>\n",
              "      <td>0.119224</td>\n",
              "    </tr>\n",
              "    <tr>\n",
              "      <th>Q</th>\n",
              "      <td>0.003650</td>\n",
              "      <td>0.221009</td>\n",
              "      <td>-0.013855</td>\n",
              "      <td>-0.026354</td>\n",
              "      <td>-0.081228</td>\n",
              "      <td>-0.117216</td>\n",
              "      <td>-0.074115</td>\n",
              "      <td>1.000000</td>\n",
              "      <td>-0.499421</td>\n",
              "    </tr>\n",
              "    <tr>\n",
              "      <th>S</th>\n",
              "      <td>-0.149683</td>\n",
              "      <td>0.074053</td>\n",
              "      <td>-0.019336</td>\n",
              "      <td>0.068734</td>\n",
              "      <td>0.060814</td>\n",
              "      <td>-0.162184</td>\n",
              "      <td>0.119224</td>\n",
              "      <td>-0.499421</td>\n",
              "      <td>1.000000</td>\n",
              "    </tr>\n",
              "  </tbody>\n",
              "</table>\n",
              "</div>"
            ],
            "text/plain": [
              "          Survived    Pclass       Age  ...      male         Q         S\n",
              "Survived  1.000000 -0.338481 -0.069809  ... -0.543351  0.003650 -0.149683\n",
              "Pclass   -0.338481  1.000000 -0.331339  ...  0.131900  0.221009  0.074053\n",
              "Age      -0.069809 -0.331339  1.000000  ...  0.084153 -0.013855 -0.019336\n",
              "SibSp    -0.035322  0.083081 -0.232625  ... -0.114631 -0.026354  0.068734\n",
              "Parch     0.081629  0.018443 -0.179191  ... -0.245489 -0.081228  0.060814\n",
              "Fare      0.257307 -0.549500  0.091566  ... -0.182333 -0.117216 -0.162184\n",
              "male     -0.543351  0.131900  0.084153  ...  1.000000 -0.074115  0.119224\n",
              "Q         0.003650  0.221009 -0.013855  ... -0.074115  1.000000 -0.499421\n",
              "S        -0.149683  0.074053 -0.019336  ...  0.119224 -0.499421  1.000000\n",
              "\n",
              "[9 rows x 9 columns]"
            ]
          },
          "metadata": {},
          "execution_count": 29
        }
      ]
    },
    {
      "cell_type": "code",
      "metadata": {
        "colab": {
          "base_uri": "https://localhost:8080/",
          "height": 289
        },
        "id": "ibhX1bxD2Quc",
        "outputId": "fad6bad6-6822-470b-9eb7-d5bc5870b674"
      },
      "source": [
        "fig,ax = plt.subplots(figsize=(12,4))\n",
        "sns.heatmap(train_data.corr(), annot=True)"
      ],
      "execution_count": 30,
      "outputs": [
        {
          "output_type": "execute_result",
          "data": {
            "text/plain": [
              "<matplotlib.axes._subplots.AxesSubplot at 0x7fa2f71049d0>"
            ]
          },
          "metadata": {},
          "execution_count": 30
        },
        {
          "output_type": "display_data",
          "data": {
            "image/png": "[encoded data removed]",
            "text/plain": [
              "<Figure size 864x288 with 2 Axes>"
            ]
          },
          "metadata": {}
        }
      ]
    },
    {
      "cell_type": "markdown",
      "metadata": {
        "id": "VBLdBXzY4qL5"
      },
      "source": [
        "#Modelos de predicción con Machine Learning\n",
        "\n",
        "## Modelo de Regresión Logística\n",
        "\n",
        "El valor que queremos predecir es si el pasajero sobrevivió o no al naufragio por lo que solo hay dos resultados posibles. Tenemos por tanto un problema de Regresión Logística"
      ]
    },
    {
      "cell_type": "markdown",
      "metadata": {
        "id": "hU3532p55VRr"
      },
      "source": [
        "Del dataset obtenemos los atributos y la variable a predecir"
      ]
    },
    {
      "cell_type": "code",
      "metadata": {
        "id": "PlI9Wi1u5eOB"
      },
      "source": [
        "X = train_data.drop(\"Survived\",axis=1)\n",
        "y = train_data[\"Survived\"]"
      ],
      "execution_count": 31,
      "outputs": []
    },
    {
      "cell_type": "markdown",
      "metadata": {
        "id": "HVXoh-386HEj"
      },
      "source": [
        "Para saber si nuestro modelo de predicción es bueno debemos reservar una parte de los datos para posteriormente contrastar los resultados predecidos con los reales\n",
        "\n",
        "Usaremos train_test_split del módulo cross_validation para dividir nuestros datos. El 70% de los datos serán datos de entrenamiento y el 30% serán datos de prueba."
      ]
    },
    {
      "cell_type": "code",
      "metadata": {
        "id": "-hzIaJno6epg"
      },
      "source": [
        "from sklearn.model_selection import train_test_split\n",
        "X_train, X_test, y_train, y_test = train_test_split(X, y, test_size = 0.2, random_state = 101)"
      ],
      "execution_count": 32,
      "outputs": []
    },
    {
      "cell_type": "code",
      "metadata": {
        "colab": {
          "base_uri": "https://localhost:8080/"
        },
        "id": "VPVxptSX6qll",
        "outputId": "56d22e9d-4edd-4af7-b921-36694deb3531"
      },
      "source": [
        "from sklearn.linear_model import LogisticRegression\n",
        "rl = LogisticRegression()\n",
        "rl.fit(X_train,y_train)"
      ],
      "execution_count": 33,
      "outputs": [
        {
          "output_type": "stream",
          "name": "stderr",
          "text": [
            "/usr/local/lib/python3.7/dist-packages/sklearn/linear_model/_logistic.py:818: ConvergenceWarning: lbfgs failed to converge (status=1):\n",
            "STOP: TOTAL NO. of ITERATIONS REACHED LIMIT.\n",
            "\n",
            "Increase the number of iterations (max_iter) or scale the data as shown in:\n",
            "    https://scikit-learn.org/stable/modules/preprocessing.html\n",
            "Please also refer to the documentation for alternative solver options:\n",
            "    https://scikit-learn.org/stable/modules/linear_model.html#logistic-regression\n",
            "  extra_warning_msg=_LOGISTIC_SOLVER_CONVERGENCE_MSG,\n"
          ]
        },
        {
          "output_type": "execute_result",
          "data": {
            "text/plain": [
              "LogisticRegression()"
            ]
          },
          "metadata": {},
          "execution_count": 33
        }
      ]
    },
    {
      "cell_type": "code",
      "metadata": {
        "colab": {
          "base_uri": "https://localhost:8080/"
        },
        "id": "c2NT2Qh2Q32t",
        "outputId": "5fa7d698-f682-4ad0-f66a-182d8f19ac96"
      },
      "source": [
        "rl = LogisticRegression(max_iter=300)\n",
        "rl.fit(X_train,y_train)"
      ],
      "execution_count": 34,
      "outputs": [
        {
          "output_type": "execute_result",
          "data": {
            "text/plain": [
              "LogisticRegression(max_iter=300)"
            ]
          },
          "metadata": {},
          "execution_count": 34
        }
      ]
    },
    {
      "cell_type": "code",
      "metadata": {
        "id": "brlW0oBezRaJ",
        "colab": {
          "base_uri": "https://localhost:8080/"
        },
        "outputId": "677c6a91-6d33-4102-afd3-2d55f3c3a3bc"
      },
      "source": [
        "print(rl.score(X_train, y_train))"
      ],
      "execution_count": 35,
      "outputs": [
        {
          "output_type": "stream",
          "name": "stdout",
          "text": [
            "0.8047752808988764\n"
          ]
        }
      ]
    },
    {
      "cell_type": "code",
      "metadata": {
        "id": "d5TD-OntzLej",
        "colab": {
          "base_uri": "https://localhost:8080/"
        },
        "outputId": "fc815ad8-3564-4b7d-d3d6-11243881a5f8"
      },
      "source": [
        "print(rl.score(X_test, y_test))"
      ],
      "execution_count": 36,
      "outputs": [
        {
          "output_type": "stream",
          "name": "stdout",
          "text": [
            "0.8044692737430168\n"
          ]
        }
      ]
    },
    {
      "cell_type": "markdown",
      "metadata": {
        "id": "zgkeHhAi62SP"
      },
      "source": [
        "Comprobemos la precisión del modelo"
      ]
    },
    {
      "cell_type": "markdown",
      "metadata": {
        "id": "643cCy7x2QU5"
      },
      "source": [
        "En primer lugar vemos cómo se comporta el modelo con los datos de entrenamiento"
      ]
    },
    {
      "cell_type": "code",
      "metadata": {
        "id": "xq5UzQfo2hwS",
        "colab": {
          "base_uri": "https://localhost:8080/"
        },
        "outputId": "3e9b9016-5853-4afb-9c18-6726c5030a08"
      },
      "source": [
        "y_pred = rl.predict(X_train)\n",
        "from sklearn.metrics import classification_report\n",
        "print(classification_report(y_train, y_pred))"
      ],
      "execution_count": 37,
      "outputs": [
        {
          "output_type": "stream",
          "name": "stdout",
          "text": [
            "              precision    recall  f1-score   support\n",
            "\n",
            "           0       0.83      0.88      0.85       450\n",
            "           1       0.76      0.68      0.72       262\n",
            "\n",
            "    accuracy                           0.80       712\n",
            "   macro avg       0.79      0.78      0.79       712\n",
            "weighted avg       0.80      0.80      0.80       712\n",
            "\n"
          ]
        }
      ]
    },
    {
      "cell_type": "code",
      "metadata": {
        "id": "JjxMnMf524sA",
        "colab": {
          "base_uri": "https://localhost:8080/"
        },
        "outputId": "ba707b46-ef18-43c1-b77f-9e5eda35490d"
      },
      "source": [
        "from sklearn.metrics import confusion_matrix\n",
        "confusion_matrix(y_train, y_pred)"
      ],
      "execution_count": 38,
      "outputs": [
        {
          "output_type": "execute_result",
          "data": {
            "text/plain": [
              "array([[394,  56],\n",
              "       [ 83, 179]])"
            ]
          },
          "metadata": {},
          "execution_count": 38
        }
      ]
    },
    {
      "cell_type": "code",
      "metadata": {
        "id": "h4-kSfIc3FUy",
        "colab": {
          "base_uri": "https://localhost:8080/",
          "height": 285
        },
        "outputId": "6ed8a3b9-261b-47be-afd3-65c088a0d8e5"
      },
      "source": [
        "from sklearn.metrics import ConfusionMatrixDisplay\n",
        "cm = confusion_matrix(y_train, y_pred)\n",
        "disp = ConfusionMatrixDisplay(confusion_matrix=cm, display_labels=rl.classes_)\n",
        "disp.plot()\n",
        "plt.show()"
      ],
      "execution_count": 39,
      "outputs": [
        {
          "output_type": "display_data",
          "data": {
            "image/png": "[encoded data removed]",
            "text/plain": [
              "<Figure size 432x288 with 2 Axes>"
            ]
          },
          "metadata": {}
        }
      ]
    },
    {
      "cell_type": "markdown",
      "metadata": {
        "id": "EHoqyk3i2YKr"
      },
      "source": [
        "Y ahora comprobamos cómo se comporta el modelo con los datos de test o prueba "
      ]
    },
    {
      "cell_type": "code",
      "metadata": {
        "colab": {
          "base_uri": "https://localhost:8080/"
        },
        "id": "8CQzs3Km6_V9",
        "outputId": "682273dd-7c48-4c13-d438-fceefc74e671"
      },
      "source": [
        "predictions_rl = rl.predict(X_test)\n",
        "print(classification_report(y_test, predictions_rl))"
      ],
      "execution_count": 40,
      "outputs": [
        {
          "output_type": "stream",
          "name": "stdout",
          "text": [
            "              precision    recall  f1-score   support\n",
            "\n",
            "           0       0.79      0.88      0.83        99\n",
            "           1       0.83      0.71      0.77        80\n",
            "\n",
            "    accuracy                           0.80       179\n",
            "   macro avg       0.81      0.80      0.80       179\n",
            "weighted avg       0.81      0.80      0.80       179\n",
            "\n"
          ]
        }
      ]
    },
    {
      "cell_type": "markdown",
      "metadata": {
        "id": "6Z9RLdQC7KkU"
      },
      "source": [
        "\n",
        "Conseguimos un 80% de precisión, nada mal. Veamos la matriz de confusión"
      ]
    },
    {
      "cell_type": "code",
      "metadata": {
        "colab": {
          "base_uri": "https://localhost:8080/"
        },
        "id": "Vr0Dg4Jg7OLR",
        "outputId": "40d725a0-85f3-45e8-d356-984348595aa8"
      },
      "source": [
        "confusion_matrix(y_test, predictions_rl)"
      ],
      "execution_count": 41,
      "outputs": [
        {
          "output_type": "execute_result",
          "data": {
            "text/plain": [
              "array([[87, 12],\n",
              "       [23, 57]])"
            ]
          },
          "metadata": {},
          "execution_count": 41
        }
      ]
    },
    {
      "cell_type": "markdown",
      "metadata": {
        "id": "gvelNolIu29w"
      },
      "source": [
        "Podemos visualizar la matriz de confusión para interpretar más fácilmente los datos"
      ]
    },
    {
      "cell_type": "code",
      "metadata": {
        "id": "zM3UNu8NuKor",
        "colab": {
          "base_uri": "https://localhost:8080/",
          "height": 285
        },
        "outputId": "fc26d0fa-7fcf-4f2b-b18b-294888f68d56"
      },
      "source": [
        "cm = confusion_matrix(y_test, predictions_rl)\n",
        "disp = ConfusionMatrixDisplay(confusion_matrix=cm)\n",
        "disp.plot()\n",
        "plt.show()"
      ],
      "execution_count": 42,
      "outputs": [
        {
          "output_type": "display_data",
          "data": {
            "image/png": "[encoded data removed]",
            "text/plain": [
              "<Figure size 432x288 with 2 Axes>"
            ]
          },
          "metadata": {}
        }
      ]
    },
    {
      "cell_type": "markdown",
      "metadata": {
        "id": "eCQcavzx7doo"
      },
      "source": [
        "Verdadero positivo: 88 (predijimos un resultado positivo y fue positivo)\n",
        "\n",
        "Verdadero negativo: 55 (predijimos un resultado negativo y fue negativo)\n",
        "\n",
        "Falso positivo: 11 (Predijimos un resultado positivo y fue negativo)\n",
        "\n",
        "Falso negativo: 25 (Predijimos un resultado negativo y fue positivo)"
      ]
    },
    {
      "cell_type": "markdown",
      "metadata": {
        "id": "8aezs4fXUUrE"
      },
      "source": [
        "Para validar el modelo usaremos la validación cruzada que prueba el modelo con distintas selecciones de datos de entrenamiento (X_train, y_train) y de prueba (X_test, y_test)"
      ]
    },
    {
      "cell_type": "code",
      "metadata": {
        "colab": {
          "base_uri": "https://localhost:8080/"
        },
        "id": "JBGM7UicMRJ6",
        "outputId": "f86e20bd-a58a-4010-8d09-a556e13f0623"
      },
      "source": [
        "from sklearn.model_selection import cross_val_score\n",
        "cross_val_score(rl,X,y)  #Por defecto utiliza 5 folds"
      ],
      "execution_count": 43,
      "outputs": [
        {
          "output_type": "execute_result",
          "data": {
            "text/plain": [
              "array([0.78212291, 0.78089888, 0.78651685, 0.76966292, 0.8258427 ])"
            ]
          },
          "metadata": {},
          "execution_count": 43
        }
      ]
    },
    {
      "cell_type": "code",
      "metadata": {
        "colab": {
          "base_uri": "https://localhost:8080/"
        },
        "id": "FVPl4gNfS04d",
        "outputId": "bb9f995f-3e68-45f1-d2a7-bc25a56ad72d"
      },
      "source": [
        "print(cross_val_score(rl,X,y).mean())"
      ],
      "execution_count": 44,
      "outputs": [
        {
          "output_type": "stream",
          "name": "stdout",
          "text": [
            "0.789008850668508\n"
          ]
        }
      ]
    },
    {
      "cell_type": "markdown",
      "metadata": {
        "id": "eExSiKDs0w78"
      },
      "source": [
        "##Modelo de K Nearest Neighbours (KNN)"
      ]
    },
    {
      "cell_type": "code",
      "metadata": {
        "id": "3JWXk0nA04BK"
      },
      "source": [
        "from sklearn.neighbors import KNeighborsClassifier\n",
        "knn = KNeighborsClassifier(n_neighbors = 3)"
      ],
      "execution_count": 45,
      "outputs": []
    },
    {
      "cell_type": "code",
      "metadata": {
        "colab": {
          "base_uri": "https://localhost:8080/"
        },
        "id": "EcMHtUel1DDZ",
        "outputId": "190bd667-d02f-4773-eaa5-b7937aead6cd"
      },
      "source": [
        "knn.fit(X_train, y_train)"
      ],
      "execution_count": 46,
      "outputs": [
        {
          "output_type": "execute_result",
          "data": {
            "text/plain": [
              "KNeighborsClassifier(n_neighbors=3)"
            ]
          },
          "metadata": {},
          "execution_count": 46
        }
      ]
    },
    {
      "cell_type": "code",
      "metadata": {
        "colab": {
          "base_uri": "https://localhost:8080/"
        },
        "id": "UFsGWIHg1DDa",
        "outputId": "0a2672df-da1c-47be-a73d-4abc93e2b7dd"
      },
      "source": [
        "predictions_knn = knn.predict(X_test)\n",
        "print(knn.score(X_train, y_train))"
      ],
      "execution_count": 47,
      "outputs": [
        {
          "output_type": "stream",
          "name": "stdout",
          "text": [
            "0.8328651685393258\n"
          ]
        }
      ]
    },
    {
      "cell_type": "code",
      "metadata": {
        "colab": {
          "base_uri": "https://localhost:8080/"
        },
        "id": "f-b9t2GZ1DDa",
        "outputId": "5fbd901a-9a54-4c46-91c9-4d9a224b8556"
      },
      "source": [
        "print(knn.score(X_test, y_test))"
      ],
      "execution_count": 48,
      "outputs": [
        {
          "output_type": "stream",
          "name": "stdout",
          "text": [
            "0.6815642458100558\n"
          ]
        }
      ]
    },
    {
      "cell_type": "code",
      "metadata": {
        "colab": {
          "base_uri": "https://localhost:8080/"
        },
        "id": "PY7dlmpB1DDa",
        "outputId": "864dda4b-87b1-4b93-dd20-1ed23373d7f6"
      },
      "source": [
        "predictions_knn = knn.predict(X_test)\n",
        "print(classification_report(y_test, predictions_knn))"
      ],
      "execution_count": 49,
      "outputs": [
        {
          "output_type": "stream",
          "name": "stdout",
          "text": [
            "              precision    recall  f1-score   support\n",
            "\n",
            "           0       0.67      0.84      0.74        99\n",
            "           1       0.71      0.49      0.58        80\n",
            "\n",
            "    accuracy                           0.68       179\n",
            "   macro avg       0.69      0.66      0.66       179\n",
            "weighted avg       0.69      0.68      0.67       179\n",
            "\n"
          ]
        }
      ]
    },
    {
      "cell_type": "code",
      "metadata": {
        "colab": {
          "base_uri": "https://localhost:8080/",
          "height": 285
        },
        "id": "sGAOW9J71DDa",
        "outputId": "3fa3bbb8-1d37-4092-e022-b9dd8b479a2e"
      },
      "source": [
        "cm = confusion_matrix(y_test, predictions_knn)\n",
        "disp = ConfusionMatrixDisplay(confusion_matrix=cm)\n",
        "disp.plot()\n",
        "plt.show()"
      ],
      "execution_count": 50,
      "outputs": [
        {
          "output_type": "display_data",
          "data": {
            "image/png": "[encoded data removed]",
            "text/plain": [
              "<Figure size 432x288 with 2 Axes>"
            ]
          },
          "metadata": {}
        }
      ]
    },
    {
      "cell_type": "markdown",
      "metadata": {
        "id": "o2Oebh28VtVb"
      },
      "source": [
        "Comprobamos la precisión del modelo con la validación cruzada"
      ]
    },
    {
      "cell_type": "code",
      "metadata": {
        "colab": {
          "base_uri": "https://localhost:8080/"
        },
        "id": "-hCmxeEDVlez",
        "outputId": "78e59955-5119-4ee9-96e2-45b424e8d10e"
      },
      "source": [
        "print(cross_val_score(knn,X,y).mean())"
      ],
      "execution_count": 51,
      "outputs": [
        {
          "output_type": "stream",
          "name": "stdout",
          "text": [
            "0.7015127738371728\n"
          ]
        }
      ]
    },
    {
      "cell_type": "markdown",
      "metadata": {
        "id": "NCRDRm--vTYP"
      },
      "source": [
        "##Modelo de Random Forest"
      ]
    },
    {
      "cell_type": "code",
      "metadata": {
        "id": "QiZXdvB_vbmx",
        "colab": {
          "base_uri": "https://localhost:8080/"
        },
        "outputId": "bf3c695a-dc7e-4ccf-e9b6-daf0090e8ebf"
      },
      "source": [
        "from sklearn.ensemble import RandomForestClassifier\n",
        "\n",
        "rf = RandomForestClassifier(n_estimators=200)\n",
        "\n",
        "#Train the model using the training sets y_pred=clf.predict(X_test)\n",
        "rf.fit(X_train, y_train)"
      ],
      "execution_count": 52,
      "outputs": [
        {
          "output_type": "execute_result",
          "data": {
            "text/plain": [
              "RandomForestClassifier(n_estimators=200)"
            ]
          },
          "metadata": {},
          "execution_count": 52
        }
      ]
    },
    {
      "cell_type": "code",
      "metadata": {
        "id": "69mYcPHtyhzY",
        "colab": {
          "base_uri": "https://localhost:8080/"
        },
        "outputId": "e7911404-0583-41d3-91a0-0769bcb530d3"
      },
      "source": [
        "print(rf.score(X_train, y_train))"
      ],
      "execution_count": 53,
      "outputs": [
        {
          "output_type": "stream",
          "name": "stdout",
          "text": [
            "0.9859550561797753\n"
          ]
        }
      ]
    },
    {
      "cell_type": "code",
      "metadata": {
        "id": "la6jhLQZ0APb",
        "colab": {
          "base_uri": "https://localhost:8080/"
        },
        "outputId": "0a64e53f-f2b0-447c-83d8-46a60e6846e5"
      },
      "source": [
        "print(rf.score(X_test, y_test))"
      ],
      "execution_count": 54,
      "outputs": [
        {
          "output_type": "stream",
          "name": "stdout",
          "text": [
            "0.7932960893854749\n"
          ]
        }
      ]
    },
    {
      "cell_type": "markdown",
      "metadata": {
        "id": "2LINQTgMv8un"
      },
      "source": [
        "Podemos visualizar la importancia de cada variable o característica del pasajero"
      ]
    },
    {
      "cell_type": "code",
      "metadata": {
        "id": "-jqQjh3Avw26",
        "colab": {
          "base_uri": "https://localhost:8080/",
          "height": 437
        },
        "outputId": "3b6914ae-de70-4a32-bd0b-c5e6b3ff5a2e"
      },
      "source": [
        "feature_imp = pd.Series(rf.feature_importances_, index=X_train.columns).sort_values(ascending=False)\n",
        "\n",
        "#print(\"Accuracy: {}\".format(metrics.accuracy_score(y_test, y_pred)))\n",
        "\n",
        "plt.figure(figsize=(10,6))\n",
        "sns.barplot(x=feature_imp, y=feature_imp.index)\n",
        "# Add labels to your graph\n",
        "plt.xlabel('Feature Importance Score')\n",
        "plt.ylabel('Features')\n",
        "plt.title(\"Visualizing Important Features\")\n",
        "plt.tight_layout()"
      ],
      "execution_count": 55,
      "outputs": [
        {
          "output_type": "display_data",
          "data": {
            "image/png": "[encoded data removed]",
            "text/plain": [
              "<Figure size 720x432 with 1 Axes>"
            ]
          },
          "metadata": {}
        }
      ]
    },
    {
      "cell_type": "markdown",
      "metadata": {
        "id": "jeEx2ErrwQ-U"
      },
      "source": [
        "Comprobamos el resultado del modelo en el conjunto de datos de prueba o test"
      ]
    },
    {
      "cell_type": "code",
      "metadata": {
        "id": "r6JppQMSwQgS",
        "colab": {
          "base_uri": "https://localhost:8080/"
        },
        "outputId": "e8c39f42-d252-4d79-f79d-3671e5ff7fb3"
      },
      "source": [
        "predictions_rf = rf.predict(X_test)\n",
        "print(classification_report(y_test, predictions_rf))"
      ],
      "execution_count": 56,
      "outputs": [
        {
          "output_type": "stream",
          "name": "stdout",
          "text": [
            "              precision    recall  f1-score   support\n",
            "\n",
            "           0       0.79      0.86      0.82        99\n",
            "           1       0.80      0.71      0.75        80\n",
            "\n",
            "    accuracy                           0.79       179\n",
            "   macro avg       0.79      0.79      0.79       179\n",
            "weighted avg       0.79      0.79      0.79       179\n",
            "\n"
          ]
        }
      ]
    },
    {
      "cell_type": "code",
      "metadata": {
        "id": "5bfIgZiSw5xI",
        "colab": {
          "base_uri": "https://localhost:8080/",
          "height": 285
        },
        "outputId": "d27a9849-0903-4b09-fbc2-51d8b465879f"
      },
      "source": [
        "cm = confusion_matrix(y_test, predictions_rf)\n",
        "disp = ConfusionMatrixDisplay(confusion_matrix=cm)\n",
        "disp.plot()\n",
        "plt.show()"
      ],
      "execution_count": 57,
      "outputs": [
        {
          "output_type": "display_data",
          "data": {
            "image/png": "[encoded data removed]",
            "text/plain": [
              "<Figure size 432x288 with 2 Axes>"
            ]
          },
          "metadata": {}
        }
      ]
    },
    {
      "cell_type": "markdown",
      "metadata": {
        "id": "xVyXa0w3WEvv"
      },
      "source": [
        "Comprobamos la precisión del modelo con la validación cruzada"
      ]
    },
    {
      "cell_type": "code",
      "metadata": {
        "colab": {
          "base_uri": "https://localhost:8080/"
        },
        "id": "b-b-zuCVWEvv",
        "outputId": "9540fe7e-040f-4f74-e34d-26155767da5d"
      },
      "source": [
        "print(cross_val_score(rf,X,y).mean())"
      ],
      "execution_count": 58,
      "outputs": [
        {
          "output_type": "stream",
          "name": "stdout",
          "text": [
            "0.8092398468394955\n"
          ]
        }
      ]
    },
    {
      "cell_type": "markdown",
      "metadata": {
        "id": "NcuHYsi4xYNv"
      },
      "source": [
        "##Modelo de SVM"
      ]
    },
    {
      "cell_type": "code",
      "metadata": {
        "id": "7rHZn3Xsxaxh"
      },
      "source": [
        "from sklearn.svm import SVC\n",
        "svc = SVC()"
      ],
      "execution_count": 59,
      "outputs": []
    },
    {
      "cell_type": "code",
      "metadata": {
        "colab": {
          "base_uri": "https://localhost:8080/"
        },
        "id": "5PlJhiSOxszb",
        "outputId": "cbf94074-efa9-437c-f8ff-eebd2c91352e"
      },
      "source": [
        "svc.fit(X_train, y_train)"
      ],
      "execution_count": 60,
      "outputs": [
        {
          "output_type": "execute_result",
          "data": {
            "text/plain": [
              "SVC()"
            ]
          },
          "metadata": {},
          "execution_count": 60
        }
      ]
    },
    {
      "cell_type": "code",
      "metadata": {
        "colab": {
          "base_uri": "https://localhost:8080/"
        },
        "id": "PiGYaNx9ytOx",
        "outputId": "ca45a2d4-d132-4715-82e4-0fefca5a706f"
      },
      "source": [
        "predictions_svc = svc.predict(X_test)\n",
        "print(svc.score(X_train, y_train))"
      ],
      "execution_count": 61,
      "outputs": [
        {
          "output_type": "stream",
          "name": "stdout",
          "text": [
            "0.6811797752808989\n"
          ]
        }
      ]
    },
    {
      "cell_type": "code",
      "metadata": {
        "colab": {
          "base_uri": "https://localhost:8080/"
        },
        "id": "WwIpI8_1y5zP",
        "outputId": "be865fb2-8d50-4d94-dc58-8d8456827eb1"
      },
      "source": [
        "print(svc.score(X_test, y_test))"
      ],
      "execution_count": 62,
      "outputs": [
        {
          "output_type": "stream",
          "name": "stdout",
          "text": [
            "0.664804469273743\n"
          ]
        }
      ]
    },
    {
      "cell_type": "code",
      "metadata": {
        "colab": {
          "base_uri": "https://localhost:8080/"
        },
        "id": "BacW-CAQx3hO",
        "outputId": "50710203-13aa-44ba-8eb6-78ea94df346e"
      },
      "source": [
        "predictions_svc = rf.predict(X_test)\n",
        "print(classification_report(y_test, predictions_svc))"
      ],
      "execution_count": 63,
      "outputs": [
        {
          "output_type": "stream",
          "name": "stdout",
          "text": [
            "              precision    recall  f1-score   support\n",
            "\n",
            "           0       0.79      0.86      0.82        99\n",
            "           1       0.80      0.71      0.75        80\n",
            "\n",
            "    accuracy                           0.79       179\n",
            "   macro avg       0.79      0.79      0.79       179\n",
            "weighted avg       0.79      0.79      0.79       179\n",
            "\n"
          ]
        }
      ]
    },
    {
      "cell_type": "code",
      "metadata": {
        "colab": {
          "base_uri": "https://localhost:8080/",
          "height": 285
        },
        "id": "RVwcrKWiyAwG",
        "outputId": "1ec0d1c4-58b1-447f-97a6-fe36de017e27"
      },
      "source": [
        "cm = confusion_matrix(y_test, predictions_svc)\n",
        "disp = ConfusionMatrixDisplay(confusion_matrix=cm)\n",
        "disp.plot()\n",
        "plt.show()"
      ],
      "execution_count": 64,
      "outputs": [
        {
          "output_type": "display_data",
          "data": {
            "image/png": "[encoded data removed]",
            "text/plain": [
              "<Figure size 432x288 with 2 Axes>"
            ]
          },
          "metadata": {}
        }
      ]
    },
    {
      "cell_type": "markdown",
      "metadata": {
        "id": "hxWinYpuWOts"
      },
      "source": [
        "Comprobamos la precisión del modelo con la validación cruzada"
      ]
    },
    {
      "cell_type": "code",
      "metadata": {
        "colab": {
          "base_uri": "https://localhost:8080/"
        },
        "id": "RNoJZdPyaCJl",
        "outputId": "b3c7a32b-1c36-41cf-9dcd-1288624a4e31"
      },
      "source": [
        "cross_val_score(svc,X,y)"
      ],
      "execution_count": 65,
      "outputs": [
        {
          "output_type": "execute_result",
          "data": {
            "text/plain": [
              "array([0.59217877, 0.71348315, 0.69101124, 0.68539326, 0.69101124])"
            ]
          },
          "metadata": {},
          "execution_count": 65
        }
      ]
    },
    {
      "cell_type": "code",
      "metadata": {
        "colab": {
          "base_uri": "https://localhost:8080/"
        },
        "id": "10NtbuUHWOtt",
        "outputId": "f93d3c4f-8cf7-474e-af3b-bf6403bf10a6"
      },
      "source": [
        "print(cross_val_score(svc,X,y).mean())"
      ],
      "execution_count": 66,
      "outputs": [
        {
          "output_type": "stream",
          "name": "stdout",
          "text": [
            "0.674615529470843\n"
          ]
        }
      ]
    },
    {
      "cell_type": "markdown",
      "metadata": {
        "id": "d9d8Vr9mcNle"
      },
      "source": [
        "Podemos comparar la precisión de los modelos usando la validación cruzada "
      ]
    },
    {
      "cell_type": "code",
      "metadata": {
        "colab": {
          "base_uri": "https://localhost:8080/"
        },
        "id": "rePGTirmcNlf",
        "outputId": "d500f99b-4bb9-4eb3-833e-78e82641c76a"
      },
      "source": [
        "rl = LogisticRegression(max_iter=300)\n",
        "knn = KNeighborsClassifier(n_neighbors=3)\n",
        "rf = RandomForestClassifier(n_estimators=200)\n",
        "svc = SVC() \n",
        "\n",
        "models = (rl,knn,rf,svc)\n",
        "\n",
        "for model in models:\n",
        "  print('Modelo: ', model, \"\\n\\n   Precisión media: \", cross_val_score(model,X,y).mean(),'\\n')"
      ],
      "execution_count": 67,
      "outputs": [
        {
          "output_type": "stream",
          "name": "stdout",
          "text": [
            "Modelo:  LogisticRegression(max_iter=300) \n",
            "\n",
            "   Precisión media:  0.789008850668508 \n",
            "\n",
            "Modelo:  KNeighborsClassifier(n_neighbors=3) \n",
            "\n",
            "   Precisión media:  0.7015127738371728 \n",
            "\n",
            "Modelo:  RandomForestClassifier(n_estimators=200) \n",
            "\n",
            "   Precisión media:  0.8081162513338773 \n",
            "\n",
            "Modelo:  SVC() \n",
            "\n",
            "   Precisión media:  0.674615529470843 \n",
            "\n"
          ]
        }
      ]
    },
    {
      "cell_type": "markdown",
      "metadata": {
        "id": "HjyGqj5fBNe-"
      },
      "source": [
        "##Ejercicio\n",
        "Añadir una columna a los datos que calcule la longitud del nombre del pasajero y comprobar si mejora la precisión de los modelos"
      ]
    },
    {
      "cell_type": "code",
      "metadata": {
        "id": "agZWNvBaLlUj"
      },
      "source": [
        ""
      ],
      "execution_count": 67,
      "outputs": []
    },
    {
      "cell_type": "code",
      "metadata": {
        "id": "FX9KVpjNLkKS"
      },
      "source": [
        ""
      ],
      "execution_count": 67,
      "outputs": []
    },
    {
      "cell_type": "code",
      "metadata": {
        "id": "zr4r3_9tLkB6"
      },
      "source": [
        ""
      ],
      "execution_count": 67,
      "outputs": []
    },
    {
      "cell_type": "code",
      "metadata": {
        "id": "OfSaRmMYLj-w"
      },
      "source": [
        ""
      ],
      "execution_count": 67,
      "outputs": []
    },
    {
      "cell_type": "code",
      "metadata": {
        "id": "BTs7lhw0Lj7q"
      },
      "source": [
        ""
      ],
      "execution_count": 67,
      "outputs": []
    },
    {
      "cell_type": "code",
      "metadata": {
        "id": "03ZuN47oLj4O"
      },
      "source": [
        ""
      ],
      "execution_count": 67,
      "outputs": []
    },
    {
      "cell_type": "code",
      "metadata": {
        "id": "fTvQ9OTELjzy"
      },
      "source": [
        ""
      ],
      "execution_count": 67,
      "outputs": []
    },
    {
      "cell_type": "code",
      "metadata": {
        "id": "ZdjMX9HqLjsi"
      },
      "source": [
        ""
      ],
      "execution_count": 67,
      "outputs": []
    },
    {
      "cell_type": "code",
      "metadata": {
        "id": "9ZJ66UEQLjjU"
      },
      "source": [
        ""
      ],
      "execution_count": 67,
      "outputs": []
    },
    {
      "cell_type": "code",
      "metadata": {
        "colab": {
          "base_uri": "https://localhost:8080/",
          "height": 490
        },
        "id": "MHRxrn8mB1LY",
        "outputId": "a81ded43-0b04-4d15-9045-7b5a580e7346"
      },
      "source": [
        "train_data = pd.read_csv(\"sample_data/train.csv\")\n",
        "train_data['Longitud_nombre']=train_data['Name'].apply(len) #Longitud del nombre\n",
        "#train_data['Longitud_nombre']=train_data['Name'].apply(lambda x: len(x.split(\" \")))   #Número de palabras que componen el nombre\n",
        "train_data.head()"
      ],
      "execution_count": 68,
      "outputs": [
        {
          "output_type": "execute_result",
          "data": {
            "text/html": [
              "<div>\n",
              "<style scoped>\n",
              "    .dataframe tbody tr th:only-of-type {\n",
              "        vertical-align: middle;\n",
              "    }\n",
              "\n",
              "    .dataframe tbody tr th {\n",
              "        vertical-align: top;\n",
              "    }\n",
              "\n",
              "    .dataframe thead th {\n",
              "        text-align: right;\n",
              "    }\n",
              "</style>\n",
              "<table border=\"1\" class=\"dataframe\">\n",
              "  <thead>\n",
              "    <tr style=\"text-align: right;\">\n",
              "      <th></th>\n",
              "      <th>PassengerId</th>\n",
              "      <th>Survived</th>\n",
              "      <th>Pclass</th>\n",
              "      <th>Name</th>\n",
              "      <th>Sex</th>\n",
              "      <th>Age</th>\n",
              "      <th>SibSp</th>\n",
              "      <th>Parch</th>\n",
              "      <th>Ticket</th>\n",
              "      <th>Fare</th>\n",
              "      <th>Cabin</th>\n",
              "      <th>Embarked</th>\n",
              "      <th>Longitud_nombre</th>\n",
              "    </tr>\n",
              "  </thead>\n",
              "  <tbody>\n",
              "    <tr>\n",
              "      <th>0</th>\n",
              "      <td>1</td>\n",
              "      <td>0</td>\n",
              "      <td>3</td>\n",
              "      <td>Braund, Mr. Owen Harris</td>\n",
              "      <td>male</td>\n",
              "      <td>22.0</td>\n",
              "      <td>1</td>\n",
              "      <td>0</td>\n",
              "      <td>A/5 21171</td>\n",
              "      <td>7.2500</td>\n",
              "      <td>NaN</td>\n",
              "      <td>S</td>\n",
              "      <td>23</td>\n",
              "    </tr>\n",
              "    <tr>\n",
              "      <th>1</th>\n",
              "      <td>2</td>\n",
              "      <td>1</td>\n",
              "      <td>1</td>\n",
              "      <td>Cumings, Mrs. John Bradley (Florence Briggs Th...</td>\n",
              "      <td>female</td>\n",
              "      <td>38.0</td>\n",
              "      <td>1</td>\n",
              "      <td>0</td>\n",
              "      <td>PC 17599</td>\n",
              "      <td>71.2833</td>\n",
              "      <td>C85</td>\n",
              "      <td>C</td>\n",
              "      <td>51</td>\n",
              "    </tr>\n",
              "    <tr>\n",
              "      <th>2</th>\n",
              "      <td>3</td>\n",
              "      <td>1</td>\n",
              "      <td>3</td>\n",
              "      <td>Heikkinen, Miss. Laina</td>\n",
              "      <td>female</td>\n",
              "      <td>26.0</td>\n",
              "      <td>0</td>\n",
              "      <td>0</td>\n",
              "      <td>STON/O2. 3101282</td>\n",
              "      <td>7.9250</td>\n",
              "      <td>NaN</td>\n",
              "      <td>S</td>\n",
              "      <td>22</td>\n",
              "    </tr>\n",
              "    <tr>\n",
              "      <th>3</th>\n",
              "      <td>4</td>\n",
              "      <td>1</td>\n",
              "      <td>1</td>\n",
              "      <td>Futrelle, Mrs. Jacques Heath (Lily May Peel)</td>\n",
              "      <td>female</td>\n",
              "      <td>35.0</td>\n",
              "      <td>1</td>\n",
              "      <td>0</td>\n",
              "      <td>113803</td>\n",
              "      <td>53.1000</td>\n",
              "      <td>C123</td>\n",
              "      <td>S</td>\n",
              "      <td>44</td>\n",
              "    </tr>\n",
              "    <tr>\n",
              "      <th>4</th>\n",
              "      <td>5</td>\n",
              "      <td>0</td>\n",
              "      <td>3</td>\n",
              "      <td>Allen, Mr. William Henry</td>\n",
              "      <td>male</td>\n",
              "      <td>35.0</td>\n",
              "      <td>0</td>\n",
              "      <td>0</td>\n",
              "      <td>373450</td>\n",
              "      <td>8.0500</td>\n",
              "      <td>NaN</td>\n",
              "      <td>S</td>\n",
              "      <td>24</td>\n",
              "    </tr>\n",
              "  </tbody>\n",
              "</table>\n",
              "</div>"
            ],
            "text/plain": [
              "   PassengerId  Survived  Pclass  ... Cabin Embarked  Longitud_nombre\n",
              "0            1         0       3  ...   NaN        S               23\n",
              "1            2         1       1  ...   C85        C               51\n",
              "2            3         1       3  ...   NaN        S               22\n",
              "3            4         1       1  ...  C123        S               44\n",
              "4            5         0       3  ...   NaN        S               24\n",
              "\n",
              "[5 rows x 13 columns]"
            ]
          },
          "metadata": {},
          "execution_count": 68
        }
      ]
    },
    {
      "cell_type": "code",
      "metadata": {
        "id": "X4NX2KOXDQVn"
      },
      "source": [
        "train_data['Age']=train_data['Age'].fillna(edad_media)"
      ],
      "execution_count": 69,
      "outputs": []
    },
    {
      "cell_type": "code",
      "metadata": {
        "id": "Hd-pkOxcDQVn"
      },
      "source": [
        "train_data['Embarked'] = train_data['Embarked'].fillna('S')"
      ],
      "execution_count": 70,
      "outputs": []
    },
    {
      "cell_type": "code",
      "metadata": {
        "id": "JikWnHrEDQVn"
      },
      "source": [
        "genero = pd.get_dummies(train_data[\"Sex\"],drop_first=True)"
      ],
      "execution_count": 71,
      "outputs": []
    },
    {
      "cell_type": "code",
      "metadata": {
        "id": "JyKRSbV5DQVn"
      },
      "source": [
        "puerto = pd.get_dummies(train_data[\"Embarked\"],drop_first=True)"
      ],
      "execution_count": 72,
      "outputs": []
    },
    {
      "cell_type": "code",
      "metadata": {
        "id": "wFToklBuDQVo"
      },
      "source": [
        "train_data = pd.concat([train_data,genero,puerto],axis=1)"
      ],
      "execution_count": 73,
      "outputs": []
    },
    {
      "cell_type": "code",
      "metadata": {
        "id": "tfUmjuryDQVo"
      },
      "source": [
        "train_data.drop([\"PassengerId\",\"Name\",\"Sex\",\"Ticket\",\"Cabin\",\"Embarked\"],axis=1,inplace=True)"
      ],
      "execution_count": 74,
      "outputs": []
    },
    {
      "cell_type": "code",
      "metadata": {
        "colab": {
          "base_uri": "https://localhost:8080/",
          "height": 202
        },
        "id": "aKI-o2m3DWES",
        "outputId": "3ba6ee70-234e-410a-a613-38c900950708"
      },
      "source": [
        "train_data.head()"
      ],
      "execution_count": 75,
      "outputs": [
        {
          "output_type": "execute_result",
          "data": {
            "text/html": [
              "<div>\n",
              "<style scoped>\n",
              "    .dataframe tbody tr th:only-of-type {\n",
              "        vertical-align: middle;\n",
              "    }\n",
              "\n",
              "    .dataframe tbody tr th {\n",
              "        vertical-align: top;\n",
              "    }\n",
              "\n",
              "    .dataframe thead th {\n",
              "        text-align: right;\n",
              "    }\n",
              "</style>\n",
              "<table border=\"1\" class=\"dataframe\">\n",
              "  <thead>\n",
              "    <tr style=\"text-align: right;\">\n",
              "      <th></th>\n",
              "      <th>Survived</th>\n",
              "      <th>Pclass</th>\n",
              "      <th>Age</th>\n",
              "      <th>SibSp</th>\n",
              "      <th>Parch</th>\n",
              "      <th>Fare</th>\n",
              "      <th>Longitud_nombre</th>\n",
              "      <th>male</th>\n",
              "      <th>Q</th>\n",
              "      <th>S</th>\n",
              "    </tr>\n",
              "  </thead>\n",
              "  <tbody>\n",
              "    <tr>\n",
              "      <th>0</th>\n",
              "      <td>0</td>\n",
              "      <td>3</td>\n",
              "      <td>22.0</td>\n",
              "      <td>1</td>\n",
              "      <td>0</td>\n",
              "      <td>7.2500</td>\n",
              "      <td>23</td>\n",
              "      <td>1</td>\n",
              "      <td>0</td>\n",
              "      <td>1</td>\n",
              "    </tr>\n",
              "    <tr>\n",
              "      <th>1</th>\n",
              "      <td>1</td>\n",
              "      <td>1</td>\n",
              "      <td>38.0</td>\n",
              "      <td>1</td>\n",
              "      <td>0</td>\n",
              "      <td>71.2833</td>\n",
              "      <td>51</td>\n",
              "      <td>0</td>\n",
              "      <td>0</td>\n",
              "      <td>0</td>\n",
              "    </tr>\n",
              "    <tr>\n",
              "      <th>2</th>\n",
              "      <td>1</td>\n",
              "      <td>3</td>\n",
              "      <td>26.0</td>\n",
              "      <td>0</td>\n",
              "      <td>0</td>\n",
              "      <td>7.9250</td>\n",
              "      <td>22</td>\n",
              "      <td>0</td>\n",
              "      <td>0</td>\n",
              "      <td>1</td>\n",
              "    </tr>\n",
              "    <tr>\n",
              "      <th>3</th>\n",
              "      <td>1</td>\n",
              "      <td>1</td>\n",
              "      <td>35.0</td>\n",
              "      <td>1</td>\n",
              "      <td>0</td>\n",
              "      <td>53.1000</td>\n",
              "      <td>44</td>\n",
              "      <td>0</td>\n",
              "      <td>0</td>\n",
              "      <td>1</td>\n",
              "    </tr>\n",
              "    <tr>\n",
              "      <th>4</th>\n",
              "      <td>0</td>\n",
              "      <td>3</td>\n",
              "      <td>35.0</td>\n",
              "      <td>0</td>\n",
              "      <td>0</td>\n",
              "      <td>8.0500</td>\n",
              "      <td>24</td>\n",
              "      <td>1</td>\n",
              "      <td>0</td>\n",
              "      <td>1</td>\n",
              "    </tr>\n",
              "  </tbody>\n",
              "</table>\n",
              "</div>"
            ],
            "text/plain": [
              "   Survived  Pclass   Age  SibSp  Parch     Fare  Longitud_nombre  male  Q  S\n",
              "0         0       3  22.0      1      0   7.2500               23     1  0  1\n",
              "1         1       1  38.0      1      0  71.2833               51     0  0  0\n",
              "2         1       3  26.0      0      0   7.9250               22     0  0  1\n",
              "3         1       1  35.0      1      0  53.1000               44     0  0  1\n",
              "4         0       3  35.0      0      0   8.0500               24     1  0  1"
            ]
          },
          "metadata": {},
          "execution_count": 75
        }
      ]
    },
    {
      "cell_type": "code",
      "metadata": {
        "id": "xLIvt_DED1Nv"
      },
      "source": [
        "X = train_data.drop(\"Survived\",axis=1)\n",
        "y = train_data[\"Survived\"]"
      ],
      "execution_count": 76,
      "outputs": []
    },
    {
      "cell_type": "markdown",
      "metadata": {
        "id": "lQ2rZjpHWoMN"
      },
      "source": [
        "Medimos la precisión de los modelos con la validación cruzada con los nuevos datos de entrada "
      ]
    },
    {
      "cell_type": "code",
      "metadata": {
        "colab": {
          "base_uri": "https://localhost:8080/"
        },
        "id": "udL8iJH3X8zQ",
        "outputId": "b8f4f491-76e7-47c3-bd3d-f2465d8e7f88"
      },
      "source": [
        "rl = LogisticRegression(max_iter=300)\n",
        "knn = KNeighborsClassifier(n_neighbors=3)\n",
        "rf = RandomForestClassifier(n_estimators=200)\n",
        "svc = SVC() \n",
        "\n",
        "models = (rl,knn,rf,svc)\n",
        "\n",
        "for model in models:\n",
        "  print('Modelo: ', model, \"\\n\\n   Precisión media: \", cross_val_score(model,X,y).mean(),'\\n')"
      ],
      "execution_count": 77,
      "outputs": [
        {
          "output_type": "stream",
          "name": "stdout",
          "text": [
            "Modelo:  LogisticRegression(max_iter=300) \n",
            "\n",
            "   Precisión media:  0.7890151277383717 \n",
            "\n",
            "Modelo:  KNeighborsClassifier(n_neighbors=3) \n",
            "\n",
            "   Precisión media:  0.688029627769757 \n",
            "\n",
            "Modelo:  RandomForestClassifier(n_estimators=200) \n",
            "\n",
            "   Precisión media:  0.8159500345238844 \n",
            "\n",
            "Modelo:  SVC() \n",
            "\n",
            "   Precisión media:  0.6858514845270227 \n",
            "\n"
          ]
        }
      ]
    }
  ]
}