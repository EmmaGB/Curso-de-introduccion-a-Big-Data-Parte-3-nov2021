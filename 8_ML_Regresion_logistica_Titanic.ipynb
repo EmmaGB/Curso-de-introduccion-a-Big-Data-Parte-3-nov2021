{
  "nbformat": 4,
  "nbformat_minor": 0,
  "metadata": {
    "colab": {
      "name": "ML_Regresion_logistica_Titanic.ipynb",
      "provenance": [],
      "include_colab_link": true
    },
    "kernelspec": {
      "name": "python3",
      "display_name": "Python 3"
    },
    "language_info": {
      "name": "python"
    }
  },
  "cells": [
    {
      "cell_type": "markdown",
      "metadata": {
        "id": "view-in-github",
        "colab_type": "text"
      },
      "source": [
        "<a href=\"https://colab.research.google.com/github/alberto1971/Curso-de-introduccion-a-Big-Data-Parte-3-nov2021/blob/main/8_ML_Regresion_logistica_Titanic.ipynb\" target=\"_parent\"><img src=\"https://colab.research.google.com/assets/colab-badge.svg\" alt=\"Open In Colab\"/></a>"
      ]
    },
    {
      "cell_type": "markdown",
      "metadata": {
        "id": "cawGrdBqxLCs"
      },
      "source": [
        "#Aplicación de Machine Learning en el caso Titanic: Regresión Logística\n",
        "\n",
        "El reto\n",
        "\n",
        "El hundimiento del Titanic es uno de los naufragios más conocidos de la historia.\n",
        "\n",
        "El 15 de abril de 1912, durante su viaje inaugural, el RMS Titanic, ampliamente considerado \"insumergible\", se hundió después de chocar con un iceberg. Desafortunadamente, no había suficientes botes salvavidas para todos a bordo, lo que supuso la muerte de 1502 de los 2224 pasajeros y de la tripulación.\n",
        "\n",
        "Si bien hubo algún elemento de suerte involucrado en sobrevivir, parece que algunos grupos de personas tenían más probabilidades de sobrevivir que otros.\n",
        "\n",
        "En este desafío, le pedimos que cree un modelo predictivo que responda a la pregunta: \"¿Qué tipo de personas tenían más probabilidades de sobrevivir?\" utilizando datos de pasajeros (es decir, nombre, edad, sexo, clase socioeconómica, etc.)."
      ]
    },
    {
      "cell_type": "markdown",
      "metadata": {
        "id": "ToXM7762QC3w"
      },
      "source": [
        "##Referencias\n",
        "\n",
        "https://www.kaggle.com/c/titanic\n",
        "\n",
        "https://www.kaggle.com/showeed/starter-book-begginer-analysis/notebook"
      ]
    },
    {
      "cell_type": "markdown",
      "metadata": {
        "id": "6qfjz7rFxhoz"
      },
      "source": [
        "# Importar librerías"
      ]
    },
    {
      "cell_type": "code",
      "metadata": {
        "id": "pMlUpc6gxGex"
      },
      "source": [
        "import pandas as pd"
      ],
      "execution_count": 1,
      "outputs": []
    },
    {
      "cell_type": "markdown",
      "metadata": {
        "id": "xUKPxnmjxjjj"
      },
      "source": [
        "#Obtener los datos\n",
        "Descargamos el fichero en local y lo subimos a Google Colab"
      ]
    },
    {
      "cell_type": "markdown",
      "metadata": {
        "id": "hYpHe-YPyUq9"
      },
      "source": [
        "https://www.kaggle.com/c/titanic/data?select=train.csv"
      ]
    },
    {
      "cell_type": "code",
      "metadata": {
        "id": "8LslRHIHx4NT"
      },
      "source": [
        "#train_data = pd.read_csv(\"train.csv\")\n",
        "train_data = pd.read_csv(\"sample_data/train.csv\")\n"
      ],
      "execution_count": 2,
      "outputs": []
    },
    {
      "cell_type": "markdown",
      "metadata": {
        "id": "XZsC6Q3g2BAk"
      },
      "source": [
        "Examinamos los datos cargados"
      ]
    },
    {
      "cell_type": "code",
      "metadata": {
        "colab": {
          "base_uri": "https://localhost:8080/",
          "height": 202
        },
        "id": "RNsAhsBq2H7b",
        "outputId": "cd3c8010-2ded-465e-cb2c-6f47cd2fb22c"
      },
      "source": [
        "train_data.head()"
      ],
      "execution_count": 3,
      "outputs": [
        {
          "output_type": "execute_result",
          "data": {
            "text/html": [
              "<div>\n",
              "<style scoped>\n",
              "    .dataframe tbody tr th:only-of-type {\n",
              "        vertical-align: middle;\n",
              "    }\n",
              "\n",
              "    .dataframe tbody tr th {\n",
              "        vertical-align: top;\n",
              "    }\n",
              "\n",
              "    .dataframe thead th {\n",
              "        text-align: right;\n",
              "    }\n",
              "</style>\n",
              "<table border=\"1\" class=\"dataframe\">\n",
              "  <thead>\n",
              "    <tr style=\"text-align: right;\">\n",
              "      <th></th>\n",
              "      <th>PassengerId</th>\n",
              "      <th>Survived</th>\n",
              "      <th>Pclass</th>\n",
              "      <th>Name</th>\n",
              "      <th>Sex</th>\n",
              "      <th>Age</th>\n",
              "      <th>SibSp</th>\n",
              "      <th>Parch</th>\n",
              "      <th>Ticket</th>\n",
              "      <th>Fare</th>\n",
              "      <th>Cabin</th>\n",
              "      <th>Embarked</th>\n",
              "    </tr>\n",
              "  </thead>\n",
              "  <tbody>\n",
              "    <tr>\n",
              "      <th>0</th>\n",
              "      <td>1</td>\n",
              "      <td>0</td>\n",
              "      <td>3</td>\n",
              "      <td>Braund, Mr. Owen Harris</td>\n",
              "      <td>male</td>\n",
              "      <td>22.0</td>\n",
              "      <td>1</td>\n",
              "      <td>0</td>\n",
              "      <td>A/5 21171</td>\n",
              "      <td>7.2500</td>\n",
              "      <td>NaN</td>\n",
              "      <td>S</td>\n",
              "    </tr>\n",
              "    <tr>\n",
              "      <th>1</th>\n",
              "      <td>2</td>\n",
              "      <td>1</td>\n",
              "      <td>1</td>\n",
              "      <td>Cumings, Mrs. John Bradley (Florence Briggs Th...</td>\n",
              "      <td>female</td>\n",
              "      <td>38.0</td>\n",
              "      <td>1</td>\n",
              "      <td>0</td>\n",
              "      <td>PC 17599</td>\n",
              "      <td>71.2833</td>\n",
              "      <td>C85</td>\n",
              "      <td>C</td>\n",
              "    </tr>\n",
              "    <tr>\n",
              "      <th>2</th>\n",
              "      <td>3</td>\n",
              "      <td>1</td>\n",
              "      <td>3</td>\n",
              "      <td>Heikkinen, Miss. Laina</td>\n",
              "      <td>female</td>\n",
              "      <td>26.0</td>\n",
              "      <td>0</td>\n",
              "      <td>0</td>\n",
              "      <td>STON/O2. 3101282</td>\n",
              "      <td>7.9250</td>\n",
              "      <td>NaN</td>\n",
              "      <td>S</td>\n",
              "    </tr>\n",
              "    <tr>\n",
              "      <th>3</th>\n",
              "      <td>4</td>\n",
              "      <td>1</td>\n",
              "      <td>1</td>\n",
              "      <td>Futrelle, Mrs. Jacques Heath (Lily May Peel)</td>\n",
              "      <td>female</td>\n",
              "      <td>35.0</td>\n",
              "      <td>1</td>\n",
              "      <td>0</td>\n",
              "      <td>113803</td>\n",
              "      <td>53.1000</td>\n",
              "      <td>C123</td>\n",
              "      <td>S</td>\n",
              "    </tr>\n",
              "    <tr>\n",
              "      <th>4</th>\n",
              "      <td>5</td>\n",
              "      <td>0</td>\n",
              "      <td>3</td>\n",
              "      <td>Allen, Mr. William Henry</td>\n",
              "      <td>male</td>\n",
              "      <td>35.0</td>\n",
              "      <td>0</td>\n",
              "      <td>0</td>\n",
              "      <td>373450</td>\n",
              "      <td>8.0500</td>\n",
              "      <td>NaN</td>\n",
              "      <td>S</td>\n",
              "    </tr>\n",
              "  </tbody>\n",
              "</table>\n",
              "</div>"
            ],
            "text/plain": [
              "   PassengerId  Survived  Pclass  ...     Fare Cabin  Embarked\n",
              "0            1         0       3  ...   7.2500   NaN         S\n",
              "1            2         1       1  ...  71.2833   C85         C\n",
              "2            3         1       3  ...   7.9250   NaN         S\n",
              "3            4         1       1  ...  53.1000  C123         S\n",
              "4            5         0       3  ...   8.0500   NaN         S\n",
              "\n",
              "[5 rows x 12 columns]"
            ]
          },
          "metadata": {},
          "execution_count": 3
        }
      ]
    },
    {
      "cell_type": "markdown",
      "metadata": {
        "id": "SHBk0FTCORfr"
      },
      "source": [
        "##Información de los campos o features (\"características\")"
      ]
    },
    {
      "cell_type": "markdown",
      "metadata": {
        "id": "X5X3VmJsHgT9"
      },
      "source": [
        "\"PassengerId\" es el número de pasajero\n",
        "\n",
        "\"Survived\" indica si el pasajero sobrevivió (valor 1) o no sobrevivió (valor 0) al naufragio\n",
        "\n",
        "\"Pclass\" es la clase: primera clase, segunda clase y tercera clase \n",
        "\n",
        "\"Name\" es el nombre del pasajero\n",
        "\n",
        "\"Sex\" es el sexo del pasajero: male (masculino) o female (femenino)\n",
        "\n",
        "\"Age\" es la edad del pasajero\n",
        "\n",
        "\"SibSp\" es la abreviatura de \"Siblings and Spouses\" que se traduce como \"Hermanos y Esposas\" que se embarcaron con el pasajero\n",
        "\n",
        "\"Parch\" es la abreviatura de \"Parents and children\", esto es, el número de padres / hijos que se embarcaron con el pasajero\n",
        "\n",
        "\"Ticket\" es el código del billete\n",
        "\n",
        "\"Fare\" es la tarifa o precio del billete\n",
        "\n",
        "\"Cabin\" es el camarote del pasajero\n",
        "\n",
        "\"Embarked\" es la inicial del puerto donde embarcó el pasajero: C = Cherbourg; Q = Queenstown; S = Southampton\n"
      ]
    },
    {
      "cell_type": "markdown",
      "metadata": {
        "id": "wmYvWMxm3rDm"
      },
      "source": [
        "Examinamos el contenido del DataFrame: \n",
        "- Datos no nulos\n",
        "- Tipos de datos\n"
      ]
    },
    {
      "cell_type": "code",
      "metadata": {
        "colab": {
          "base_uri": "https://localhost:8080/"
        },
        "id": "yyEBkF4K31lV",
        "outputId": "29adf15a-a747-49bd-9201-7632e51d99a9"
      },
      "source": [
        "train_data.info()"
      ],
      "execution_count": 4,
      "outputs": [
        {
          "output_type": "stream",
          "name": "stdout",
          "text": [
            "<class 'pandas.core.frame.DataFrame'>\n",
            "RangeIndex: 891 entries, 0 to 890\n",
            "Data columns (total 12 columns):\n",
            " #   Column       Non-Null Count  Dtype  \n",
            "---  ------       --------------  -----  \n",
            " 0   PassengerId  891 non-null    int64  \n",
            " 1   Survived     891 non-null    int64  \n",
            " 2   Pclass       891 non-null    int64  \n",
            " 3   Name         891 non-null    object \n",
            " 4   Sex          891 non-null    object \n",
            " 5   Age          714 non-null    float64\n",
            " 6   SibSp        891 non-null    int64  \n",
            " 7   Parch        891 non-null    int64  \n",
            " 8   Ticket       891 non-null    object \n",
            " 9   Fare         891 non-null    float64\n",
            " 10  Cabin        204 non-null    object \n",
            " 11  Embarked     889 non-null    object \n",
            "dtypes: float64(2), int64(5), object(5)\n",
            "memory usage: 83.7+ KB\n"
          ]
        }
      ]
    },
    {
      "cell_type": "markdown",
      "metadata": {
        "id": "9CdnlZkjJho6"
      },
      "source": [
        "Podemos ver que hay valores nulos en algunos campos o variables.\n",
        "\n",
        "También vemos que hay campos con valores no numéricos como Name, Sex, Ticket, Cabin y Embarked"
      ]
    },
    {
      "cell_type": "markdown",
      "metadata": {
        "id": "85fz_YnHtlK7"
      },
      "source": [
        "##¿Qué hacer con los valores nulos?\n",
        "\n",
        "Veamos cuántos valores nulos hay:"
      ]
    },
    {
      "cell_type": "code",
      "metadata": {
        "id": "z_YC00WaJv6a",
        "colab": {
          "base_uri": "https://localhost:8080/"
        },
        "outputId": "e9962f2d-6e9a-47ce-9627-008a60fc3f73"
      },
      "source": [
        "train_data.isnull().sum()"
      ],
      "execution_count": 5,
      "outputs": [
        {
          "output_type": "execute_result",
          "data": {
            "text/plain": [
              "PassengerId      0\n",
              "Survived         0\n",
              "Pclass           0\n",
              "Name             0\n",
              "Sex              0\n",
              "Age            177\n",
              "SibSp            0\n",
              "Parch            0\n",
              "Ticket           0\n",
              "Fare             0\n",
              "Cabin          687\n",
              "Embarked         2\n",
              "dtype: int64"
            ]
          },
          "metadata": {},
          "execution_count": 5
        }
      ]
    },
    {
      "cell_type": "markdown",
      "metadata": {
        "id": "rNa9d9adKa3B"
      },
      "source": [
        "Aquí podemos ver el número de valores que faltan en cada columna. Esos valores que faltan pueden causar un problema cuando los necesitemos"
      ]
    },
    {
      "cell_type": "markdown",
      "metadata": {
        "id": "jMDVQzb4Tsza"
      },
      "source": [
        "Tenemos varias opciones\n",
        "\n",
        "- Eliminar todos los registros que tienen algún valor nulo -> Perdemos información\n",
        "\n",
        "- Prescindir de las variables o atributos de las que no tenemos valores en todos los registros -> Perdemos información\n",
        "\n",
        "- Rellenar los valores nulos con valores, por ejemplo, la media del valor si es numérico o el valor más frecuente si no es numérico -> No perdemos información pero añadimos información estimativa (no real)\n",
        "\n",
        "Si eliminamos todos los registros que no tienen valor en el campo edad"
      ]
    },
    {
      "cell_type": "code",
      "metadata": {
        "id": "pEI0CIEwUjGw"
      },
      "source": [
        "train_data_2=train_data.dropna(subset=['Age'])"
      ],
      "execution_count": 6,
      "outputs": []
    },
    {
      "cell_type": "code",
      "metadata": {
        "colab": {
          "base_uri": "https://localhost:8080/"
        },
        "id": "2LL1rBDSUm9W",
        "outputId": "e82c7b9a-776b-4cb4-c974-f0fe95eff278"
      },
      "source": [
        "train_data_2.info()"
      ],
      "execution_count": 7,
      "outputs": [
        {
          "output_type": "stream",
          "name": "stdout",
          "text": [
            "<class 'pandas.core.frame.DataFrame'>\n",
            "Int64Index: 714 entries, 0 to 890\n",
            "Data columns (total 12 columns):\n",
            " #   Column       Non-Null Count  Dtype  \n",
            "---  ------       --------------  -----  \n",
            " 0   PassengerId  714 non-null    int64  \n",
            " 1   Survived     714 non-null    int64  \n",
            " 2   Pclass       714 non-null    int64  \n",
            " 3   Name         714 non-null    object \n",
            " 4   Sex          714 non-null    object \n",
            " 5   Age          714 non-null    float64\n",
            " 6   SibSp        714 non-null    int64  \n",
            " 7   Parch        714 non-null    int64  \n",
            " 8   Ticket       714 non-null    object \n",
            " 9   Fare         714 non-null    float64\n",
            " 10  Cabin        185 non-null    object \n",
            " 11  Embarked     712 non-null    object \n",
            "dtypes: float64(2), int64(5), object(5)\n",
            "memory usage: 72.5+ KB\n"
          ]
        }
      ]
    },
    {
      "cell_type": "markdown",
      "metadata": {
        "id": "Kk0LXobIUwO0"
      },
      "source": [
        "El inconveniente es que perdemos la información de los registros incompletos y pueden ser muchos. \n",
        "\n",
        "Supongamos que eliminamos todos los registros incompletos..."
      ]
    },
    {
      "cell_type": "code",
      "metadata": {
        "id": "jualRHoHWDAr"
      },
      "source": [
        "train_data_3=train_data.dropna()"
      ],
      "execution_count": 8,
      "outputs": []
    },
    {
      "cell_type": "code",
      "metadata": {
        "colab": {
          "base_uri": "https://localhost:8080/"
        },
        "id": "M7SpgbphWDAr",
        "outputId": "682e9e73-e965-462f-e27b-d658b20857df"
      },
      "source": [
        "train_data_3.info()"
      ],
      "execution_count": 9,
      "outputs": [
        {
          "output_type": "stream",
          "name": "stdout",
          "text": [
            "<class 'pandas.core.frame.DataFrame'>\n",
            "Int64Index: 183 entries, 1 to 889\n",
            "Data columns (total 12 columns):\n",
            " #   Column       Non-Null Count  Dtype  \n",
            "---  ------       --------------  -----  \n",
            " 0   PassengerId  183 non-null    int64  \n",
            " 1   Survived     183 non-null    int64  \n",
            " 2   Pclass       183 non-null    int64  \n",
            " 3   Name         183 non-null    object \n",
            " 4   Sex          183 non-null    object \n",
            " 5   Age          183 non-null    float64\n",
            " 6   SibSp        183 non-null    int64  \n",
            " 7   Parch        183 non-null    int64  \n",
            " 8   Ticket       183 non-null    object \n",
            " 9   Fare         183 non-null    float64\n",
            " 10  Cabin        183 non-null    object \n",
            " 11  Embarked     183 non-null    object \n",
            "dtypes: float64(2), int64(5), object(5)\n",
            "memory usage: 18.6+ KB\n"
          ]
        }
      ]
    },
    {
      "cell_type": "markdown",
      "metadata": {
        "id": "717srQGAWIpM"
      },
      "source": [
        "Nos quedan solo 183 registros y hemos perdido mucha información!!!"
      ]
    },
    {
      "cell_type": "markdown",
      "metadata": {
        "id": "zBWUj57fWQhA"
      },
      "source": [
        "Si rellenamos los valores nulos con el valor medio conservamos la información anterior aunque estamos introduciendo valores estimativos que puede distorsionar el original"
      ]
    },
    {
      "cell_type": "markdown",
      "metadata": {
        "id": "04xpZoCycZlt"
      },
      "source": [
        "Calculamos la media de edad de los pasajeros "
      ]
    },
    {
      "cell_type": "code",
      "metadata": {
        "id": "fXAo-5KicQmk",
        "colab": {
          "base_uri": "https://localhost:8080/"
        },
        "outputId": "6a254a14-c0e6-447a-e073-2832eb902336"
      },
      "source": [
        "edad_media = train_data['Age'].mean()\n",
        "edad_media"
      ],
      "execution_count": 10,
      "outputs": [
        {
          "output_type": "execute_result",
          "data": {
            "text/plain": [
              "29.69911764705882"
            ]
          },
          "metadata": {},
          "execution_count": 10
        }
      ]
    },
    {
      "cell_type": "markdown",
      "metadata": {
        "id": "xi0e6I0GcjHd"
      },
      "source": [
        "Y rellenamos los registros sin edad con la edad media del resto de pasajeros"
      ]
    },
    {
      "cell_type": "code",
      "metadata": {
        "id": "s5_xZiooc2Lb"
      },
      "source": [
        "train_data['Age']=train_data['Age'].fillna(edad_media)"
      ],
      "execution_count": 11,
      "outputs": []
    },
    {
      "cell_type": "markdown",
      "metadata": {
        "id": "jhrBfzHvdcNR"
      },
      "source": [
        "Y así logramos tener una tabla de datos con menos valores nulos"
      ]
    },
    {
      "cell_type": "code",
      "metadata": {
        "id": "BSO7CT0yeuCv",
        "colab": {
          "base_uri": "https://localhost:8080/"
        },
        "outputId": "969b915a-26bf-4ebe-96e3-fbef6d5922a3"
      },
      "source": [
        "train_data.info()"
      ],
      "execution_count": 12,
      "outputs": [
        {
          "output_type": "stream",
          "name": "stdout",
          "text": [
            "<class 'pandas.core.frame.DataFrame'>\n",
            "RangeIndex: 891 entries, 0 to 890\n",
            "Data columns (total 12 columns):\n",
            " #   Column       Non-Null Count  Dtype  \n",
            "---  ------       --------------  -----  \n",
            " 0   PassengerId  891 non-null    int64  \n",
            " 1   Survived     891 non-null    int64  \n",
            " 2   Pclass       891 non-null    int64  \n",
            " 3   Name         891 non-null    object \n",
            " 4   Sex          891 non-null    object \n",
            " 5   Age          891 non-null    float64\n",
            " 6   SibSp        891 non-null    int64  \n",
            " 7   Parch        891 non-null    int64  \n",
            " 8   Ticket       891 non-null    object \n",
            " 9   Fare         891 non-null    float64\n",
            " 10  Cabin        204 non-null    object \n",
            " 11  Embarked     889 non-null    object \n",
            "dtypes: float64(2), int64(5), object(5)\n",
            "memory usage: 83.7+ KB\n"
          ]
        }
      ]
    },
    {
      "cell_type": "markdown",
      "metadata": {
        "id": "13dQKIpgc2o0"
      },
      "source": [
        "Para rellenar la edad podríamos ser más precisos si usamos datos estimados más elaborados como la media de edad de los pasajeros en función del género"
      ]
    },
    {
      "cell_type": "code",
      "metadata": {
        "id": "XtGJM3p7WgMZ",
        "colab": {
          "base_uri": "https://localhost:8080/"
        },
        "outputId": "e1fda863-0048-48fe-db53-230457be0080"
      },
      "source": [
        "train_data.groupby('Sex')['Age'].mean()"
      ],
      "execution_count": 13,
      "outputs": [
        {
          "output_type": "execute_result",
          "data": {
            "text/plain": [
              "Sex\n",
              "female    28.216730\n",
              "male      30.505824\n",
              "Name: Age, dtype: float64"
            ]
          },
          "metadata": {},
          "execution_count": 13
        }
      ]
    },
    {
      "cell_type": "markdown",
      "metadata": {
        "id": "X2wud7i0eUC4"
      },
      "source": [
        "O la media de edad en función del género y de la clase"
      ]
    },
    {
      "cell_type": "code",
      "metadata": {
        "id": "-7RiREveeHDF",
        "colab": {
          "base_uri": "https://localhost:8080/"
        },
        "outputId": "b2e4017e-f622-49f6-950d-2df788d11b90"
      },
      "source": [
        "train_data.groupby(['Sex','Pclass'])['Age'].mean()"
      ],
      "execution_count": 14,
      "outputs": [
        {
          "output_type": "execute_result",
          "data": {
            "text/plain": [
              "Sex     Pclass\n",
              "female  1         34.141405\n",
              "        2         28.748661\n",
              "        3         24.068493\n",
              "male    1         39.287717\n",
              "        2         30.653908\n",
              "        3         27.372153\n",
              "Name: Age, dtype: float64"
            ]
          },
          "metadata": {},
          "execution_count": 14
        }
      ]
    },
    {
      "cell_type": "markdown",
      "metadata": {
        "id": "gVrdZIqPupqy"
      },
      "source": [
        "Del atributo Embarked hay solo dos valores nulos por lo que optamos por rellenar los nulos con el valor más frecuente o probable"
      ]
    },
    {
      "cell_type": "code",
      "metadata": {
        "colab": {
          "base_uri": "https://localhost:8080/"
        },
        "id": "KbuXnFQlu3sf",
        "outputId": "eb120f60-bd29-443d-8785-9c6a6e8981e5"
      },
      "source": [
        "train_data.groupby('Embarked')['Embarked'].count()"
      ],
      "execution_count": 15,
      "outputs": [
        {
          "output_type": "execute_result",
          "data": {
            "text/plain": [
              "Embarked\n",
              "C    168\n",
              "Q     77\n",
              "S    644\n",
              "Name: Embarked, dtype: int64"
            ]
          },
          "metadata": {},
          "execution_count": 15
        }
      ]
    },
    {
      "cell_type": "code",
      "metadata": {
        "id": "ThgG0KUxvGRn"
      },
      "source": [
        "train_data['Embarked'] = train_data['Embarked'].fillna('S')"
      ],
      "execution_count": 16,
      "outputs": []
    },
    {
      "cell_type": "markdown",
      "metadata": {
        "id": "tTUULSEnuAIF"
      },
      "source": [
        "Vamos a eliminar las varibles o atributos con muchos valores nulos: el atributo Cabin tiene 204 valores y 687 valores nulos (sin información)"
      ]
    },
    {
      "cell_type": "code",
      "metadata": {
        "id": "gO1ZJOeYuHOS"
      },
      "source": [
        "del train_data['Cabin']"
      ],
      "execution_count": 17,
      "outputs": []
    },
    {
      "cell_type": "markdown",
      "metadata": {
        "id": "ZHBdh1BOvYAh"
      },
      "source": [
        "Y este es el dataframe resultante sin valores nulos"
      ]
    },
    {
      "cell_type": "code",
      "metadata": {
        "colab": {
          "base_uri": "https://localhost:8080/"
        },
        "id": "UrKriJCevdha",
        "outputId": "2df764e3-5437-4e93-d09c-bc5661f61b5e"
      },
      "source": [
        "train_data.info()"
      ],
      "execution_count": 18,
      "outputs": [
        {
          "output_type": "stream",
          "name": "stdout",
          "text": [
            "<class 'pandas.core.frame.DataFrame'>\n",
            "RangeIndex: 891 entries, 0 to 890\n",
            "Data columns (total 11 columns):\n",
            " #   Column       Non-Null Count  Dtype  \n",
            "---  ------       --------------  -----  \n",
            " 0   PassengerId  891 non-null    int64  \n",
            " 1   Survived     891 non-null    int64  \n",
            " 2   Pclass       891 non-null    int64  \n",
            " 3   Name         891 non-null    object \n",
            " 4   Sex          891 non-null    object \n",
            " 5   Age          891 non-null    float64\n",
            " 6   SibSp        891 non-null    int64  \n",
            " 7   Parch        891 non-null    int64  \n",
            " 8   Ticket       891 non-null    object \n",
            " 9   Fare         891 non-null    float64\n",
            " 10  Embarked     891 non-null    object \n",
            "dtypes: float64(2), int64(5), object(4)\n",
            "memory usage: 76.7+ KB\n"
          ]
        }
      ]
    },
    {
      "cell_type": "markdown",
      "metadata": {
        "id": "wFbpIYAAwypT"
      },
      "source": [
        "#¿Qué hacer con los atributos no numéricos?\n",
        "\n",
        "Para que nuestras máquinas funcionen debemos alimentarlos con números por lo que debemos convertir los atributos no numéricos o por categorías en atributos numéricos"
      ]
    },
    {
      "cell_type": "markdown",
      "metadata": {
        "id": "4qemOVgQxfBF"
      },
      "source": [
        "La función get_dummies() de Pandas convierte variables o atributos de categorías en varias variables numéricas con valores 0 y 1"
      ]
    },
    {
      "cell_type": "code",
      "metadata": {
        "colab": {
          "base_uri": "https://localhost:8080/",
          "height": 415
        },
        "id": "z7FcyzBFxZnQ",
        "outputId": "4d5ab47a-bc25-43f1-a5e2-4d43cb39d37e"
      },
      "source": [
        "pd.get_dummies(train_data[\"Sex\"])"
      ],
      "execution_count": 19,
      "outputs": [
        {
          "output_type": "execute_result",
          "data": {
            "text/html": [
              "<div>\n",
              "<style scoped>\n",
              "    .dataframe tbody tr th:only-of-type {\n",
              "        vertical-align: middle;\n",
              "    }\n",
              "\n",
              "    .dataframe tbody tr th {\n",
              "        vertical-align: top;\n",
              "    }\n",
              "\n",
              "    .dataframe thead th {\n",
              "        text-align: right;\n",
              "    }\n",
              "</style>\n",
              "<table border=\"1\" class=\"dataframe\">\n",
              "  <thead>\n",
              "    <tr style=\"text-align: right;\">\n",
              "      <th></th>\n",
              "      <th>female</th>\n",
              "      <th>male</th>\n",
              "    </tr>\n",
              "  </thead>\n",
              "  <tbody>\n",
              "    <tr>\n",
              "      <th>0</th>\n",
              "      <td>0</td>\n",
              "      <td>1</td>\n",
              "    </tr>\n",
              "    <tr>\n",
              "      <th>1</th>\n",
              "      <td>1</td>\n",
              "      <td>0</td>\n",
              "    </tr>\n",
              "    <tr>\n",
              "      <th>2</th>\n",
              "      <td>1</td>\n",
              "      <td>0</td>\n",
              "    </tr>\n",
              "    <tr>\n",
              "      <th>3</th>\n",
              "      <td>1</td>\n",
              "      <td>0</td>\n",
              "    </tr>\n",
              "    <tr>\n",
              "      <th>4</th>\n",
              "      <td>0</td>\n",
              "      <td>1</td>\n",
              "    </tr>\n",
              "    <tr>\n",
              "      <th>...</th>\n",
              "      <td>...</td>\n",
              "      <td>...</td>\n",
              "    </tr>\n",
              "    <tr>\n",
              "      <th>886</th>\n",
              "      <td>0</td>\n",
              "      <td>1</td>\n",
              "    </tr>\n",
              "    <tr>\n",
              "      <th>887</th>\n",
              "      <td>1</td>\n",
              "      <td>0</td>\n",
              "    </tr>\n",
              "    <tr>\n",
              "      <th>888</th>\n",
              "      <td>1</td>\n",
              "      <td>0</td>\n",
              "    </tr>\n",
              "    <tr>\n",
              "      <th>889</th>\n",
              "      <td>0</td>\n",
              "      <td>1</td>\n",
              "    </tr>\n",
              "    <tr>\n",
              "      <th>890</th>\n",
              "      <td>0</td>\n",
              "      <td>1</td>\n",
              "    </tr>\n",
              "  </tbody>\n",
              "</table>\n",
              "<p>891 rows × 2 columns</p>\n",
              "</div>"
            ],
            "text/plain": [
              "     female  male\n",
              "0         0     1\n",
              "1         1     0\n",
              "2         1     0\n",
              "3         1     0\n",
              "4         0     1\n",
              "..      ...   ...\n",
              "886       0     1\n",
              "887       1     0\n",
              "888       1     0\n",
              "889       0     1\n",
              "890       0     1\n",
              "\n",
              "[891 rows x 2 columns]"
            ]
          },
          "metadata": {},
          "execution_count": 19
        }
      ]
    },
    {
      "cell_type": "markdown",
      "metadata": {
        "id": "Q5IbFHXex-o6"
      },
      "source": [
        "Estas columnas tienen información redundante por lo que podemos eliminar una columna porque no aporta información"
      ]
    },
    {
      "cell_type": "code",
      "metadata": {
        "colab": {
          "base_uri": "https://localhost:8080/",
          "height": 415
        },
        "id": "ztaPUHiqyMNl",
        "outputId": "2d8385e6-8446-4555-9fd6-e5643e9e8f6d"
      },
      "source": [
        "pd.get_dummies(train_data[\"Sex\"],drop_first=True)"
      ],
      "execution_count": 20,
      "outputs": [
        {
          "output_type": "execute_result",
          "data": {
            "text/html": [
              "<div>\n",
              "<style scoped>\n",
              "    .dataframe tbody tr th:only-of-type {\n",
              "        vertical-align: middle;\n",
              "    }\n",
              "\n",
              "    .dataframe tbody tr th {\n",
              "        vertical-align: top;\n",
              "    }\n",
              "\n",
              "    .dataframe thead th {\n",
              "        text-align: right;\n",
              "    }\n",
              "</style>\n",
              "<table border=\"1\" class=\"dataframe\">\n",
              "  <thead>\n",
              "    <tr style=\"text-align: right;\">\n",
              "      <th></th>\n",
              "      <th>male</th>\n",
              "    </tr>\n",
              "  </thead>\n",
              "  <tbody>\n",
              "    <tr>\n",
              "      <th>0</th>\n",
              "      <td>1</td>\n",
              "    </tr>\n",
              "    <tr>\n",
              "      <th>1</th>\n",
              "      <td>0</td>\n",
              "    </tr>\n",
              "    <tr>\n",
              "      <th>2</th>\n",
              "      <td>0</td>\n",
              "    </tr>\n",
              "    <tr>\n",
              "      <th>3</th>\n",
              "      <td>0</td>\n",
              "    </tr>\n",
              "    <tr>\n",
              "      <th>4</th>\n",
              "      <td>1</td>\n",
              "    </tr>\n",
              "    <tr>\n",
              "      <th>...</th>\n",
              "      <td>...</td>\n",
              "    </tr>\n",
              "    <tr>\n",
              "      <th>886</th>\n",
              "      <td>1</td>\n",
              "    </tr>\n",
              "    <tr>\n",
              "      <th>887</th>\n",
              "      <td>0</td>\n",
              "    </tr>\n",
              "    <tr>\n",
              "      <th>888</th>\n",
              "      <td>0</td>\n",
              "    </tr>\n",
              "    <tr>\n",
              "      <th>889</th>\n",
              "      <td>1</td>\n",
              "    </tr>\n",
              "    <tr>\n",
              "      <th>890</th>\n",
              "      <td>1</td>\n",
              "    </tr>\n",
              "  </tbody>\n",
              "</table>\n",
              "<p>891 rows × 1 columns</p>\n",
              "</div>"
            ],
            "text/plain": [
              "     male\n",
              "0       1\n",
              "1       0\n",
              "2       0\n",
              "3       0\n",
              "4       1\n",
              "..    ...\n",
              "886     1\n",
              "887     0\n",
              "888     0\n",
              "889     1\n",
              "890     1\n",
              "\n",
              "[891 rows x 1 columns]"
            ]
          },
          "metadata": {},
          "execution_count": 20
        }
      ]
    },
    {
      "cell_type": "markdown",
      "metadata": {
        "id": "qjgO0lAXzFI1"
      },
      "source": [
        "Así creamos un atributo numérico a partir de un atributo no numérico o por categorías"
      ]
    },
    {
      "cell_type": "code",
      "metadata": {
        "id": "k4H9J81Qy_dj"
      },
      "source": [
        "genero = pd.get_dummies(train_data[\"Sex\"],drop_first=True)"
      ],
      "execution_count": 21,
      "outputs": []
    },
    {
      "cell_type": "markdown",
      "metadata": {
        "id": "zgt7NwEHytRj"
      },
      "source": [
        "Hacemos lo mismo con el resto de atributos no numéricos"
      ]
    },
    {
      "cell_type": "code",
      "metadata": {
        "id": "7GWMslmTyry8"
      },
      "source": [
        "puerto = pd.get_dummies(train_data[\"Embarked\"],drop_first=True)"
      ],
      "execution_count": 22,
      "outputs": []
    },
    {
      "cell_type": "code",
      "metadata": {
        "colab": {
          "base_uri": "https://localhost:8080/",
          "height": 415
        },
        "id": "zSchkHvVzQv5",
        "outputId": "a2b0a14b-9ec0-4ba2-d737-9a8af56efdd6"
      },
      "source": [
        "puerto"
      ],
      "execution_count": 23,
      "outputs": [
        {
          "output_type": "execute_result",
          "data": {
            "text/html": [
              "<div>\n",
              "<style scoped>\n",
              "    .dataframe tbody tr th:only-of-type {\n",
              "        vertical-align: middle;\n",
              "    }\n",
              "\n",
              "    .dataframe tbody tr th {\n",
              "        vertical-align: top;\n",
              "    }\n",
              "\n",
              "    .dataframe thead th {\n",
              "        text-align: right;\n",
              "    }\n",
              "</style>\n",
              "<table border=\"1\" class=\"dataframe\">\n",
              "  <thead>\n",
              "    <tr style=\"text-align: right;\">\n",
              "      <th></th>\n",
              "      <th>Q</th>\n",
              "      <th>S</th>\n",
              "    </tr>\n",
              "  </thead>\n",
              "  <tbody>\n",
              "    <tr>\n",
              "      <th>0</th>\n",
              "      <td>0</td>\n",
              "      <td>1</td>\n",
              "    </tr>\n",
              "    <tr>\n",
              "      <th>1</th>\n",
              "      <td>0</td>\n",
              "      <td>0</td>\n",
              "    </tr>\n",
              "    <tr>\n",
              "      <th>2</th>\n",
              "      <td>0</td>\n",
              "      <td>1</td>\n",
              "    </tr>\n",
              "    <tr>\n",
              "      <th>3</th>\n",
              "      <td>0</td>\n",
              "      <td>1</td>\n",
              "    </tr>\n",
              "    <tr>\n",
              "      <th>4</th>\n",
              "      <td>0</td>\n",
              "      <td>1</td>\n",
              "    </tr>\n",
              "    <tr>\n",
              "      <th>...</th>\n",
              "      <td>...</td>\n",
              "      <td>...</td>\n",
              "    </tr>\n",
              "    <tr>\n",
              "      <th>886</th>\n",
              "      <td>0</td>\n",
              "      <td>1</td>\n",
              "    </tr>\n",
              "    <tr>\n",
              "      <th>887</th>\n",
              "      <td>0</td>\n",
              "      <td>1</td>\n",
              "    </tr>\n",
              "    <tr>\n",
              "      <th>888</th>\n",
              "      <td>0</td>\n",
              "      <td>1</td>\n",
              "    </tr>\n",
              "    <tr>\n",
              "      <th>889</th>\n",
              "      <td>0</td>\n",
              "      <td>0</td>\n",
              "    </tr>\n",
              "    <tr>\n",
              "      <th>890</th>\n",
              "      <td>1</td>\n",
              "      <td>0</td>\n",
              "    </tr>\n",
              "  </tbody>\n",
              "</table>\n",
              "<p>891 rows × 2 columns</p>\n",
              "</div>"
            ],
            "text/plain": [
              "     Q  S\n",
              "0    0  1\n",
              "1    0  0\n",
              "2    0  1\n",
              "3    0  1\n",
              "4    0  1\n",
              "..  .. ..\n",
              "886  0  1\n",
              "887  0  1\n",
              "888  0  1\n",
              "889  0  0\n",
              "890  1  0\n",
              "\n",
              "[891 rows x 2 columns]"
            ]
          },
          "metadata": {},
          "execution_count": 23
        }
      ]
    },
    {
      "cell_type": "markdown",
      "metadata": {
        "id": "ODIRfEpFzkkl"
      },
      "source": [
        "En el caso del atributo Pclass aunque es numérico realmente se refiere a categorías por lo que aplicamos lo anterior"
      ]
    },
    {
      "cell_type": "code",
      "metadata": {
        "colab": {
          "base_uri": "https://localhost:8080/",
          "height": 415
        },
        "id": "d2hEmKRpyYSL",
        "outputId": "418c6a79-f15b-4ec3-8e1e-49fa4e782a8e"
      },
      "source": [
        "clase = pd.get_dummies(train_data[\"Pclass\"],drop_first=True)\n",
        "clase"
      ],
      "execution_count": 24,
      "outputs": [
        {
          "output_type": "execute_result",
          "data": {
            "text/html": [
              "<div>\n",
              "<style scoped>\n",
              "    .dataframe tbody tr th:only-of-type {\n",
              "        vertical-align: middle;\n",
              "    }\n",
              "\n",
              "    .dataframe tbody tr th {\n",
              "        vertical-align: top;\n",
              "    }\n",
              "\n",
              "    .dataframe thead th {\n",
              "        text-align: right;\n",
              "    }\n",
              "</style>\n",
              "<table border=\"1\" class=\"dataframe\">\n",
              "  <thead>\n",
              "    <tr style=\"text-align: right;\">\n",
              "      <th></th>\n",
              "      <th>2</th>\n",
              "      <th>3</th>\n",
              "    </tr>\n",
              "  </thead>\n",
              "  <tbody>\n",
              "    <tr>\n",
              "      <th>0</th>\n",
              "      <td>0</td>\n",
              "      <td>1</td>\n",
              "    </tr>\n",
              "    <tr>\n",
              "      <th>1</th>\n",
              "      <td>0</td>\n",
              "      <td>0</td>\n",
              "    </tr>\n",
              "    <tr>\n",
              "      <th>2</th>\n",
              "      <td>0</td>\n",
              "      <td>1</td>\n",
              "    </tr>\n",
              "    <tr>\n",
              "      <th>3</th>\n",
              "      <td>0</td>\n",
              "      <td>0</td>\n",
              "    </tr>\n",
              "    <tr>\n",
              "      <th>4</th>\n",
              "      <td>0</td>\n",
              "      <td>1</td>\n",
              "    </tr>\n",
              "    <tr>\n",
              "      <th>...</th>\n",
              "      <td>...</td>\n",
              "      <td>...</td>\n",
              "    </tr>\n",
              "    <tr>\n",
              "      <th>886</th>\n",
              "      <td>1</td>\n",
              "      <td>0</td>\n",
              "    </tr>\n",
              "    <tr>\n",
              "      <th>887</th>\n",
              "      <td>0</td>\n",
              "      <td>0</td>\n",
              "    </tr>\n",
              "    <tr>\n",
              "      <th>888</th>\n",
              "      <td>0</td>\n",
              "      <td>1</td>\n",
              "    </tr>\n",
              "    <tr>\n",
              "      <th>889</th>\n",
              "      <td>0</td>\n",
              "      <td>0</td>\n",
              "    </tr>\n",
              "    <tr>\n",
              "      <th>890</th>\n",
              "      <td>0</td>\n",
              "      <td>1</td>\n",
              "    </tr>\n",
              "  </tbody>\n",
              "</table>\n",
              "<p>891 rows × 2 columns</p>\n",
              "</div>"
            ],
            "text/plain": [
              "     2  3\n",
              "0    0  1\n",
              "1    0  0\n",
              "2    0  1\n",
              "3    0  0\n",
              "4    0  1\n",
              "..  .. ..\n",
              "886  1  0\n",
              "887  0  0\n",
              "888  0  1\n",
              "889  0  0\n",
              "890  0  1\n",
              "\n",
              "[891 rows x 2 columns]"
            ]
          },
          "metadata": {},
          "execution_count": 24
        }
      ]
    },
    {
      "cell_type": "markdown",
      "metadata": {
        "id": "0Y0-Zka30B7a"
      },
      "source": [
        "Añadimos estas columnas a nuestro DataFrame"
      ]
    },
    {
      "cell_type": "code",
      "metadata": {
        "id": "Mc1JvhDbzzRz"
      },
      "source": [
        "train_data = pd.concat([train_data,clase,genero,puerto],axis=1)"
      ],
      "execution_count": 25,
      "outputs": []
    },
    {
      "cell_type": "code",
      "metadata": {
        "colab": {
          "base_uri": "https://localhost:8080/"
        },
        "id": "KkVAeVMZ1Qrt",
        "outputId": "4be964d0-2d29-4b7b-9f0e-01838a97094a"
      },
      "source": [
        "train_data.info()"
      ],
      "execution_count": 26,
      "outputs": [
        {
          "output_type": "stream",
          "name": "stdout",
          "text": [
            "<class 'pandas.core.frame.DataFrame'>\n",
            "RangeIndex: 891 entries, 0 to 890\n",
            "Data columns (total 16 columns):\n",
            " #   Column       Non-Null Count  Dtype  \n",
            "---  ------       --------------  -----  \n",
            " 0   PassengerId  891 non-null    int64  \n",
            " 1   Survived     891 non-null    int64  \n",
            " 2   Pclass       891 non-null    int64  \n",
            " 3   Name         891 non-null    object \n",
            " 4   Sex          891 non-null    object \n",
            " 5   Age          891 non-null    float64\n",
            " 6   SibSp        891 non-null    int64  \n",
            " 7   Parch        891 non-null    int64  \n",
            " 8   Ticket       891 non-null    object \n",
            " 9   Fare         891 non-null    float64\n",
            " 10  Embarked     891 non-null    object \n",
            " 11  2            891 non-null    uint8  \n",
            " 12  3            891 non-null    uint8  \n",
            " 13  male         891 non-null    uint8  \n",
            " 14  Q            891 non-null    uint8  \n",
            " 15  S            891 non-null    uint8  \n",
            "dtypes: float64(2), int64(5), object(4), uint8(5)\n",
            "memory usage: 81.0+ KB\n"
          ]
        }
      ]
    },
    {
      "cell_type": "markdown",
      "metadata": {
        "id": "OGArWr5F0ZEV"
      },
      "source": [
        "Y eliminamos las columnas con datos por categorías"
      ]
    },
    {
      "cell_type": "code",
      "metadata": {
        "id": "SnW00YJD1PIX"
      },
      "source": [
        "train_data.drop([\"PassengerId\",\"Pclass\",\"Name\",\"Sex\",\"Ticket\",\"Embarked\"],axis=1,inplace=True)"
      ],
      "execution_count": 27,
      "outputs": []
    },
    {
      "cell_type": "code",
      "metadata": {
        "colab": {
          "base_uri": "https://localhost:8080/"
        },
        "id": "EQf5_JqF0k5u",
        "outputId": "970bffe5-07f0-482b-da43-ff098a88457d"
      },
      "source": [
        "train_data.info()"
      ],
      "execution_count": 28,
      "outputs": [
        {
          "output_type": "stream",
          "name": "stdout",
          "text": [
            "<class 'pandas.core.frame.DataFrame'>\n",
            "RangeIndex: 891 entries, 0 to 890\n",
            "Data columns (total 10 columns):\n",
            " #   Column    Non-Null Count  Dtype  \n",
            "---  ------    --------------  -----  \n",
            " 0   Survived  891 non-null    int64  \n",
            " 1   Age       891 non-null    float64\n",
            " 2   SibSp     891 non-null    int64  \n",
            " 3   Parch     891 non-null    int64  \n",
            " 4   Fare      891 non-null    float64\n",
            " 5   2         891 non-null    uint8  \n",
            " 6   3         891 non-null    uint8  \n",
            " 7   male      891 non-null    uint8  \n",
            " 8   Q         891 non-null    uint8  \n",
            " 9   S         891 non-null    uint8  \n",
            "dtypes: float64(2), int64(3), uint8(5)\n",
            "memory usage: 39.3 KB\n"
          ]
        }
      ]
    },
    {
      "cell_type": "markdown",
      "metadata": {
        "id": "kStZmnHX2AG7"
      },
      "source": [
        "Podemos ver las correlaciones entre todos los atributos porque ahora son todos numéricos"
      ]
    },
    {
      "cell_type": "code",
      "metadata": {
        "id": "BtQOSbX20tWb"
      },
      "source": [
        "import matplotlib.pyplot as plt\n",
        "import seaborn as sns\n",
        "sns.set()"
      ],
      "execution_count": 29,
      "outputs": []
    },
    {
      "cell_type": "code",
      "metadata": {
        "colab": {
          "base_uri": "https://localhost:8080/",
          "height": 356
        },
        "id": "FSFFlW1W2Nm1",
        "outputId": "443ee69c-fb83-4ead-e4bb-ee80e2c3fb49"
      },
      "source": [
        "train_data.corr()"
      ],
      "execution_count": 30,
      "outputs": [
        {
          "output_type": "execute_result",
          "data": {
            "text/html": [
              "<div>\n",
              "<style scoped>\n",
              "    .dataframe tbody tr th:only-of-type {\n",
              "        vertical-align: middle;\n",
              "    }\n",
              "\n",
              "    .dataframe tbody tr th {\n",
              "        vertical-align: top;\n",
              "    }\n",
              "\n",
              "    .dataframe thead th {\n",
              "        text-align: right;\n",
              "    }\n",
              "</style>\n",
              "<table border=\"1\" class=\"dataframe\">\n",
              "  <thead>\n",
              "    <tr style=\"text-align: right;\">\n",
              "      <th></th>\n",
              "      <th>Survived</th>\n",
              "      <th>Age</th>\n",
              "      <th>SibSp</th>\n",
              "      <th>Parch</th>\n",
              "      <th>Fare</th>\n",
              "      <th>2</th>\n",
              "      <th>3</th>\n",
              "      <th>male</th>\n",
              "      <th>Q</th>\n",
              "      <th>S</th>\n",
              "    </tr>\n",
              "  </thead>\n",
              "  <tbody>\n",
              "    <tr>\n",
              "      <th>Survived</th>\n",
              "      <td>1.000000</td>\n",
              "      <td>-0.069809</td>\n",
              "      <td>-0.035322</td>\n",
              "      <td>0.081629</td>\n",
              "      <td>0.257307</td>\n",
              "      <td>0.093349</td>\n",
              "      <td>-0.322308</td>\n",
              "      <td>-0.543351</td>\n",
              "      <td>0.003650</td>\n",
              "      <td>-0.149683</td>\n",
              "    </tr>\n",
              "    <tr>\n",
              "      <th>Age</th>\n",
              "      <td>-0.069809</td>\n",
              "      <td>1.000000</td>\n",
              "      <td>-0.232625</td>\n",
              "      <td>-0.179191</td>\n",
              "      <td>0.091566</td>\n",
              "      <td>0.006589</td>\n",
              "      <td>-0.281004</td>\n",
              "      <td>0.084153</td>\n",
              "      <td>-0.013855</td>\n",
              "      <td>-0.019336</td>\n",
              "    </tr>\n",
              "    <tr>\n",
              "      <th>SibSp</th>\n",
              "      <td>-0.035322</td>\n",
              "      <td>-0.232625</td>\n",
              "      <td>1.000000</td>\n",
              "      <td>0.414838</td>\n",
              "      <td>0.159651</td>\n",
              "      <td>-0.055932</td>\n",
              "      <td>0.092548</td>\n",
              "      <td>-0.114631</td>\n",
              "      <td>-0.026354</td>\n",
              "      <td>0.068734</td>\n",
              "    </tr>\n",
              "    <tr>\n",
              "      <th>Parch</th>\n",
              "      <td>0.081629</td>\n",
              "      <td>-0.179191</td>\n",
              "      <td>0.414838</td>\n",
              "      <td>1.000000</td>\n",
              "      <td>0.216225</td>\n",
              "      <td>-0.000734</td>\n",
              "      <td>0.015790</td>\n",
              "      <td>-0.245489</td>\n",
              "      <td>-0.081228</td>\n",
              "      <td>0.060814</td>\n",
              "    </tr>\n",
              "    <tr>\n",
              "      <th>Fare</th>\n",
              "      <td>0.257307</td>\n",
              "      <td>0.091566</td>\n",
              "      <td>0.159651</td>\n",
              "      <td>0.216225</td>\n",
              "      <td>1.000000</td>\n",
              "      <td>-0.118557</td>\n",
              "      <td>-0.413333</td>\n",
              "      <td>-0.182333</td>\n",
              "      <td>-0.117216</td>\n",
              "      <td>-0.162184</td>\n",
              "    </tr>\n",
              "    <tr>\n",
              "      <th>2</th>\n",
              "      <td>0.093349</td>\n",
              "      <td>0.006589</td>\n",
              "      <td>-0.055932</td>\n",
              "      <td>-0.000734</td>\n",
              "      <td>-0.118557</td>\n",
              "      <td>1.000000</td>\n",
              "      <td>-0.565210</td>\n",
              "      <td>-0.064746</td>\n",
              "      <td>-0.127301</td>\n",
              "      <td>0.189980</td>\n",
              "    </tr>\n",
              "    <tr>\n",
              "      <th>3</th>\n",
              "      <td>-0.322308</td>\n",
              "      <td>-0.281004</td>\n",
              "      <td>0.092548</td>\n",
              "      <td>0.015790</td>\n",
              "      <td>-0.413333</td>\n",
              "      <td>-0.565210</td>\n",
              "      <td>1.000000</td>\n",
              "      <td>0.137143</td>\n",
              "      <td>0.237449</td>\n",
              "      <td>-0.015104</td>\n",
              "    </tr>\n",
              "    <tr>\n",
              "      <th>male</th>\n",
              "      <td>-0.543351</td>\n",
              "      <td>0.084153</td>\n",
              "      <td>-0.114631</td>\n",
              "      <td>-0.245489</td>\n",
              "      <td>-0.182333</td>\n",
              "      <td>-0.064746</td>\n",
              "      <td>0.137143</td>\n",
              "      <td>1.000000</td>\n",
              "      <td>-0.074115</td>\n",
              "      <td>0.119224</td>\n",
              "    </tr>\n",
              "    <tr>\n",
              "      <th>Q</th>\n",
              "      <td>0.003650</td>\n",
              "      <td>-0.013855</td>\n",
              "      <td>-0.026354</td>\n",
              "      <td>-0.081228</td>\n",
              "      <td>-0.117216</td>\n",
              "      <td>-0.127301</td>\n",
              "      <td>0.237449</td>\n",
              "      <td>-0.074115</td>\n",
              "      <td>1.000000</td>\n",
              "      <td>-0.499421</td>\n",
              "    </tr>\n",
              "    <tr>\n",
              "      <th>S</th>\n",
              "      <td>-0.149683</td>\n",
              "      <td>-0.019336</td>\n",
              "      <td>0.068734</td>\n",
              "      <td>0.060814</td>\n",
              "      <td>-0.162184</td>\n",
              "      <td>0.189980</td>\n",
              "      <td>-0.015104</td>\n",
              "      <td>0.119224</td>\n",
              "      <td>-0.499421</td>\n",
              "      <td>1.000000</td>\n",
              "    </tr>\n",
              "  </tbody>\n",
              "</table>\n",
              "</div>"
            ],
            "text/plain": [
              "          Survived       Age     SibSp  ...      male         Q         S\n",
              "Survived  1.000000 -0.069809 -0.035322  ... -0.543351  0.003650 -0.149683\n",
              "Age      -0.069809  1.000000 -0.232625  ...  0.084153 -0.013855 -0.019336\n",
              "SibSp    -0.035322 -0.232625  1.000000  ... -0.114631 -0.026354  0.068734\n",
              "Parch     0.081629 -0.179191  0.414838  ... -0.245489 -0.081228  0.060814\n",
              "Fare      0.257307  0.091566  0.159651  ... -0.182333 -0.117216 -0.162184\n",
              "2         0.093349  0.006589 -0.055932  ... -0.064746 -0.127301  0.189980\n",
              "3        -0.322308 -0.281004  0.092548  ...  0.137143  0.237449 -0.015104\n",
              "male     -0.543351  0.084153 -0.114631  ...  1.000000 -0.074115  0.119224\n",
              "Q         0.003650 -0.013855 -0.026354  ... -0.074115  1.000000 -0.499421\n",
              "S        -0.149683 -0.019336  0.068734  ...  0.119224 -0.499421  1.000000\n",
              "\n",
              "[10 rows x 10 columns]"
            ]
          },
          "metadata": {},
          "execution_count": 30
        }
      ]
    },
    {
      "cell_type": "code",
      "metadata": {
        "colab": {
          "base_uri": "https://localhost:8080/",
          "height": 289
        },
        "id": "ibhX1bxD2Quc",
        "outputId": "88b6c503-44b0-4f99-a16c-353217f3a378"
      },
      "source": [
        "fig,ax = plt.subplots(figsize=(12,4))\n",
        "sns.heatmap(train_data.corr(), annot=True)"
      ],
      "execution_count": 31,
      "outputs": [
        {
          "output_type": "execute_result",
          "data": {
            "text/plain": [
              "<matplotlib.axes._subplots.AxesSubplot at 0x7f7d8f6e8ad0>"
            ]
          },
          "metadata": {},
          "execution_count": 31
        },
        {
          "output_type": "display_data",
          "data": {
            "image/png": "[encoded data removed]",
            "text/plain": [
              "<Figure size 864x288 with 2 Axes>"
            ]
          },
          "metadata": {}
        }
      ]
    },
    {
      "cell_type": "markdown",
      "metadata": {
        "id": "VBLdBXzY4qL5"
      },
      "source": [
        "#Modelos de predicción con Machine Learning\n",
        "\n",
        "##Regresión Logística\n",
        "\n",
        "El valor que queremos predecir es si el pasajero sobrevivió o no al naufragio por lo que solo hay dos resultados posibles. Tenemos por tanto un problema de Regresión Logística"
      ]
    },
    {
      "cell_type": "markdown",
      "metadata": {
        "id": "hU3532p55VRr"
      },
      "source": [
        "Del dataset obtenemos los atributos y la variable a predecir"
      ]
    },
    {
      "cell_type": "code",
      "metadata": {
        "id": "PlI9Wi1u5eOB"
      },
      "source": [
        "X = train_data.drop(\"Survived\",axis=1)\n",
        "y = train_data[\"Survived\"]"
      ],
      "execution_count": 32,
      "outputs": []
    },
    {
      "cell_type": "markdown",
      "metadata": {
        "id": "HVXoh-386HEj"
      },
      "source": [
        "Para saber si nuestro modelo de predicción es bueno debemos reservar una parte de los datos para posteriormente contrastar los resultados predecidos con los reales\n",
        "\n",
        "Usaremos train_test_split del módulo cross_validation para dividir nuestros datos. El 70% de los datos serán datos de entrenamiento y el 30% serán datos de prueba."
      ]
    },
    {
      "cell_type": "code",
      "metadata": {
        "id": "-hzIaJno6epg"
      },
      "source": [
        "from sklearn.model_selection import train_test_split\n",
        "X_train, X_test, y_train, y_test = train_test_split(X, y, test_size = 0.2, random_state = 101)"
      ],
      "execution_count": 33,
      "outputs": []
    },
    {
      "cell_type": "code",
      "metadata": {
        "colab": {
          "base_uri": "https://localhost:8080/"
        },
        "id": "VPVxptSX6qll",
        "outputId": "f04f4b3f-d13a-4d2d-e48f-7198a22313d9"
      },
      "source": [
        "from sklearn.linear_model import LogisticRegression\n",
        "rl = LogisticRegression()\n",
        "rl.fit(X_train,y_train)"
      ],
      "execution_count": 34,
      "outputs": [
        {
          "output_type": "stream",
          "name": "stderr",
          "text": [
            "/usr/local/lib/python3.7/dist-packages/sklearn/linear_model/_logistic.py:940: ConvergenceWarning: lbfgs failed to converge (status=1):\n",
            "STOP: TOTAL NO. of ITERATIONS REACHED LIMIT.\n",
            "\n",
            "Increase the number of iterations (max_iter) or scale the data as shown in:\n",
            "    https://scikit-learn.org/stable/modules/preprocessing.html\n",
            "Please also refer to the documentation for alternative solver options:\n",
            "    https://scikit-learn.org/stable/modules/linear_model.html#logistic-regression\n",
            "  extra_warning_msg=_LOGISTIC_SOLVER_CONVERGENCE_MSG)\n"
          ]
        },
        {
          "output_type": "execute_result",
          "data": {
            "text/plain": [
              "LogisticRegression(C=1.0, class_weight=None, dual=False, fit_intercept=True,\n",
              "                   intercept_scaling=1, l1_ratio=None, max_iter=100,\n",
              "                   multi_class='auto', n_jobs=None, penalty='l2',\n",
              "                   random_state=None, solver='lbfgs', tol=0.0001, verbose=0,\n",
              "                   warm_start=False)"
            ]
          },
          "metadata": {},
          "execution_count": 34
        }
      ]
    },
    {
      "cell_type": "code",
      "metadata": {
        "id": "brlW0oBezRaJ",
        "outputId": "052132c2-b48e-4502-8227-88983a2788e8",
        "colab": {
          "base_uri": "https://localhost:8080/"
        }
      },
      "source": [
        "print(rl.score(X_train, y_train))"
      ],
      "execution_count": 35,
      "outputs": [
        {
          "output_type": "stream",
          "name": "stdout",
          "text": [
            "0.8103932584269663\n"
          ]
        }
      ]
    },
    {
      "cell_type": "code",
      "metadata": {
        "id": "d5TD-OntzLej",
        "outputId": "1e0e4118-dd1a-4ead-b09d-08f919801d5d",
        "colab": {
          "base_uri": "https://localhost:8080/"
        }
      },
      "source": [
        "print(rl.score(X_test, y_test))"
      ],
      "execution_count": 36,
      "outputs": [
        {
          "output_type": "stream",
          "name": "stdout",
          "text": [
            "0.7988826815642458\n"
          ]
        }
      ]
    },
    {
      "cell_type": "markdown",
      "metadata": {
        "id": "zgkeHhAi62SP"
      },
      "source": [
        "Comprobemos la precisión del modelo"
      ]
    },
    {
      "cell_type": "markdown",
      "metadata": {
        "id": "643cCy7x2QU5"
      },
      "source": [
        "En primer lugar vemos cómo se comporta el modelo con los datos de entrenamiento"
      ]
    },
    {
      "cell_type": "code",
      "metadata": {
        "id": "xq5UzQfo2hwS",
        "outputId": "70eef4af-71d2-454e-bb72-f34a82120af6",
        "colab": {
          "base_uri": "https://localhost:8080/"
        }
      },
      "source": [
        "y_pred = rl.predict(X_train)\n",
        "from sklearn.metrics import classification_report\n",
        "print(classification_report(y_train, y_pred))"
      ],
      "execution_count": 37,
      "outputs": [
        {
          "output_type": "stream",
          "name": "stdout",
          "text": [
            "              precision    recall  f1-score   support\n",
            "\n",
            "           0       0.83      0.88      0.85       450\n",
            "           1       0.77      0.69      0.73       262\n",
            "\n",
            "    accuracy                           0.81       712\n",
            "   macro avg       0.80      0.78      0.79       712\n",
            "weighted avg       0.81      0.81      0.81       712\n",
            "\n"
          ]
        }
      ]
    },
    {
      "cell_type": "code",
      "metadata": {
        "id": "JjxMnMf524sA",
        "outputId": "aea63c61-57fe-4ce9-d14b-92eab615daea",
        "colab": {
          "base_uri": "https://localhost:8080/"
        }
      },
      "source": [
        "from sklearn.metrics import confusion_matrix\n",
        "confusion_matrix(y_train, y_pred)"
      ],
      "execution_count": 38,
      "outputs": [
        {
          "output_type": "execute_result",
          "data": {
            "text/plain": [
              "array([[397,  53],\n",
              "       [ 82, 180]])"
            ]
          },
          "metadata": {},
          "execution_count": 38
        }
      ]
    },
    {
      "cell_type": "code",
      "metadata": {
        "id": "h4-kSfIc3FUy",
        "outputId": "4282bda6-ee1d-4a70-bac4-5e2d4b380920",
        "colab": {
          "base_uri": "https://localhost:8080/",
          "height": 285
        }
      },
      "source": [
        "from sklearn.metrics import ConfusionMatrixDisplay\n",
        "cm = confusion_matrix(y_train, y_pred)\n",
        "disp = ConfusionMatrixDisplay(confusion_matrix=cm, display_labels=rl.classes_)\n",
        "disp.plot()\n",
        "plt.show()"
      ],
      "execution_count": 39,
      "outputs": [
        {
          "output_type": "display_data",
          "data": {
            "image/png": "[encoded data removed]",
            "text/plain": [
              "<Figure size 432x288 with 2 Axes>"
            ]
          },
          "metadata": {}
        }
      ]
    },
    {
      "cell_type": "markdown",
      "metadata": {
        "id": "EHoqyk3i2YKr"
      },
      "source": [
        "Y ahora comprobamos cómo se comporta el modelo con los datos de test o prueba "
      ]
    },
    {
      "cell_type": "code",
      "metadata": {
        "colab": {
          "base_uri": "https://localhost:8080/"
        },
        "id": "8CQzs3Km6_V9",
        "outputId": "48ee1804-42ac-4e4d-c8dd-01539ee259aa"
      },
      "source": [
        "predictions_rl = rl.predict(X_test)\n",
        "print(classification_report(y_test, predictions_rl))"
      ],
      "execution_count": 40,
      "outputs": [
        {
          "output_type": "stream",
          "name": "stdout",
          "text": [
            "              precision    recall  f1-score   support\n",
            "\n",
            "           0       0.78      0.89      0.83        99\n",
            "           1       0.83      0.69      0.75        80\n",
            "\n",
            "    accuracy                           0.80       179\n",
            "   macro avg       0.81      0.79      0.79       179\n",
            "weighted avg       0.80      0.80      0.80       179\n",
            "\n"
          ]
        }
      ]
    },
    {
      "cell_type": "markdown",
      "metadata": {
        "id": "6Z9RLdQC7KkU"
      },
      "source": [
        "\n",
        "\n",
        "```\n",
        "# Tiene formato de código\n",
        "```\n",
        "\n",
        "Conseguimos un 80% de precisión, nada mal. Veamos la matriz de confusión"
      ]
    },
    {
      "cell_type": "code",
      "metadata": {
        "colab": {
          "base_uri": "https://localhost:8080/"
        },
        "id": "Vr0Dg4Jg7OLR",
        "outputId": "64e72d42-188b-4e9d-cf87-5ba617ac561c"
      },
      "source": [
        "confusion_matrix(y_test, predictions_rl)"
      ],
      "execution_count": 41,
      "outputs": [
        {
          "output_type": "execute_result",
          "data": {
            "text/plain": [
              "array([[88, 11],\n",
              "       [25, 55]])"
            ]
          },
          "metadata": {},
          "execution_count": 41
        }
      ]
    },
    {
      "cell_type": "markdown",
      "metadata": {
        "id": "gvelNolIu29w"
      },
      "source": [
        "Podemos visualizar la matriz de confusión para interpretar más fácilmente los datos"
      ]
    },
    {
      "cell_type": "code",
      "metadata": {
        "id": "zM3UNu8NuKor",
        "outputId": "d7e13d12-94d7-4cbc-eeda-60c2482fc92d",
        "colab": {
          "base_uri": "https://localhost:8080/",
          "height": 285
        }
      },
      "source": [
        "cm = confusion_matrix(y_test, predictions_rl)\n",
        "disp = ConfusionMatrixDisplay(confusion_matrix=cm, display_labels=rl.classes_)\n",
        "disp.plot()\n",
        "plt.show()"
      ],
      "execution_count": 42,
      "outputs": [
        {
          "output_type": "display_data",
          "data": {
            "image/png": "[encoded data removed]",
            "text/plain": [
              "<Figure size 432x288 with 2 Axes>"
            ]
          },
          "metadata": {}
        }
      ]
    },
    {
      "cell_type": "markdown",
      "metadata": {
        "id": "eCQcavzx7doo"
      },
      "source": [
        "Verdadero positivo: 88 (predijimos un resultado positivo y fue positivo)\n",
        "\n",
        "Verdadero negativo: 55 (predijimos un resultado negativo y fue negativo)\n",
        "\n",
        "Falso positivo: 11 (Predijimos un resultado positivo y fue negativo)\n",
        "\n",
        "Falso negativo: 25 (Predijimos un resultado negativo y fue positivo)"
      ]
    },
    {
      "cell_type": "markdown",
      "metadata": {
        "id": "eExSiKDs0w78"
      },
      "source": [
        "##Modelo con K Nearest Neighbours (KNN)"
      ]
    },
    {
      "cell_type": "code",
      "metadata": {
        "id": "3JWXk0nA04BK"
      },
      "source": [
        "from sklearn.neighbors import KNeighborsClassifier\n",
        "knn = KNeighborsClassifier(n_neighbors = 3)"
      ],
      "execution_count": 43,
      "outputs": []
    },
    {
      "cell_type": "code",
      "metadata": {
        "colab": {
          "base_uri": "https://localhost:8080/"
        },
        "id": "EcMHtUel1DDZ",
        "outputId": "1990739e-9d9f-407a-f338-6e87a4b46d48"
      },
      "source": [
        "knn.fit(X_train, y_train)"
      ],
      "execution_count": 44,
      "outputs": [
        {
          "output_type": "execute_result",
          "data": {
            "text/plain": [
              "KNeighborsClassifier(algorithm='auto', leaf_size=30, metric='minkowski',\n",
              "                     metric_params=None, n_jobs=None, n_neighbors=3, p=2,\n",
              "                     weights='uniform')"
            ]
          },
          "metadata": {},
          "execution_count": 44
        }
      ]
    },
    {
      "cell_type": "code",
      "metadata": {
        "colab": {
          "base_uri": "https://localhost:8080/"
        },
        "id": "UFsGWIHg1DDa",
        "outputId": "0033ffae-1566-4735-b740-4d7a210b87ab"
      },
      "source": [
        "predictions_knn = knn.predict(X_test)\n",
        "print(knn.score(X_train, y_train))"
      ],
      "execution_count": 45,
      "outputs": [
        {
          "output_type": "stream",
          "name": "stdout",
          "text": [
            "0.8356741573033708\n"
          ]
        }
      ]
    },
    {
      "cell_type": "code",
      "metadata": {
        "colab": {
          "base_uri": "https://localhost:8080/"
        },
        "id": "f-b9t2GZ1DDa",
        "outputId": "49221e6f-405a-4dcb-dce6-0b36e4c46ac1"
      },
      "source": [
        "print(knn.score(X_test, y_test))"
      ],
      "execution_count": 46,
      "outputs": [
        {
          "output_type": "stream",
          "name": "stdout",
          "text": [
            "0.6983240223463687\n"
          ]
        }
      ]
    },
    {
      "cell_type": "code",
      "metadata": {
        "colab": {
          "base_uri": "https://localhost:8080/"
        },
        "id": "PY7dlmpB1DDa",
        "outputId": "5921fd61-7f56-479b-a915-fe13507e391e"
      },
      "source": [
        "predictions_knn = knn.predict(X_test)\n",
        "print(classification_report(y_test, predictions_knn))"
      ],
      "execution_count": 47,
      "outputs": [
        {
          "output_type": "stream",
          "name": "stdout",
          "text": [
            "              precision    recall  f1-score   support\n",
            "\n",
            "           0       0.68      0.86      0.76        99\n",
            "           1       0.74      0.50      0.60        80\n",
            "\n",
            "    accuracy                           0.70       179\n",
            "   macro avg       0.71      0.68      0.68       179\n",
            "weighted avg       0.71      0.70      0.69       179\n",
            "\n"
          ]
        }
      ]
    },
    {
      "cell_type": "code",
      "metadata": {
        "colab": {
          "base_uri": "https://localhost:8080/",
          "height": 285
        },
        "id": "sGAOW9J71DDa",
        "outputId": "6a440bb2-9a19-4112-a9c7-f351944f2c36"
      },
      "source": [
        "cm = confusion_matrix(y_test, predictions_knn)\n",
        "disp = ConfusionMatrixDisplay(confusion_matrix=cm, display_labels=knn.classes_)\n",
        "disp.plot()\n",
        "plt.show()"
      ],
      "execution_count": 61,
      "outputs": [
        {
          "output_type": "display_data",
          "data": {
            "image/png": "[encoded data removed]",
            "text/plain": [
              "<Figure size 432x288 with 2 Axes>"
            ]
          },
          "metadata": {}
        }
      ]
    },
    {
      "cell_type": "markdown",
      "metadata": {
        "id": "NCRDRm--vTYP"
      },
      "source": [
        "#Modelo con Random Forest"
      ]
    },
    {
      "cell_type": "code",
      "metadata": {
        "id": "QiZXdvB_vbmx",
        "outputId": "403a78d5-bcf3-4a69-ca5d-38cf41547a8a",
        "colab": {
          "base_uri": "https://localhost:8080/"
        }
      },
      "source": [
        "from sklearn.ensemble import RandomForestClassifier\n",
        "\n",
        "rf = RandomForestClassifier(n_estimators=100)\n",
        "\n",
        "#Train the model using the training sets y_pred=clf.predict(X_test)\n",
        "rf.fit(X_train, y_train)"
      ],
      "execution_count": 49,
      "outputs": [
        {
          "output_type": "execute_result",
          "data": {
            "text/plain": [
              "RandomForestClassifier(bootstrap=True, ccp_alpha=0.0, class_weight=None,\n",
              "                       criterion='gini', max_depth=None, max_features='auto',\n",
              "                       max_leaf_nodes=None, max_samples=None,\n",
              "                       min_impurity_decrease=0.0, min_impurity_split=None,\n",
              "                       min_samples_leaf=1, min_samples_split=2,\n",
              "                       min_weight_fraction_leaf=0.0, n_estimators=100,\n",
              "                       n_jobs=None, oob_score=False, random_state=None,\n",
              "                       verbose=0, warm_start=False)"
            ]
          },
          "metadata": {},
          "execution_count": 49
        }
      ]
    },
    {
      "cell_type": "code",
      "metadata": {
        "id": "69mYcPHtyhzY",
        "outputId": "f25dc09d-cceb-4031-e536-a12374cd9299",
        "colab": {
          "base_uri": "https://localhost:8080/"
        }
      },
      "source": [
        "print(rf.score(X_train, y_train))"
      ],
      "execution_count": 50,
      "outputs": [
        {
          "output_type": "stream",
          "name": "stdout",
          "text": [
            "0.9859550561797753\n"
          ]
        }
      ]
    },
    {
      "cell_type": "code",
      "metadata": {
        "id": "la6jhLQZ0APb",
        "outputId": "2cf003e2-af91-4535-ec95-80b719cfa8e5",
        "colab": {
          "base_uri": "https://localhost:8080/"
        }
      },
      "source": [
        "print(rf.score(X_test, y_test))"
      ],
      "execution_count": 51,
      "outputs": [
        {
          "output_type": "stream",
          "name": "stdout",
          "text": [
            "0.8044692737430168\n"
          ]
        }
      ]
    },
    {
      "cell_type": "markdown",
      "metadata": {
        "id": "2LINQTgMv8un"
      },
      "source": [
        "Podemos visualizar la importancia de cada variable o característica del pasajero"
      ]
    },
    {
      "cell_type": "code",
      "metadata": {
        "id": "-jqQjh3Avw26",
        "outputId": "9a7fd1cc-f61f-42b8-f4ed-bdb83f91d1d4",
        "colab": {
          "base_uri": "https://localhost:8080/",
          "height": 437
        }
      },
      "source": [
        "feature_imp = pd.Series(rf.feature_importances_, index=X_train.columns).sort_values(ascending=False)\n",
        "\n",
        "#print(\"Accuracy: {}\".format(metrics.accuracy_score(y_test, y_pred)))\n",
        "\n",
        "plt.figure(figsize=(10,6))\n",
        "sns.barplot(x=feature_imp, y=feature_imp.index)\n",
        "# Add labels to your graph\n",
        "plt.xlabel('Feature Importance Score')\n",
        "plt.ylabel('Features')\n",
        "plt.title(\"Visualizing Important Features\")\n",
        "plt.tight_layout()"
      ],
      "execution_count": 52,
      "outputs": [
        {
          "output_type": "display_data",
          "data": {
            "image/png": "[encoded data removed]",
            "text/plain": [
              "<Figure size 720x432 with 1 Axes>"
            ]
          },
          "metadata": {}
        }
      ]
    },
    {
      "cell_type": "markdown",
      "metadata": {
        "id": "jeEx2ErrwQ-U"
      },
      "source": [
        "Comprobamos el resultado del modelo en el conjunto de datos de prueba o test"
      ]
    },
    {
      "cell_type": "code",
      "metadata": {
        "id": "r6JppQMSwQgS",
        "outputId": "4d36e189-a122-4531-fbca-d3da78ac53bd",
        "colab": {
          "base_uri": "https://localhost:8080/"
        }
      },
      "source": [
        "predictions_rf = rf.predict(X_test)\n",
        "print(classification_report(y_test, predictions_rf))"
      ],
      "execution_count": 53,
      "outputs": [
        {
          "output_type": "stream",
          "name": "stdout",
          "text": [
            "              precision    recall  f1-score   support\n",
            "\n",
            "           0       0.80      0.87      0.83        99\n",
            "           1       0.82      0.72      0.77        80\n",
            "\n",
            "    accuracy                           0.80       179\n",
            "   macro avg       0.81      0.80      0.80       179\n",
            "weighted avg       0.81      0.80      0.80       179\n",
            "\n"
          ]
        }
      ]
    },
    {
      "cell_type": "code",
      "metadata": {
        "id": "5bfIgZiSw5xI",
        "outputId": "eb822d36-71dc-4a17-e51c-051ea8a394c3",
        "colab": {
          "base_uri": "https://localhost:8080/",
          "height": 285
        }
      },
      "source": [
        "cm = confusion_matrix(y_test, predictions_rf)\n",
        "disp = ConfusionMatrixDisplay(confusion_matrix=cm, display_labels=rf.classes_)\n",
        "disp.plot()\n",
        "plt.show()"
      ],
      "execution_count": 54,
      "outputs": [
        {
          "output_type": "display_data",
          "data": {
            "image/png": "[encoded data removed]",
            "text/plain": [
              "<Figure size 432x288 with 2 Axes>"
            ]
          },
          "metadata": {}
        }
      ]
    },
    {
      "cell_type": "markdown",
      "metadata": {
        "id": "NcuHYsi4xYNv"
      },
      "source": [
        "##Modelo con SVM"
      ]
    },
    {
      "cell_type": "code",
      "metadata": {
        "id": "7rHZn3Xsxaxh"
      },
      "source": [
        "from sklearn.svm import SVC\n",
        "svc = SVC()"
      ],
      "execution_count": 55,
      "outputs": []
    },
    {
      "cell_type": "code",
      "metadata": {
        "colab": {
          "base_uri": "https://localhost:8080/"
        },
        "id": "5PlJhiSOxszb",
        "outputId": "04415980-5af4-4fd7-cb9e-f8903e15c0aa"
      },
      "source": [
        "svc.fit(X_train, y_train)"
      ],
      "execution_count": 56,
      "outputs": [
        {
          "output_type": "execute_result",
          "data": {
            "text/plain": [
              "SVC(C=1.0, break_ties=False, cache_size=200, class_weight=None, coef0=0.0,\n",
              "    decision_function_shape='ovr', degree=3, gamma='scale', kernel='rbf',\n",
              "    max_iter=-1, probability=False, random_state=None, shrinking=True,\n",
              "    tol=0.001, verbose=False)"
            ]
          },
          "metadata": {},
          "execution_count": 56
        }
      ]
    },
    {
      "cell_type": "code",
      "metadata": {
        "colab": {
          "base_uri": "https://localhost:8080/"
        },
        "id": "PiGYaNx9ytOx",
        "outputId": "27e2cc94-cf6c-48f4-f7c3-cd11ab9ae86d"
      },
      "source": [
        "predictions_svc = svc.predict(X_test)\n",
        "print(svc.score(X_train, y_train))"
      ],
      "execution_count": 57,
      "outputs": [
        {
          "output_type": "stream",
          "name": "stdout",
          "text": [
            "0.6769662921348315\n"
          ]
        }
      ]
    },
    {
      "cell_type": "code",
      "metadata": {
        "colab": {
          "base_uri": "https://localhost:8080/"
        },
        "id": "WwIpI8_1y5zP",
        "outputId": "16561a9f-d963-47ec-9bd2-6734edb2fb5f"
      },
      "source": [
        "print(svc.score(X_test, y_test))"
      ],
      "execution_count": 58,
      "outputs": [
        {
          "output_type": "stream",
          "name": "stdout",
          "text": [
            "0.664804469273743\n"
          ]
        }
      ]
    },
    {
      "cell_type": "code",
      "metadata": {
        "colab": {
          "base_uri": "https://localhost:8080/"
        },
        "id": "BacW-CAQx3hO",
        "outputId": "1ba4a5cc-a80c-4293-84a9-6407b9a40c4b"
      },
      "source": [
        "predictions_svc = rf.predict(X_test)\n",
        "print(classification_report(y_test, predictions_svc))"
      ],
      "execution_count": 59,
      "outputs": [
        {
          "output_type": "stream",
          "name": "stdout",
          "text": [
            "              precision    recall  f1-score   support\n",
            "\n",
            "           0       0.80      0.87      0.83        99\n",
            "           1       0.82      0.72      0.77        80\n",
            "\n",
            "    accuracy                           0.80       179\n",
            "   macro avg       0.81      0.80      0.80       179\n",
            "weighted avg       0.81      0.80      0.80       179\n",
            "\n"
          ]
        }
      ]
    },
    {
      "cell_type": "code",
      "metadata": {
        "colab": {
          "base_uri": "https://localhost:8080/",
          "height": 285
        },
        "id": "RVwcrKWiyAwG",
        "outputId": "d7d03b0f-1003-4cb8-e8ae-90ea7db36bf1"
      },
      "source": [
        "cm = confusion_matrix(y_test, predictions_svc)\n",
        "disp = ConfusionMatrixDisplay(confusion_matrix=cm, display_labels=svc.classes_)\n",
        "disp.plot()\n",
        "plt.show()"
      ],
      "execution_count": 60,
      "outputs": [
        {
          "output_type": "display_data",
          "data": {
            "image/png": "[encoded data removed]",
            "text/plain": [
              "<Figure size 432x288 with 2 Axes>"
            ]
          },
          "metadata": {}
        }
      ]
    }
  ]
}