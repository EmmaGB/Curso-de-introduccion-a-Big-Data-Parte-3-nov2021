{
  "nbformat": 4,
  "nbformat_minor": 0,
  "metadata": {
    "anaconda-cloud": {},
    "kernelspec": {
      "display_name": "Python 3",
      "language": "python",
      "name": "python3"
    },
    "language_info": {
      "codemirror_mode": {
        "name": "ipython",
        "version": 3
      },
      "file_extension": ".py",
      "mimetype": "text/x-python",
      "name": "python",
      "nbconvert_exporter": "python",
      "pygments_lexer": "ipython3",
      "version": "3.6.4"
    },
    "colab": {
      "name": "9_Regresion_lineal.ipynb",
      "provenance": [],
      "include_colab_link": true
    },
    "widgets": {
      "application/vnd.jupyter.widget-state+json": {
        "987eeac1dafe452c8b38d6bd9e821bce": {
          "model_module": "@jupyter-widgets/controls",
          "model_name": "VBoxModel",
          "model_module_version": "1.5.0",
          "state": {
            "_view_name": "VBoxView",
            "_dom_classes": [
              "widget-interact"
            ],
            "_model_name": "VBoxModel",
            "_view_module": "@jupyter-widgets/controls",
            "_model_module_version": "1.5.0",
            "_view_count": null,
            "_view_module_version": "1.5.0",
            "box_style": "",
            "layout": "IPY_MODEL_eab932a74dc049808a1db6087758b120",
            "_model_module": "@jupyter-widgets/controls",
            "children": [
              "IPY_MODEL_c754a4cdc73d446aa6a51991f3df01a4",
              "IPY_MODEL_125a04d3c98e4021b1015a5d52d3ac66",
              "IPY_MODEL_2e3b1dec2fd3473d8cb3f33fd58b6224",
              "IPY_MODEL_8058aea43c5f4a8abff128bc947a1b0e"
            ]
          }
        },
        "eab932a74dc049808a1db6087758b120": {
          "model_module": "@jupyter-widgets/base",
          "model_name": "LayoutModel",
          "model_module_version": "1.2.0",
          "state": {
            "_view_name": "LayoutView",
            "grid_template_rows": null,
            "right": null,
            "justify_content": null,
            "_view_module": "@jupyter-widgets/base",
            "overflow": null,
            "_model_module_version": "1.2.0",
            "_view_count": null,
            "flex_flow": null,
            "width": null,
            "min_width": null,
            "border": null,
            "align_items": null,
            "bottom": null,
            "_model_module": "@jupyter-widgets/base",
            "top": null,
            "grid_column": null,
            "overflow_y": null,
            "overflow_x": null,
            "grid_auto_flow": null,
            "grid_area": null,
            "grid_template_columns": null,
            "flex": null,
            "_model_name": "LayoutModel",
            "justify_items": null,
            "grid_row": null,
            "max_height": null,
            "align_content": null,
            "visibility": null,
            "align_self": null,
            "height": null,
            "min_height": null,
            "padding": null,
            "grid_auto_rows": null,
            "grid_gap": null,
            "max_width": null,
            "order": null,
            "_view_module_version": "1.2.0",
            "grid_template_areas": null,
            "object_position": null,
            "object_fit": null,
            "grid_auto_columns": null,
            "margin": null,
            "display": null,
            "left": null
          }
        },
        "c754a4cdc73d446aa6a51991f3df01a4": {
          "model_module": "@jupyter-widgets/controls",
          "model_name": "FloatSliderModel",
          "model_module_version": "1.5.0",
          "state": {
            "_view_name": "FloatSliderView",
            "style": "IPY_MODEL_7edc3b500f9d45888c9e0e320eb70706",
            "_dom_classes": [],
            "description": "alpha",
            "step": 0.1,
            "_model_name": "FloatSliderModel",
            "orientation": "horizontal",
            "max": 1,
            "_view_module": "@jupyter-widgets/controls",
            "_model_module_version": "1.5.0",
            "value": 0.55,
            "_view_count": null,
            "disabled": false,
            "_view_module_version": "1.5.0",
            "min": 0.1,
            "continuous_update": true,
            "readout_format": ".2f",
            "description_tooltip": null,
            "readout": true,
            "_model_module": "@jupyter-widgets/controls",
            "layout": "IPY_MODEL_0ac8a85fa27f48259877e95c79fb7d83"
          }
        },
        "125a04d3c98e4021b1015a5d52d3ac66": {
          "model_module": "@jupyter-widgets/controls",
          "model_name": "IntSliderModel",
          "model_module_version": "1.5.0",
          "state": {
            "_view_name": "IntSliderView",
            "style": "IPY_MODEL_d81a7f2033f44ad792a79e9bd8e841d6",
            "_dom_classes": [],
            "description": "degree",
            "step": 1,
            "_model_name": "IntSliderModel",
            "orientation": "horizontal",
            "max": 15,
            "_view_module": "@jupyter-widgets/controls",
            "_model_module_version": "1.5.0",
            "value": 8,
            "_view_count": null,
            "disabled": false,
            "_view_module_version": "1.5.0",
            "min": 2,
            "continuous_update": true,
            "readout_format": "d",
            "description_tooltip": null,
            "readout": true,
            "_model_module": "@jupyter-widgets/controls",
            "layout": "IPY_MODEL_a0808716e05d4eaea1c5704b4c8fb084"
          }
        },
        "2e3b1dec2fd3473d8cb3f33fd58b6224": {
          "model_module": "@jupyter-widgets/controls",
          "model_name": "RadioButtonsModel",
          "model_module_version": "1.5.0",
          "state": {
            "_options_labels": [
              "RIDGE",
              "LASSO"
            ],
            "_view_name": "RadioButtonsView",
            "style": "IPY_MODEL_32d6453c0b49489092f73c48f22f5e46",
            "_dom_classes": [],
            "description": "Select regression type:",
            "_model_name": "RadioButtonsModel",
            "index": 0,
            "_view_module": "@jupyter-widgets/controls",
            "_model_module_version": "1.5.0",
            "_view_count": null,
            "disabled": false,
            "_view_module_version": "1.5.0",
            "description_tooltip": null,
            "_model_module": "@jupyter-widgets/controls",
            "layout": "IPY_MODEL_a43211ec66184b358ca3a096c0cc4f7e"
          }
        },
        "8058aea43c5f4a8abff128bc947a1b0e": {
          "model_module": "@jupyter-widgets/output",
          "model_name": "OutputModel",
          "model_module_version": "1.0.0",
          "state": {
            "_view_name": "OutputView",
            "msg_id": "",
            "_dom_classes": [],
            "_model_name": "OutputModel",
            "outputs": [
              {
                "output_type": "error",
                "ename": "NameError",
                "evalue": "ignored",
                "traceback": [
                  "\u001b[0;31m---------------------------------------------------------------------------\u001b[0m",
                  "\u001b[0;31mNameError\u001b[0m                                 Traceback (most recent call last)",
                  "\u001b[0;32m/usr/local/lib/python3.7/dist-packages/ipywidgets/widgets/interaction.py\u001b[0m in \u001b[0;36mupdate\u001b[0;34m(self, *args)\u001b[0m\n\u001b[1;32m    255\u001b[0m                     \u001b[0mvalue\u001b[0m \u001b[0;34m=\u001b[0m \u001b[0mwidget\u001b[0m\u001b[0;34m.\u001b[0m\u001b[0mget_interact_value\u001b[0m\u001b[0;34m(\u001b[0m\u001b[0;34m)\u001b[0m\u001b[0;34m\u001b[0m\u001b[0;34m\u001b[0m\u001b[0m\n\u001b[1;32m    256\u001b[0m                     \u001b[0mself\u001b[0m\u001b[0;34m.\u001b[0m\u001b[0mkwargs\u001b[0m\u001b[0;34m[\u001b[0m\u001b[0mwidget\u001b[0m\u001b[0;34m.\u001b[0m\u001b[0m_kwarg\u001b[0m\u001b[0;34m]\u001b[0m \u001b[0;34m=\u001b[0m \u001b[0mvalue\u001b[0m\u001b[0;34m\u001b[0m\u001b[0;34m\u001b[0m\u001b[0m\n\u001b[0;32m--> 257\u001b[0;31m                 \u001b[0mself\u001b[0m\u001b[0;34m.\u001b[0m\u001b[0mresult\u001b[0m \u001b[0;34m=\u001b[0m \u001b[0mself\u001b[0m\u001b[0;34m.\u001b[0m\u001b[0mf\u001b[0m\u001b[0;34m(\u001b[0m\u001b[0;34m**\u001b[0m\u001b[0mself\u001b[0m\u001b[0;34m.\u001b[0m\u001b[0mkwargs\u001b[0m\u001b[0;34m)\u001b[0m\u001b[0;34m\u001b[0m\u001b[0;34m\u001b[0m\u001b[0m\n\u001b[0m\u001b[1;32m    258\u001b[0m                 \u001b[0mshow_inline_matplotlib_plots\u001b[0m\u001b[0;34m(\u001b[0m\u001b[0;34m)\u001b[0m\u001b[0;34m\u001b[0m\u001b[0;34m\u001b[0m\u001b[0m\n\u001b[1;32m    259\u001b[0m                 \u001b[0;32mif\u001b[0m \u001b[0mself\u001b[0m\u001b[0;34m.\u001b[0m\u001b[0mauto_display\u001b[0m \u001b[0;32mand\u001b[0m \u001b[0mself\u001b[0m\u001b[0;34m.\u001b[0m\u001b[0mresult\u001b[0m \u001b[0;32mis\u001b[0m \u001b[0;32mnot\u001b[0m \u001b[0;32mNone\u001b[0m\u001b[0;34m:\u001b[0m\u001b[0;34m\u001b[0m\u001b[0;34m\u001b[0m\u001b[0m\n",
                  "\u001b[0;32m<ipython-input-24-1f92e5309aeb>\u001b[0m in \u001b[0;36mf\u001b[0;34m(alpha, degree, regtitle)\u001b[0m\n\u001b[1;32m     12\u001b[0m     \u001b[0;31m##THE RIDGE or LASSO REGRESSION MODELs WITH POLYNOMIAL FEATURES##############\u001b[0m\u001b[0;34m\u001b[0m\u001b[0;34m\u001b[0m\u001b[0;34m\u001b[0m\u001b[0m\n\u001b[1;32m     13\u001b[0m     \u001b[0;32mif\u001b[0m \u001b[0mregtitle\u001b[0m\u001b[0;34m==\u001b[0m\u001b[0;34m'RIDGE'\u001b[0m\u001b[0;34m:\u001b[0m\u001b[0;34m\u001b[0m\u001b[0;34m\u001b[0m\u001b[0m\n\u001b[0;32m---> 14\u001b[0;31m         \u001b[0mreg\u001b[0m \u001b[0;34m=\u001b[0m \u001b[0mlinear_model\u001b[0m\u001b[0;34m.\u001b[0m\u001b[0mRidge\u001b[0m\u001b[0;34m(\u001b[0m\u001b[0malpha\u001b[0m\u001b[0;34m)\u001b[0m\u001b[0;34m\u001b[0m\u001b[0;34m\u001b[0m\u001b[0m\n\u001b[0m\u001b[1;32m     15\u001b[0m     \u001b[0;32mif\u001b[0m \u001b[0mregtitle\u001b[0m\u001b[0;34m==\u001b[0m\u001b[0;34m'LASSO'\u001b[0m\u001b[0;34m:\u001b[0m\u001b[0;34m\u001b[0m\u001b[0;34m\u001b[0m\u001b[0m\n\u001b[1;32m     16\u001b[0m         \u001b[0;31m#we need a smaller alpha for lasso regularization\u001b[0m\u001b[0;34m\u001b[0m\u001b[0;34m\u001b[0m\u001b[0;34m\u001b[0m\u001b[0m\n",
                  "\u001b[0;31mNameError\u001b[0m: name 'linear_model' is not defined"
                ]
              }
            ],
            "_view_module": "@jupyter-widgets/output",
            "_model_module_version": "1.0.0",
            "_view_count": null,
            "_view_module_version": "1.0.0",
            "layout": "IPY_MODEL_faec65db92564162b01136e2165343f6",
            "_model_module": "@jupyter-widgets/output"
          }
        },
        "7edc3b500f9d45888c9e0e320eb70706": {
          "model_module": "@jupyter-widgets/controls",
          "model_name": "SliderStyleModel",
          "model_module_version": "1.5.0",
          "state": {
            "_view_name": "StyleView",
            "handle_color": null,
            "_model_name": "SliderStyleModel",
            "description_width": "",
            "_view_module": "@jupyter-widgets/base",
            "_model_module_version": "1.5.0",
            "_view_count": null,
            "_view_module_version": "1.2.0",
            "_model_module": "@jupyter-widgets/controls"
          }
        },
        "0ac8a85fa27f48259877e95c79fb7d83": {
          "model_module": "@jupyter-widgets/base",
          "model_name": "LayoutModel",
          "model_module_version": "1.2.0",
          "state": {
            "_view_name": "LayoutView",
            "grid_template_rows": null,
            "right": null,
            "justify_content": null,
            "_view_module": "@jupyter-widgets/base",
            "overflow": null,
            "_model_module_version": "1.2.0",
            "_view_count": null,
            "flex_flow": null,
            "width": null,
            "min_width": null,
            "border": null,
            "align_items": null,
            "bottom": null,
            "_model_module": "@jupyter-widgets/base",
            "top": null,
            "grid_column": null,
            "overflow_y": null,
            "overflow_x": null,
            "grid_auto_flow": null,
            "grid_area": null,
            "grid_template_columns": null,
            "flex": null,
            "_model_name": "LayoutModel",
            "justify_items": null,
            "grid_row": null,
            "max_height": null,
            "align_content": null,
            "visibility": null,
            "align_self": null,
            "height": null,
            "min_height": null,
            "padding": null,
            "grid_auto_rows": null,
            "grid_gap": null,
            "max_width": null,
            "order": null,
            "_view_module_version": "1.2.0",
            "grid_template_areas": null,
            "object_position": null,
            "object_fit": null,
            "grid_auto_columns": null,
            "margin": null,
            "display": null,
            "left": null
          }
        },
        "d81a7f2033f44ad792a79e9bd8e841d6": {
          "model_module": "@jupyter-widgets/controls",
          "model_name": "SliderStyleModel",
          "model_module_version": "1.5.0",
          "state": {
            "_view_name": "StyleView",
            "handle_color": null,
            "_model_name": "SliderStyleModel",
            "description_width": "",
            "_view_module": "@jupyter-widgets/base",
            "_model_module_version": "1.5.0",
            "_view_count": null,
            "_view_module_version": "1.2.0",
            "_model_module": "@jupyter-widgets/controls"
          }
        },
        "a0808716e05d4eaea1c5704b4c8fb084": {
          "model_module": "@jupyter-widgets/base",
          "model_name": "LayoutModel",
          "model_module_version": "1.2.0",
          "state": {
            "_view_name": "LayoutView",
            "grid_template_rows": null,
            "right": null,
            "justify_content": null,
            "_view_module": "@jupyter-widgets/base",
            "overflow": null,
            "_model_module_version": "1.2.0",
            "_view_count": null,
            "flex_flow": null,
            "width": null,
            "min_width": null,
            "border": null,
            "align_items": null,
            "bottom": null,
            "_model_module": "@jupyter-widgets/base",
            "top": null,
            "grid_column": null,
            "overflow_y": null,
            "overflow_x": null,
            "grid_auto_flow": null,
            "grid_area": null,
            "grid_template_columns": null,
            "flex": null,
            "_model_name": "LayoutModel",
            "justify_items": null,
            "grid_row": null,
            "max_height": null,
            "align_content": null,
            "visibility": null,
            "align_self": null,
            "height": null,
            "min_height": null,
            "padding": null,
            "grid_auto_rows": null,
            "grid_gap": null,
            "max_width": null,
            "order": null,
            "_view_module_version": "1.2.0",
            "grid_template_areas": null,
            "object_position": null,
            "object_fit": null,
            "grid_auto_columns": null,
            "margin": null,
            "display": null,
            "left": null
          }
        },
        "32d6453c0b49489092f73c48f22f5e46": {
          "model_module": "@jupyter-widgets/controls",
          "model_name": "DescriptionStyleModel",
          "model_module_version": "1.5.0",
          "state": {
            "_view_name": "StyleView",
            "_model_name": "DescriptionStyleModel",
            "description_width": "",
            "_view_module": "@jupyter-widgets/base",
            "_model_module_version": "1.5.0",
            "_view_count": null,
            "_view_module_version": "1.2.0",
            "_model_module": "@jupyter-widgets/controls"
          }
        },
        "a43211ec66184b358ca3a096c0cc4f7e": {
          "model_module": "@jupyter-widgets/base",
          "model_name": "LayoutModel",
          "model_module_version": "1.2.0",
          "state": {
            "_view_name": "LayoutView",
            "grid_template_rows": null,
            "right": null,
            "justify_content": null,
            "_view_module": "@jupyter-widgets/base",
            "overflow": null,
            "_model_module_version": "1.2.0",
            "_view_count": null,
            "flex_flow": null,
            "width": null,
            "min_width": null,
            "border": null,
            "align_items": null,
            "bottom": null,
            "_model_module": "@jupyter-widgets/base",
            "top": null,
            "grid_column": null,
            "overflow_y": null,
            "overflow_x": null,
            "grid_auto_flow": null,
            "grid_area": null,
            "grid_template_columns": null,
            "flex": null,
            "_model_name": "LayoutModel",
            "justify_items": null,
            "grid_row": null,
            "max_height": null,
            "align_content": null,
            "visibility": null,
            "align_self": null,
            "height": null,
            "min_height": null,
            "padding": null,
            "grid_auto_rows": null,
            "grid_gap": null,
            "max_width": null,
            "order": null,
            "_view_module_version": "1.2.0",
            "grid_template_areas": null,
            "object_position": null,
            "object_fit": null,
            "grid_auto_columns": null,
            "margin": null,
            "display": null,
            "left": null
          }
        },
        "faec65db92564162b01136e2165343f6": {
          "model_module": "@jupyter-widgets/base",
          "model_name": "LayoutModel",
          "model_module_version": "1.2.0",
          "state": {
            "_view_name": "LayoutView",
            "grid_template_rows": null,
            "right": null,
            "justify_content": null,
            "_view_module": "@jupyter-widgets/base",
            "overflow": null,
            "_model_module_version": "1.2.0",
            "_view_count": null,
            "flex_flow": null,
            "width": null,
            "min_width": null,
            "border": null,
            "align_items": null,
            "bottom": null,
            "_model_module": "@jupyter-widgets/base",
            "top": null,
            "grid_column": null,
            "overflow_y": null,
            "overflow_x": null,
            "grid_auto_flow": null,
            "grid_area": null,
            "grid_template_columns": null,
            "flex": null,
            "_model_name": "LayoutModel",
            "justify_items": null,
            "grid_row": null,
            "max_height": null,
            "align_content": null,
            "visibility": null,
            "align_self": null,
            "height": null,
            "min_height": null,
            "padding": null,
            "grid_auto_rows": null,
            "grid_gap": null,
            "max_width": null,
            "order": null,
            "_view_module_version": "1.2.0",
            "grid_template_areas": null,
            "object_position": null,
            "object_fit": null,
            "grid_auto_columns": null,
            "margin": null,
            "display": null,
            "left": null
          }
        }
      }
    }
  },
  "cells": [
    {
      "cell_type": "markdown",
      "metadata": {
        "id": "view-in-github",
        "colab_type": "text"
      },
      "source": [
        "<a href=\"https://colab.research.google.com/github/alberto1971/Curso-de-introduccion-a-Big-Data-Parte-3-nov2021/blob/main/9_Regresion_lineal.ipynb\" target=\"_parent\"><img src=\"https://colab.research.google.com/assets/colab-badge.svg\" alt=\"Open In Colab\"/></a>"
      ]
    },
    {
      "cell_type": "markdown",
      "metadata": {
        "id": "e718Cf6nzMzn"
      },
      "source": [
        "<h1 style='color: blue;'>REGRESION LINEAL</h1>\n",
        "\n",
        "Los modelos de regresión lineal es un buen punto de partida para iniciarse con los modelos o estimadores de aprendizaje supervisado en SKlearn.\n",
        "\n",
        "La regresión lineal es muy popular porque:\n",
        "<ul><li>convergen rápido, tiene un coste computacional bajo,</li> \n",
        "<li>la interpretación de los resultados es intuitiva </li></ul>\n",
        "\n",
        "Aunque tiene la desventaja de que solo sirve si hay una dependencia lineal o polinómica en los datos.\n",
        "\n",
        "Todo el mundo conocemos el ajuste de unos datos a una linea recta, pero vamos a ver que este método es muy potente y puede extenderse para modelar comportamientos más complicados de los datos.\n",
        "\n",
        "# 0. Cargamos las librerías necesarias\n",
        "\n",
        "Cargamos todas las librerías de DataScience para ver las versiones que tenemos instaladas en el sistema y configuramos matplot lib para que muestre las imagenes inline, ie. en la misma celda que la genera."
      ]
    },
    {
      "cell_type": "code",
      "metadata": {
        "colab": {
          "base_uri": "https://localhost:8080/"
        },
        "id": "ZPjN0elbzMzr",
        "outputId": "232f4f03-b524-4a79-900b-32a6e06a9b1a"
      },
      "source": [
        "import sys\n",
        "print(\"Python version: {}\".format(sys.version))\n",
        "\n",
        "import pandas as pd\n",
        "print(\"pandas version: {}\".format(pd.__version__))\n",
        "\n",
        "%matplotlib inline\n",
        "import matplotlib\n",
        "import matplotlib.pyplot as plt\n",
        "print(\"matplotlib version: {}\".format(matplotlib.__version__))\n",
        "\n",
        "\n",
        "import seaborn as sns; sns.set()\n",
        "print(\"seaborn version: {}\".format(sns.__version__))\n",
        "\n",
        "import numpy as np\n",
        "print(\"NumPy version: {}\".format(np.__version__))\n",
        "\n",
        "import scipy as sp\n",
        "print(\"SciPy version: {}\".format(sp.__version__))\n",
        "\n",
        "import IPython\n",
        "print(\"IPython version: {}\".format(IPython.__version__))\n",
        "\n",
        "import sklearn\n",
        "print(\"scikit-learn version: {}\".format(sklearn.__version__))"
      ],
      "execution_count": 1,
      "outputs": [
        {
          "output_type": "stream",
          "name": "stdout",
          "text": [
            "Python version: 3.7.12 (default, Sep 10 2021, 00:21:48) \n",
            "[GCC 7.5.0]\n",
            "pandas version: 1.1.5\n",
            "matplotlib version: 3.2.2\n",
            "seaborn version: 0.11.2\n",
            "NumPy version: 1.19.5\n",
            "SciPy version: 1.4.1\n",
            "IPython version: 5.5.0\n",
            "scikit-learn version: 1.0.1\n"
          ]
        }
      ]
    },
    {
      "cell_type": "markdown",
      "metadata": {
        "id": "tQDgSll-zMzt"
      },
      "source": [
        "# 1. Regresion Linear Simple\n",
        "\n",
        "## 1.1 Generamos los datos\n",
        "\n",
        "Para generar los datos vamos a crear una funcion que nos devuelve unos arrays con datos de prueba.\n",
        "\n",
        "En este caso van a ser datos que siguen una tendencia lineal pero añadimos algo de ruido aleatorio que generamos con la función $np.random$. La función debe generar m datos de entrenamiento *x*,*y* en torno a una linea de pendiente *m* y corte *c*:"
      ]
    },
    {
      "cell_type": "code",
      "metadata": {
        "collapsed": true,
        "id": "QLJog_TfzMzu"
      },
      "source": [
        "def make_data(n,m,c,rnd_st=1):\n",
        "    #Esta funcion devuelve m muestras de datos que tienen una dependencia lineal y = mx+c\n",
        "    #añadir ruido a los datos (x,y) para que no tengan exactamente una relación lineal\n",
        "    rng = np.random.RandomState(rnd_st)\n",
        "    x = 10 * rng.rand(n)\n",
        "    y = m * x - c + rng.randn(n)\n",
        "    # generar una matriz x[[]] con el formato que recesita el estimador array([[]])\n",
        "    return x[:, np.newaxis],y"
      ],
      "execution_count": 2,
      "outputs": []
    },
    {
      "cell_type": "code",
      "metadata": {
        "collapsed": true,
        "id": "iWtpjIOJzMzu"
      },
      "source": [
        "rng = np.random.RandomState(1)"
      ],
      "execution_count": 3,
      "outputs": []
    },
    {
      "cell_type": "code",
      "metadata": {
        "colab": {
          "base_uri": "https://localhost:8080/"
        },
        "id": "G8TUw3XwzMzv",
        "outputId": "b2b0c378-5417-4a45-8460-e73ccfd1afba"
      },
      "source": [
        "a,b =make_data(2,20,5,0)\n",
        "a"
      ],
      "execution_count": 4,
      "outputs": [
        {
          "output_type": "execute_result",
          "data": {
            "text/plain": [
              "array([[5.48813504],\n",
              "       [7.15189366]])"
            ]
          },
          "metadata": {},
          "execution_count": 4
        }
      ]
    },
    {
      "cell_type": "markdown",
      "metadata": {
        "id": "ZGrOX62YzMzv"
      },
      "source": [
        "## 1.2 Generar el modelo\n",
        "\n",
        "Tomamos un ejemplo simple de unos datos de entrenamiento $X=[x_i]$ e $Y=[y_i]$ que ajustamos a una linea recta. \n",
        "\n",
        "El modelo va a aprender la recta $y = ax + b$   que mejor ajusta a estos datos. La recta que obtendremos viene descrita por los parámetros del modelo, que son  $a$ la *pendiente*, y  $b$  el *corte* con el eje $x$ ó *intercept*.\n",
        "\n",
        "\n",
        "Tomamos unos 50 datos de entrenamiento. Van a estar en torno a una linea de pendiente 2 y corte -5:"
      ]
    },
    {
      "cell_type": "code",
      "metadata": {
        "colab": {
          "base_uri": "https://localhost:8080/",
          "height": 268
        },
        "id": "uY6P5uRQzMzw",
        "outputId": "eb03c7de-8807-4229-ca08-00f06fa0b4e7"
      },
      "source": [
        "x,y= make_data(50,2,-5)\n",
        "plt.scatter(x, y);"
      ],
      "execution_count": 5,
      "outputs": [
        {
          "output_type": "display_data",
          "data": {
            "image/png": "[encoded data removed]",
            "text/plain": [
              "<Figure size 432x288 with 1 Axes>"
            ]
          },
          "metadata": {
            "needs_background": "light"
          }
        }
      ]
    },
    {
      "cell_type": "markdown",
      "metadata": {
        "id": "lb-1-zAtzMzx"
      },
      "source": [
        "En SKLearn exite un estimador de regresion lineal que aplica el método de ajuste por minimos cuadrados. Se llama <a href='http://scikit-learn.org/stable/modules/linear_model.html#ordinary-least-squares'>``LinearRegression``</a>.\n",
        "\n",
        "Tomaremos este modelo y lo ajustamos a los datos de entrenamiento utilizando el metodo $.fit$. <a href='http://scikit-learn.org/stable/modules/generated/sklearn.linear_model.LinearRegression.html#sklearn.linear_model.LinearRegression'><br>Ver parametros que puede admitir este modelo</a>"
      ]
    },
    {
      "cell_type": "code",
      "metadata": {
        "colab": {
          "base_uri": "https://localhost:8080/",
          "height": 268
        },
        "id": "pPR5gQ8NzMzx",
        "outputId": "ce8efe6b-9e2b-489f-db17-d712d061604d"
      },
      "source": [
        "from sklearn.linear_model import LinearRegression\n",
        "model = LinearRegression(fit_intercept=True)\n",
        "\n",
        "model.fit(x, y)\n",
        "\n",
        "xfit = np.linspace(0, 10, 1000)\n",
        "yfit = model.predict(xfit[:, np.newaxis])\n",
        "\n",
        "plt.scatter(x, y)\n",
        "plt.plot(xfit, yfit, c='r');"
      ],
      "execution_count": 6,
      "outputs": [
        {
          "output_type": "display_data",
          "data": {
            "image/png": "[encoded data removed]",
            "text/plain": [
              "<Figure size 432x288 with 1 Axes>"
            ]
          },
          "metadata": {
            "needs_background": "light"
          }
        }
      ]
    },
    {
      "cell_type": "markdown",
      "metadata": {
        "id": "kRBC51CxzMzy"
      },
      "source": [
        "Veamos los atributos del modelo generado.\n",
        "\n",
        "En SKLearn son propiedades del estimador y sus nombres terminan normalmente en barra baja.\n",
        "En este caso los parámetros son ``coef_`` e ``intercept_``:"
      ]
    },
    {
      "cell_type": "code",
      "metadata": {
        "colab": {
          "base_uri": "https://localhost:8080/"
        },
        "id": "ACxKTDsyzMzy",
        "outputId": "ce255fb0-8951-48a6-9220-35545e02f355"
      },
      "source": [
        "print(\"Pendiente del modelo:    \", model.coef_[0])\n",
        "print(\"Corte con el eje de las abcisas:\", model.intercept_)\n",
        "model.get_params(deep=True)"
      ],
      "execution_count": 7,
      "outputs": [
        {
          "output_type": "stream",
          "name": "stdout",
          "text": [
            "Pendiente del modelo:     2.0272088103606953\n",
            "Corte con el eje de las abcisas: 5.001422914446794\n"
          ]
        },
        {
          "output_type": "execute_result",
          "data": {
            "text/plain": [
              "{'copy_X': True,\n",
              " 'fit_intercept': True,\n",
              " 'n_jobs': None,\n",
              " 'normalize': 'deprecated',\n",
              " 'positive': False}"
            ]
          },
          "metadata": {},
          "execution_count": 7
        }
      ]
    },
    {
      "cell_type": "markdown",
      "metadata": {
        "id": "Bm_VFngozMzz"
      },
      "source": [
        "## 1.2 Evaluación del modelo\n",
        "\n",
        "Para medir la calidad del modelo de regresión lineal, Scikit-Learn tiene una serie de métricas que podemos aplicar<a href='http://scikit-learn.org/stable/modules/model_evaluation.html'><br>Ver mas info sobre la evaluacion de los modelos</a>\n",
        "\n",
        "<div class=\"alert alert-block alert-info\">El método de medida de calidad por defecto para la regresión lineal es el *coeficiente de determinación*, denominado $R^2$ y pronunciado $R$ cuadrado. Este coeficiente estima la cantidad de muestras futuras que el modelo probablemente predecirá de forma correcta. También significa la proporción de varianza de la variable $y$ que el modelo puede predecir a partir de las variables de entrada $x_i$.\n",
        "\n",
        "$R^2$ se define como:\n",
        "$$\n",
        "R^2= 1 - [((y_{true} - y_{pred})^2).sum()/ ((y_{true} - y_{true}.mean())^2).sum()]\n",
        "$$\n",
        "\n",
        "El mejor valor es 1.0 y un valor de 0.0 significa que el modelo es tan bueno como uno que predice un valor constante independientemente de las variables de entrada. El coeficiente puede tomar también valores negativos porque el modelo puede ser arbitrariamente malo.\n",
        "</div>\n",
        "Podemos medir el *coeficiente de determinación* para nuestro modelo con el método ```.score```, puesto que es el método de scoring por defecto:"
      ]
    },
    {
      "cell_type": "code",
      "metadata": {
        "colab": {
          "base_uri": "https://localhost:8080/"
        },
        "id": "kqStRAZezMzz",
        "outputId": "9ba89fe6-7174-4908-c2e9-7768e0fc6995"
      },
      "source": [
        "from sklearn.metrics import r2_score\n",
        "print(\"El coef R^2 es:\", model.score(x, y))\n",
        "print(\"El coef R^2 es:\", r2_score(y, model.predict(x)))"
      ],
      "execution_count": 8,
      "outputs": [
        {
          "output_type": "stream",
          "name": "stdout",
          "text": [
            "El coef R^2 es: 0.9790800609430612\n",
            "El coef R^2 es: 0.9790800609430612\n"
          ]
        }
      ]
    },
    {
      "cell_type": "markdown",
      "metadata": {
        "id": "rpW0BbeFzMzz"
      },
      "source": [
        "<div class=\"alert alert-block alert-warning\">\n",
        "\n",
        "Obtenemos que el modelo probablemente predecirá de forma correcta al 97,9% para futuras muestras.\n",
        "\n",
        "Esto puede parecer muy bueno, pero como probablemente ya habréis pensado que hemos evaluado el modelo sobre los mismos datos que hemos utilizado para entrenar el modelo. Los resultados son lógicamente muy buenos, otra cosa sería sí realmente dispusiesemos de más muestras que nos permitiesen verificar esta capacidad de prediccion.\n",
        "</div>\n",
        "\n",
        "Esto puede hacerse de manera automatica con las librerías de SKLearn, reservando algunas de las muestras para la fase de test.\n",
        "\n",
        "Los datos iniciales, los partimos en datos de entrenamiento y datos de test con la función __train_test_split__:\n",
        "\n",
        "<a href='http://scikit-learn.org/stable/modules/generated/sklearn.model_selection.train_test_split.html'>Ver detalle de esta función</a>"
      ]
    },
    {
      "cell_type": "code",
      "metadata": {
        "colab": {
          "base_uri": "https://localhost:8080/"
        },
        "id": "9FIhMeu8zMz0",
        "outputId": "ad1ced4b-86d3-4660-b793-ee618f372a1b"
      },
      "source": [
        "from sklearn.model_selection import train_test_split\n",
        "\n",
        "# split the data with 50% in each set\n",
        "x1, x2, y1, y2 = train_test_split(x, y, random_state=0, train_size=0.5)\n",
        "\n",
        "# fit the model on one set of data\n",
        "model.fit(x1, y1)\n",
        "\n",
        "# evaluate the model on the second set of data\n",
        "from sklearn.metrics import r2_score\n",
        "y2_model = model.predict(x2)\n",
        "r2_score(y2, y2_model)"
      ],
      "execution_count": 9,
      "outputs": [
        {
          "output_type": "execute_result",
          "data": {
            "text/plain": [
              "0.9734612809005607"
            ]
          },
          "metadata": {},
          "execution_count": 9
        }
      ]
    },
    {
      "cell_type": "markdown",
      "metadata": {
        "id": "WJlKwVuozMz0"
      },
      "source": [
        "Solo tenemos 50 muestras pero ya se ve que el score baja.\n",
        "\n",
        "### 1.2.1 Cross Validation\n",
        "\n",
        "Scikit-Learn nos permite ajustar el modelo utilizando como entrenamiento o test diferentes partes del dataset. Es como hacer la medida anterior pero varias veces, con varios experimentos y esto nos daría diferentes medidas de calidad en cada uno. Al final podemos pensar que la calidad del modelo sería la media de la calidad de los experimentos que hemos hecho.\n",
        "\n",
        "Este procedimiento de validación se denomina ``Cross Validation`` y puede calcularse automáticamente en Scikit-Learn con *cross_val_score*.\n",
        "\n",
        "Por ejemplo, hacemos una validacion con 5 experimentos y vemos que el scoring baja un poco más:"
      ]
    },
    {
      "cell_type": "code",
      "metadata": {
        "colab": {
          "base_uri": "https://localhost:8080/"
        },
        "id": "-3c2YuoRzMz0",
        "outputId": "92b706f7-ca91-4bd9-900a-a12a9d4e8493"
      },
      "source": [
        "from sklearn.model_selection import cross_val_score\n",
        "scores= cross_val_score(model, x, y, cv=5)\n",
        "print('scores -> ', scores)\n",
        "print('media de la calidad del modelo ->', scores.mean())"
      ],
      "execution_count": 10,
      "outputs": [
        {
          "output_type": "stream",
          "name": "stdout",
          "text": [
            "scores ->  [0.94862285 0.97341761 0.98887571 0.96664272 0.98217243]\n",
            "media de la calidad del modelo -> 0.9719462615694526\n"
          ]
        }
      ]
    },
    {
      "cell_type": "markdown",
      "metadata": {
        "id": "BBUH7QPwzMz1"
      },
      "source": [
        "Existen diferentes métodos de medir la precision del modelo.\n",
        "<a href='http://scikit-learn.org/stable/modules/model_evaluation.html'><br>Ver diferentes métricas disponibles para evaluar la precisión de un modelo</a>\n"
      ]
    },
    {
      "cell_type": "code",
      "metadata": {
        "colab": {
          "base_uri": "https://localhost:8080/"
        },
        "id": "sRWHZdTBzMz1",
        "outputId": "3e94c9e3-13a8-41dd-8fd1-d6c7e4491f88"
      },
      "source": [
        "scores= cross_val_score(model, x, y,  cv=5) #scoring='r2', is default\n",
        "scores"
      ],
      "execution_count": 11,
      "outputs": [
        {
          "output_type": "execute_result",
          "data": {
            "text/plain": [
              "array([0.94862285, 0.97341761, 0.98887571, 0.96664272, 0.98217243])"
            ]
          },
          "metadata": {},
          "execution_count": 11
        }
      ]
    },
    {
      "cell_type": "code",
      "metadata": {
        "colab": {
          "base_uri": "https://localhost:8080/"
        },
        "id": "P6OWGp9JzMz1",
        "outputId": "2450a6be-c1bc-4118-9ed3-0f03e5dd2cfe"
      },
      "source": [
        "scores= cross_val_score(model, x, y, scoring=\"neg_mean_absolute_error\", cv=5)\n",
        "scores"
      ],
      "execution_count": 12,
      "outputs": [
        {
          "output_type": "execute_result",
          "data": {
            "text/plain": [
              "array([-0.78335622, -0.66269289, -0.69516749, -0.95168029, -0.56590105])"
            ]
          },
          "metadata": {},
          "execution_count": 12
        }
      ]
    },
    {
      "cell_type": "markdown",
      "metadata": {
        "id": "2WuzB572zMz2"
      },
      "source": [
        "\n",
        "# 2. Regresion Linear Multivariable \n",
        "\n",
        "El modelo de ``LinearRegression`` puede servir para ajustar modelos multidimensionales:\n",
        "$$\n",
        "y = a_0 + a_1 x_1 + a_2 x_2 + \\cdots\n",
        "$$\n",
        "donde tenemos multiples variables $x$.\n",
        "Geometricamente esto significa que el modelo encuentra el hyperplano que mejor explica la variable $y$ a partir de las variables $x$ multidimensional.\n",
        "\n",
        "El hecho de ser multidimensional hace que el modelo sea más dificil de visualizar, pero nos indica la importancia de las diferentes dimensiones para explicar la variable $x$. En este caso las variables con coeficientes mayores son las que tienen más peso como variables explicativas de $y$.\n",
        "\n",
        "# Ejemplo: predecicción de precios\n",
        "\n",
        "## 2.1 Datos \n",
        "\n",
        "Utilizaremos un conjunto de datos de prueba de las librerías SKLearn para ilustrar una regresión multivariable. SKLearn tiene una serie de herramientas para hacer pruebas, como generadores de datos, conjuntos de datos de prueba, etc..\n",
        "\n",
        "<a href='http://scikit-learn.org/stable/datasets/index.html'>La lista de utilidades de datos de SKLearn</a>\n",
        "\n",
        "Vamos a utilizar el modelo de regresión para predecir el precio de casas en función de una serie de características de la misma y la zona donde está situada. \n",
        "\n",
        "Utilizamos el set de datos llamado boston, que recoge una muestra de precios de casas en los suburbios de Boston en 1978 y contiene 506 muestras con 14 variables, una de ellas, el precio.\n",
        "\n",
        "<a href='http://scikit-learn.org/stable/datasets/index.html#boston-house-prices-datasetl'>Detalle del conjunto de datos de precios de las casas</a>\n"
      ]
    },
    {
      "cell_type": "code",
      "metadata": {
        "collapsed": true,
        "colab": {
          "base_uri": "https://localhost:8080/"
        },
        "id": "VpXmNuYnzMz2",
        "outputId": "2bc45cad-9752-49b9-b577-307700d0ecf3"
      },
      "source": [
        "from sklearn.datasets import load_boston\n",
        "boston = load_boston()"
      ],
      "execution_count": 13,
      "outputs": [
        {
          "output_type": "stream",
          "name": "stderr",
          "text": [
            "/usr/local/lib/python3.7/dist-packages/sklearn/utils/deprecation.py:87: FutureWarning: Function load_boston is deprecated; `load_boston` is deprecated in 1.0 and will be removed in 1.2.\n",
            "\n",
            "    The Boston housing prices dataset has an ethical problem. You can refer to\n",
            "    the documentation of this function for further details.\n",
            "\n",
            "    The scikit-learn maintainers therefore strongly discourage the use of this\n",
            "    dataset unless the purpose of the code is to study and educate about\n",
            "    ethical issues in data science and machine learning.\n",
            "\n",
            "    In this special case, you can fetch the dataset from the original\n",
            "    source::\n",
            "\n",
            "        import pandas as pd\n",
            "        import numpy as np\n",
            "\n",
            "\n",
            "        data_url = \"http://lib.stat.cmu.edu/datasets/boston\"\n",
            "        raw_df = pd.read_csv(data_url, sep=\"\\s+\", skiprows=22, header=None)\n",
            "        data = np.hstack([raw_df.values[::2, :], raw_df.values[1::2, :2]])\n",
            "        target = raw_df.values[1::2, 2]\n",
            "\n",
            "    Alternative datasets include the California housing dataset (i.e.\n",
            "    :func:`~sklearn.datasets.fetch_california_housing`) and the Ames housing\n",
            "    dataset. You can load the datasets as follows::\n",
            "\n",
            "        from sklearn.datasets import fetch_california_housing\n",
            "        housing = fetch_california_housing()\n",
            "\n",
            "    for the California housing dataset and::\n",
            "\n",
            "        from sklearn.datasets import fetch_openml\n",
            "        housing = fetch_openml(name=\"house_prices\", as_frame=True)\n",
            "\n",
            "    for the Ames housing dataset.\n",
            "    \n",
            "  warnings.warn(msg, category=FutureWarning)\n"
          ]
        }
      ]
    },
    {
      "cell_type": "markdown",
      "metadata": {
        "id": "_8M0e0slzMz2"
      },
      "source": [
        "Veamos los datos que contiene el dataset:"
      ]
    },
    {
      "cell_type": "code",
      "metadata": {
        "colab": {
          "base_uri": "https://localhost:8080/",
          "height": 136
        },
        "id": "yvBOiR2hzMz2",
        "outputId": "e5d55c49-c53e-42ed-e384-f7e5307f5776"
      },
      "source": [
        "boston.DESCR"
      ],
      "execution_count": 14,
      "outputs": [
        {
          "output_type": "execute_result",
          "data": {
            "application/vnd.google.colaboratory.intrinsic+json": {
              "type": "string"
            },
            "text/plain": [
              "\".. _boston_dataset:\\n\\nBoston house prices dataset\\n---------------------------\\n\\n**Data Set Characteristics:**  \\n\\n    :Number of Instances: 506 \\n\\n    :Number of Attributes: 13 numeric/categorical predictive. Median Value (attribute 14) is usually the target.\\n\\n    :Attribute Information (in order):\\n        - CRIM     per capita crime rate by town\\n        - ZN       proportion of residential land zoned for lots over 25,000 sq.ft.\\n        - INDUS    proportion of non-retail business acres per town\\n        - CHAS     Charles River dummy variable (= 1 if tract bounds river; 0 otherwise)\\n        - NOX      nitric oxides concentration (parts per 10 million)\\n        - RM       average number of rooms per dwelling\\n        - AGE      proportion of owner-occupied units built prior to 1940\\n        - DIS      weighted distances to five Boston employment centres\\n        - RAD      index of accessibility to radial highways\\n        - TAX      full-value property-tax rate per $10,000\\n        - PTRATIO  pupil-teacher ratio by town\\n        - B        1000(Bk - 0.63)^2 where Bk is the proportion of black people by town\\n        - LSTAT    % lower status of the population\\n        - MEDV     Median value of owner-occupied homes in $1000's\\n\\n    :Missing Attribute Values: None\\n\\n    :Creator: Harrison, D. and Rubinfeld, D.L.\\n\\nThis is a copy of UCI ML housing dataset.\\nhttps://archive.ics.uci.edu/ml/machine-learning-databases/housing/\\n\\n\\nThis dataset was taken from the StatLib library which is maintained at Carnegie Mellon University.\\n\\nThe Boston house-price data of Harrison, D. and Rubinfeld, D.L. 'Hedonic\\nprices and the demand for clean air', J. Environ. Economics & Management,\\nvol.5, 81-102, 1978.   Used in Belsley, Kuh & Welsch, 'Regression diagnostics\\n...', Wiley, 1980.   N.B. Various transformations are used in the table on\\npages 244-261 of the latter.\\n\\nThe Boston house-price data has been used in many machine learning papers that address regression\\nproblems.   \\n     \\n.. topic:: References\\n\\n   - Belsley, Kuh & Welsch, 'Regression diagnostics: Identifying Influential Data and Sources of Collinearity', Wiley, 1980. 244-261.\\n   - Quinlan,R. (1993). Combining Instance-Based and Model-Based Learning. In Proceedings on the Tenth International Conference of Machine Learning, 236-243, University of Massachusetts, Amherst. Morgan Kaufmann.\\n\""
            ]
          },
          "metadata": {},
          "execution_count": 14
        }
      ]
    },
    {
      "cell_type": "code",
      "metadata": {
        "colab": {
          "base_uri": "https://localhost:8080/"
        },
        "id": "s1QyMdXbzMz3",
        "outputId": "1660d0ab-17d3-48aa-b65e-e54cbeb00026"
      },
      "source": [
        "print('Variables: ', boston.feature_names)\n",
        "\n",
        "print('Dimension de x los datos de las casas: ', boston.data.shape)\n",
        "print('Dimensión de y los precios: ', boston.target.shape)\n",
        "max_precio = np.max(boston.target)\n",
        "min_precio = np.min(boston.target)\n",
        "medio_precio = np.mean(boston.target)\n",
        "print('Valoresde los precios:  max %.1f  - medio %.1f - min %.1f' %(max_precio, medio_precio, min_precio))\n",
        "print('Primera muestra de datos:\\n ', boston.data[0])"
      ],
      "execution_count": 15,
      "outputs": [
        {
          "output_type": "stream",
          "name": "stdout",
          "text": [
            "Variables:  ['CRIM' 'ZN' 'INDUS' 'CHAS' 'NOX' 'RM' 'AGE' 'DIS' 'RAD' 'TAX' 'PTRATIO'\n",
            " 'B' 'LSTAT']\n",
            "Dimension de x los datos de las casas:  (506, 13)\n",
            "Dimensión de y los precios:  (506,)\n",
            "Valoresde los precios:  max 50.0  - medio 22.5 - min 5.0\n",
            "Primera muestra de datos:\n",
            "  [6.320e-03 1.800e+01 2.310e+00 0.000e+00 5.380e-01 6.575e+00 6.520e+01\n",
            " 4.090e+00 1.000e+00 2.960e+02 1.530e+01 3.969e+02 4.980e+00]\n"
          ]
        }
      ]
    },
    {
      "cell_type": "markdown",
      "metadata": {
        "id": "7zWnKcbjzMz3"
      },
      "source": [
        "Construimos el modelo de regression multivariable:"
      ]
    },
    {
      "cell_type": "code",
      "metadata": {
        "colab": {
          "base_uri": "https://localhost:8080/"
        },
        "id": "usgehjfCzMz3",
        "outputId": "2a3a7dc9-11c0-4722-b12a-90311ff8f747"
      },
      "source": [
        "from sklearn.model_selection import train_test_split\n",
        "X_train, X_test, y_train, y_test = train_test_split(boston.data, boston.target, test_size=0.25, random_state=33) \n",
        "\n",
        "from sklearn.linear_model import LinearRegression\n",
        "model = LinearRegression(fit_intercept=True)\n",
        "\n",
        "model.fit(X_train,y_train)\n",
        "\n",
        "model.predict(X_test)\n",
        "\n",
        "from sklearn.model_selection import cross_val_score\n",
        "scores= cross_val_score(model, X_test, y_test, cv=5)\n",
        "print('scores -> ', scores)\n",
        "print('media de la calidad del modelo ->', scores.mean())\n",
        "\n",
        "print('COEFICIENTES-------------------------------------')\n",
        "contador=0\n",
        "for e in boston.feature_names:\n",
        "    print(e+': %.2f' % model.coef_[contador])\n",
        "    contador+=1\n"
      ],
      "execution_count": 16,
      "outputs": [
        {
          "output_type": "stream",
          "name": "stdout",
          "text": [
            "scores ->  [0.58598907 0.69876884 0.14183798 0.72136156 0.51118911]\n",
            "media de la calidad del modelo -> 0.5318293137410708\n",
            "COEFICIENTES-------------------------------------\n",
            "CRIM: -0.13\n",
            "ZN: 0.05\n",
            "INDUS: 0.02\n",
            "CHAS: 3.16\n",
            "NOX: -14.77\n",
            "RM: 4.19\n",
            "AGE: -0.01\n",
            "DIS: -1.51\n",
            "RAD: 0.30\n",
            "TAX: -0.01\n",
            "PTRATIO: -0.87\n",
            "B: 0.01\n",
            "LSTAT: -0.54\n"
          ]
        }
      ]
    },
    {
      "cell_type": "markdown",
      "metadata": {
        "id": "rtTEbTddzMz3"
      },
      "source": [
        "En el ejemplo anterior los datos $y$ se construyen a partir de 13 variables $x$ y el modelo descubre unos coeficientes de ajuste. Siendo el más importante __NOX *(nitric oxides concentration)*__ que influye negativamente, de ahí el trabajo ‘Hedonic prices and the demand for clean air’ que inspiró este dataset.\n",
        "\n",
        "Ahora representamos en una gráfica los datos originales y las predicciones, para evaluar gráficamente el ajuste del modelo:"
      ]
    },
    {
      "cell_type": "code",
      "metadata": {
        "colab": {
          "base_uri": "https://localhost:8080/",
          "height": 305
        },
        "id": "hOIDE9kHzMz3",
        "outputId": "bb5add12-9ba7-4973-c2af-8ce0b2c547d2"
      },
      "source": [
        "y_pred = model.predict(X_train)\n",
        "plt.scatter(y_train, y_pred)\n",
        "plt.plot([0,max_precio],[0,max_precio],'g-')\n",
        "plt.xlim((0,max_precio))\n",
        "plt.ylim((0,max_precio))\n",
        "plt.xlabel(\"y_datos\")\n",
        "plt.ylabel(\"y_predict\")"
      ],
      "execution_count": 17,
      "outputs": [
        {
          "output_type": "execute_result",
          "data": {
            "text/plain": [
              "Text(0, 0.5, 'y_predict')"
            ]
          },
          "metadata": {},
          "execution_count": 17
        },
        {
          "output_type": "display_data",
          "data": {
            "image/png": "[encoded data removed]",
            "text/plain": [
              "<Figure size 432x288 with 1 Axes>"
            ]
          },
          "metadata": {
            "needs_background": "light"
          }
        }
      ]
    },
    {
      "cell_type": "markdown",
      "metadata": {
        "collapsed": true,
        "id": "0iuD6y1jzMz4"
      },
      "source": [
        "Así que el modelo de ``LinearRegression`` ajusta lineas e hyperplanos a nuestros datos.\n",
        "\n",
        "Y puede parecer que este modelo se limita a describir relaciones estrictamente lineales entre las variables, pero veamos que esto puede relajarse también y podemos describir relaciones no lineales con las variables.\n"
      ]
    },
    {
      "cell_type": "markdown",
      "metadata": {
        "collapsed": true,
        "id": "3jX4h0_tzMz4"
      },
      "source": [
        "# 3. Regresion con funciones básicas\n",
        "\n",
        "Un truco para adaptar la regresión lineal para describir relaciones no lineales puede ser utilizar más variables de entrada, creadas como *funciones básicas* de las variables que tenemos. \n",
        "\n",
        "Por ejemplo podemos además de las variables qe tenemos, contruir otras que sean variables polinómicas de éstas. Intuitivamente construimos más variables y esto hace que nuestro modelo tenga mayor potencia a la hora de explicar la variable $y$.\n",
        "\n",
        "La idea es que si tenemos un modelo multidimensional:\n",
        "$$\n",
        "y = a_0 + a_1 x_1 + a_2 x_2 + a_3 x_3 + \\cdots\n",
        "$$\n",
        "Podemos además añadir otras variables de la forma $x_n = f_n(x_1,x_2,x_3)$, donde $f_n()$ es una funcion que transforma las variables iniciales.\n",
        "\n",
        "Por ejemplo, si $f_n(x) = x^n$, nuestro modelo se convierte en un modelo de regresión polinómica:\n",
        "$$\n",
        "y = a_0 + a_1 x_1 + a_2 x_1^2 + a_3 x_1^3 + a_4 x_1 x_2 + a_5 x_2^2 \\cdots\n",
        "$$\n",
        "\n",
        "Seguimos teniendo un modelo lineal porque la dependencia con las variables de entrada sigue siendo lineal con un factor multiplicativo $a_i$ para cada variable, pero ahora el modelo puede explicar dependencias polinómicas de $y$ con respecto de las variables iniciales $x$."
      ]
    },
    {
      "cell_type": "markdown",
      "metadata": {
        "id": "HgX2_sSDzMz4"
      },
      "source": [
        "## 3.1 Funciones básicas de tipo Polinomial\n",
        "\n",
        "El hecho de crear nuevas variables polinómicas es muy habitual para mejorar los modelos y en SKLearn hay una función que las calcula automáticamente. Es el transformador ``PolynomialFeatures``:\n",
        "\n",
        "<a href='http://scikit-learn.org/stable/modules/generated/sklearn.preprocessing.PolynomialFeatures.html'>Detalle de uso del transformador Polinomial</a>"
      ]
    },
    {
      "cell_type": "code",
      "metadata": {
        "colab": {
          "base_uri": "https://localhost:8080/"
        },
        "id": "D9E0QzJ8zMz4",
        "outputId": "bfd68bd9-78ad-421c-90e2-7d0b4b810b21"
      },
      "source": [
        "from sklearn.preprocessing import PolynomialFeatures\n",
        "x = np.array([2, 3, 4])\n",
        "poly = PolynomialFeatures(3, include_bias=False)\n",
        "poly.fit_transform(x[:, None])"
      ],
      "execution_count": 18,
      "outputs": [
        {
          "output_type": "execute_result",
          "data": {
            "text/plain": [
              "array([[ 2.,  4.,  8.],\n",
              "       [ 3.,  9., 27.],\n",
              "       [ 4., 16., 64.]])"
            ]
          },
          "metadata": {},
          "execution_count": 18
        }
      ]
    },
    {
      "cell_type": "markdown",
      "metadata": {
        "collapsed": true,
        "id": "LvlQDZiUzMz4"
      },
      "source": [
        "El transformador ha convertido nuestra variable unidimensional con 3 muestras en una variable trimensional con tres muestras, tomando los valores del cuadrado y el cubo de la variable inicial."
      ]
    },
    {
      "cell_type": "markdown",
      "metadata": {
        "id": "DElwv4gLzMz5"
      },
      "source": [
        "Veamos por ejemplo como podemos ajustar la función seno con un modelo lineal y una variable, construyendo nuevas variables y tomando un polinomio de grado 7. \n",
        "\n",
        "NOTA: Puedes probar con diferentes grados del polinomio para ver la calidad del ajuste."
      ]
    },
    {
      "cell_type": "code",
      "metadata": {
        "colab": {
          "base_uri": "https://localhost:8080/",
          "height": 268
        },
        "id": "vxUnZ3buzMz5",
        "outputId": "3176b5a1-6417-4f2e-8c18-103fee39364b"
      },
      "source": [
        "from sklearn.linear_model import LinearRegression\n",
        "rng = np.random.RandomState(1)\n",
        "x = 10 * rng.rand(50)\n",
        "y = np.sin(x) + 0.1 * rng.randn(50)\n",
        "\n",
        "poly = PolynomialFeatures(20, include_bias=False)\n",
        "model = LinearRegression(fit_intercept=True)\n",
        "\n",
        "model.fit(poly.fit_transform(x[:, None]), y)\n",
        "\n",
        "xfit = np.linspace(0, 10, 1000)\n",
        "yfit = model.predict(poly.fit_transform(xfit[:, None]))\n",
        "\n",
        "plt.scatter(x, y)\n",
        "plt.plot(xfit, yfit, c='r');"
      ],
      "execution_count": 19,
      "outputs": [
        {
          "output_type": "display_data",
          "data": {
            "image/png": "[encoded data removed]",
            "text/plain": [
              "<Figure size 432x288 with 1 Axes>"
            ]
          },
          "metadata": {
            "needs_background": "light"
          }
        }
      ]
    },
    {
      "cell_type": "code",
      "metadata": {
        "colab": {
          "base_uri": "https://localhost:8080/"
        },
        "id": "AMlD3lvszMz5",
        "outputId": "175341b6-30d2-4002-9129-895a5cbd2d99"
      },
      "source": [
        "print('La calidad del modelo sobre todo el set de datos: ', model.score(poly.fit_transform(x[:, None]), y))\n",
        "from sklearn.model_selection import cross_val_score\n",
        "\n",
        "scores = cross_val_score(model,poly.fit_transform(x[:, None]), y,scoring='r2',cv=5)\n",
        "print('La calidad del modelo con 5 validaciones: ',scores.mean())"
      ],
      "execution_count": 20,
      "outputs": [
        {
          "output_type": "stream",
          "name": "stdout",
          "text": [
            "La calidad del modelo sobre todo el set de datos:  0.885466045866823\n",
            "La calidad del modelo con 5 validaciones:  -0.5266603688279486\n"
          ]
        }
      ]
    },
    {
      "cell_type": "markdown",
      "metadata": {
        "id": "CpbulvMGzMz5"
      },
      "source": [
        "Nuestro modelo lineal puede usarse con funciones polinómicas de orden 7 y nos permite ajustar modelos no lineales!!"
      ]
    },
    {
      "cell_type": "markdown",
      "metadata": {
        "id": "THSHqdDrzMz5"
      },
      "source": [
        "Para crear variables polinomicas o refactorizar las variables de entrada y correr un modelo se utilizan en Scikit-Learn los ```pipelines```. Estos permiten encadenar la construccion de las variables y los modelos en un nuevo estimador o modelo.\n",
        "\n",
        "<a href='http://scikit-learn.org/stable/modules/generated/sklearn.pipeline.Pipeline.html'>Detalle de uso del pipeline</a>\n",
        "\n",
        "Veamos como el ejemplo anterior puede hacerse con uno de estos ```pipelines```:"
      ]
    },
    {
      "cell_type": "code",
      "metadata": {
        "colab": {
          "base_uri": "https://localhost:8080/",
          "height": 268
        },
        "id": "k3v8QL4EzMz5",
        "outputId": "1f671d90-9448-4a89-9998-5f4c7cbf59a4"
      },
      "source": [
        "from sklearn.pipeline import make_pipeline\n",
        "poly_model = make_pipeline(PolynomialFeatures(7),\n",
        "                           LinearRegression())\n",
        "\n",
        "#los valores de x, y xfit son los mismos que en el caso anterior y no los redefinimos\n",
        "poly_model.fit(x[:, np.newaxis], y)\n",
        "yfit = poly_model.predict(xfit[:, np.newaxis])\n",
        "\n",
        "plt.scatter(x, y)\n",
        "plt.plot(xfit, yfit, c='r');"
      ],
      "execution_count": 21,
      "outputs": [
        {
          "output_type": "display_data",
          "data": {
            "image/png": "[encoded data removed]",
            "text/plain": [
              "<Figure size 432x288 with 1 Axes>"
            ]
          },
          "metadata": {
            "needs_background": "light"
          }
        }
      ]
    },
    {
      "cell_type": "markdown",
      "metadata": {
        "id": "uGrauEIIzMz6"
      },
      "source": [
        "## 4. DISEÑO DE UN MODELO DE REGRESION LINEAL\n",
        "\n",
        "\n",
        "Hemos visto que para un problema determinado, tenemos muchas posibilidades de generación de modelos de regresión lineal y podemos calcular su *soring*, ¿pero como podemos decidir cuál es el mejor modelo en cada caso?\n",
        "\n",
        "Vamos a ver como diseñar el algoritmo para obtener un resultado optimo.\n",
        "\n",
        "\n",
        "<div class=\"alert alert-block alert-info\">A la hora de diseñar un modelo de regresión lineal:\n",
        "<br>\n",
        "- las variables de entrada $x_i$ serán todas aquellas que estén correlacionadas con la variable que deseamos modelar $y$. \n",
        "<br>\n",
        "- Después hemos visto que podemos construir nuevas variables a partir de funciones básicas de las variables originales y añadirlas para construir modelos más potentes y complejos.\n",
        "<br><br>\n",
        "De manera que la cuestión es: __¿qué variables utilizar y cuántas?__.</div>\n",
        "\n",
        "\n",
        "Vemos que dado un dataset para el entrenamiento podemos aprender curvas de regresión que se ajusten tanto como queramos a nuestro datos. Pero nuestros datos muestran una tendencia y tienen ruido, entonces cuanto debemos ajustarlos?\n",
        "\n",
        "- Si el modelo no es lo suficientemente complicado, estaremos describiendo una tendencia que no explica toda la variación de los datos, tenemos PROBLEMAS DE SUBAJUSTE (__UNDERFITING__). Cuando tengamos que hacer nuevas previsiones van a parecer generadas como una constante, como si siempre el modelo diera el mismo resultado. El modelo está SESGADO (__BIAS__)\n",
        "\n",
        "\n",
        "- Si el modelo es demasiado complicado, quizá estamos describiendo el ruido y no la tendencia que buscamos, tenemos PROBLEMAS DE SOBREAJUSTE (__OVERFITTING__). Cuando tengamos que hacer previsiones, con un modelo con tanto ruido, van a parecer que están generadas de manera aleatoria. El modelo tiene demasiada VARIANZA (__VARIANCE__)\n",
        "\n",
        "\n"
      ]
    },
    {
      "cell_type": "markdown",
      "metadata": {
        "id": "daPaw8PSzMz6"
      },
      "source": [
        "Con el siguiente ejemplo podemos ver como con un modelo de regresión lineal y variables polinómicas, podemos representar una tendencia de tipo funcion coseno:\n",
        "\n",
        "- Si tomamos un modelo lineal sin variables polinómicas, el modelo es una linea y no explica la tendencia cosenoidal real de los datos. El modelo es muy simple y tenemos un ajuste muy pobre.\n",
        "\n",
        "\n",
        "- Si tomamos un modelo con 4 variables polinómicas, el modelo explica la tendencia con un buen ajuste\n",
        "\n",
        "\n",
        "- Si tomamos un modelo con 15 variables polinómicas, el modelo es demasiado complicado y tenemos un sobre ajuste de los datos.\n",
        "\n",
        "\n",
        "Medimos el Error Cuadrático Medio de los residuos del modelo de regresión lineal y vemos que disminuye si el modelo se hace demasiado complejo. Cuanto más complejo se hace el modelo, éste describe cada vez mejor los datos del set de entrenamiento.\n",
        "\n",
        "Medimos el coeficiente de determinación para el set de entrenamiento y para nuevas muestras en el set de validación o test y observamos que:\n",
        "\n",
        "- Si el modelo es muy simple, $R^2$ tiene un valor similar en ambos casos. Un modelo pobremente ajustado siempre predice lo mismo, metas los datos que metas.\n",
        "\n",
        "- Si el modelo es demasiado complicado, $R^2$ será muy bueno con el set de entrenamiento pero muy malo con el set de validación.\n",
        "\n",
        "Esto nos sirve para buscar y poder diseñar el modelo que mejor generalice la tendencia de los datos."
      ]
    },
    {
      "cell_type": "code",
      "metadata": {
        "colab": {
          "base_uri": "https://localhost:8080/",
          "height": 539
        },
        "id": "Bjw4hpgnzMz6",
        "outputId": "56e06d3f-0599-4f8e-e512-e7fbf01c3bdc"
      },
      "source": [
        "from sklearn.pipeline import Pipeline\n",
        "from sklearn.preprocessing import PolynomialFeatures\n",
        "from sklearn.linear_model import LinearRegression\n",
        "from sklearn.model_selection import cross_val_score\n",
        "from sklearn.metrics import r2_score\n",
        "\n",
        "def makeCosData(n,rnd_st):\n",
        "    np.random.seed(rnd_st)\n",
        "    '''función makeCosData(n,rnd_st) que genera\n",
        "    un conjunto de datos con dependencia coseno(3PI/2) con o sin ruido'''\n",
        "    x_data = np.random.rand(n)\n",
        "    y_cos_conruido = np.cos(1.5 * np.pi * x_data)+ np.random.randn(n) * 0.1\n",
        "    \n",
        "    return x_data, y_cos_conruido\n",
        "    \n",
        "\n",
        "##DATASETS###############################\n",
        "n_samples = 30\n",
        "\n",
        "#training set\n",
        "x, y_samp = makeCosData(n_samples,0)\n",
        "\n",
        "#test set\n",
        "x_test, y_test = makeCosData(n_samples,1)\n",
        "\n",
        "\n",
        "##THE LINEAL REGRESSION MODEL WITH POLYNOMIAL FEATURES\n",
        "#Constuir un estimador que encadena PolynomialFeatures y LinearRegression en un pipeline \n",
        "polynomial_features = PolynomialFeatures(20,include_bias=False)\n",
        "\n",
        "linear_regression = LinearRegression()\n",
        "pipeline = Pipeline([(\"polynomial_features\", polynomial_features),\n",
        "                     (\"linear_regression\", linear_regression)])\n",
        "\n",
        "#ajusta el modelo NOTA: ponemos en formato matriz x[[]]\n",
        "pipeline.fit(x[:, np.newaxis], y_samp)\n",
        "\n",
        "\n",
        "##VALIDATION\n",
        "# Measure MSE -> evaluate the models using crossvalidation\n",
        "scores = cross_val_score(pipeline, x[:, np.newaxis], y_samp, scoring=\"neg_mean_absolute_error\", cv=5)\n",
        "\n",
        "# Measure r2_score\n",
        "r2_training = r2_score(y_samp,pipeline.predict(x[:, np.newaxis]))\n",
        "r2_test = r2_score(y_test, pipeline.predict(x_test[:, np.newaxis]))\n",
        "\n",
        "#the model predictions and theoretical values\n",
        "xfit = np.linspace(0, 1, 100)\n",
        "yfit = pipeline.predict(xfit[:, None])\n",
        "yteor = np.cos(1.5 * np.pi * xfit)\n",
        "\n",
        "\n",
        "#the plot\n",
        "plt.figure(figsize=(8, 8))\n",
        "plt.plot(xfit, yteor , label=\"True function\", c='r', linestyle=':')\n",
        "plt.scatter(x, y_samp, c='b', label='Samples')\n",
        "plt.plot(xfit, yfit, label='Model' );\n",
        "plt.title(\"$MSE$ = {:.2e} - $R^2 train$= {:.2} - $R^2 test$= {:.2}\".format(scores.mean(),r2_training,r2_test))\n",
        "plt.legend(loc=\"best\")\n",
        "plt.xlim((0, 1))\n",
        "plt.ylim((-2, 2))\n",
        "plt.xlabel(\"x\")\n",
        "plt.ylabel(\"y\")"
      ],
      "execution_count": 22,
      "outputs": [
        {
          "output_type": "execute_result",
          "data": {
            "text/plain": [
              "Text(0, 0.5, 'y')"
            ]
          },
          "metadata": {},
          "execution_count": 22
        },
        {
          "output_type": "display_data",
          "data": {
            "image/png": "[encoded data removed]",
            "text/plain": [
              "<Figure size 576x576 with 1 Axes>"
            ]
          },
          "metadata": {
            "needs_background": "light"
          }
        }
      ]
    },
    {
      "cell_type": "markdown",
      "metadata": {
        "id": "u15URrCIzMz7"
      },
      "source": [
        "## 4.1 CURVAS DE VALIDACION\n",
        "\n",
        "En Scikit-Learn tenemos una clase ``validation_curve`` que nos permite calcular automáticamente el scoring de un modelo sobre los datos de training y validación de manera iterativa para diferentes grados de complegidad del modelo.\n",
        "\n",
        "Al hacer este cálculo, podemos obtener una serie de datos y representarlos en curvas para ver como evolucionan. Estas curvas nos mostrarán el grado de complejidad adecuado para nuestro modelo.\n",
        "\n",
        "El modelo será optimo cuando el scoring del validación sea lo más alto posible, que es el momento cuando el modelo generaliza bien.\n",
        "\n",
        "<a url=\"http://scikit-learn.org/stable/modules/generated/sklearn.model_selection.validation_curve.html\">Ver más información sobre *validation_curve*</a>\n",
        "\n",
        "\n",
        "Veamos como podemos generar estas curvas de scores de los datos de entrenamiento para diferentes valores del grado de polinomio del modelo:\n"
      ]
    },
    {
      "cell_type": "code",
      "metadata": {
        "colab": {
          "base_uri": "https://localhost:8080/",
          "height": 228
        },
        "id": "hF9q5dSazMz7",
        "outputId": "2c14998c-300d-4fe9-ee59-98897da1cf55"
      },
      "source": [
        "from sklearn.model_selection import validation_curve\n",
        "from sklearn.preprocessing import PolynomialFeatures\n",
        "from sklearn.linear_model import LinearRegression\n",
        "from sklearn.pipeline import make_pipeline\n",
        "\n",
        "##DATASETS###############################\n",
        "n_samples = 100\n",
        "\n",
        "#training set\n",
        "x, y_samp = makeCosData(n_samples,0)\n",
        "\n",
        "#test set\n",
        "x_test, y_test = makeCosData(n_samples,1)\n",
        "\n",
        "\n",
        "##THE LINEAL REGRESSION MODEL WITH POLYNOMIAL FEATURES\n",
        "#build the pipeline\n",
        "def PolynomialRegression(degree=2, **kwargs):\n",
        "    return make_pipeline(PolynomialFeatures(degree),\n",
        "                         LinearRegression(**kwargs))\n",
        "\n",
        "## GENERATE VALIDATION CURVES\n",
        "degree = np.arange(0, 21)\n",
        "train_scores, test_scores = validation_curve(PolynomialRegression(), \n",
        "                                             x[:, np.newaxis], \n",
        "                                             y_samp,\n",
        "                                             'polynomialfeatures__degree', degree, cv=5)\n",
        "\n",
        "train_scores_mean = np.mean(train_scores, axis=1)\n",
        "train_scores_std = np.std(train_scores, axis=1)\n",
        "test_scores_mean = np.mean(test_scores, axis=1)\n",
        "test_scores_std = np.std(test_scores, axis=1)\n",
        "\n",
        "\n",
        "## REPRESENTACIÓN GRÁFICA\n",
        "plt.figure(figsize=(12, 8))\n",
        "plt.title(\"CURVA DE VALIDACION\")\n",
        "\n",
        "plt.fill_between(degree, train_scores_mean - train_scores_std, train_scores_mean + train_scores_std, alpha=0.1, color=\"r\")\n",
        "plt.fill_between(degree, test_scores_mean - test_scores_std, test_scores_mean + test_scores_std, alpha=0.1, color=\"g\")\n",
        "plt.plot(degree, train_scores_mean, 'o-', color=\"r\", label=\"Training score\")\n",
        "plt.plot(degree, test_scores_mean, 'o-', color=\"g\", label=\"Cross-validation score\")\n",
        "\n",
        "plt.legend(loc='best')\n",
        "plt.ylim(0.9, 1) #zoom entre 0.9 y 1\n",
        "plt.xlabel('degree')\n",
        "plt.ylabel('score');"
      ],
      "execution_count": 23,
      "outputs": [
        {
          "output_type": "error",
          "ename": "TypeError",
          "evalue": "ignored",
          "traceback": [
            "\u001b[0;31m---------------------------------------------------------------------------\u001b[0m",
            "\u001b[0;31mTypeError\u001b[0m                                 Traceback (most recent call last)",
            "\u001b[0;32m<ipython-input-23-3ecf93b2e034>\u001b[0m in \u001b[0;36m<module>\u001b[0;34m()\u001b[0m\n\u001b[1;32m     25\u001b[0m                                              \u001b[0mx\u001b[0m\u001b[0;34m[\u001b[0m\u001b[0;34m:\u001b[0m\u001b[0;34m,\u001b[0m \u001b[0mnp\u001b[0m\u001b[0;34m.\u001b[0m\u001b[0mnewaxis\u001b[0m\u001b[0;34m]\u001b[0m\u001b[0;34m,\u001b[0m\u001b[0;34m\u001b[0m\u001b[0;34m\u001b[0m\u001b[0m\n\u001b[1;32m     26\u001b[0m                                              \u001b[0my_samp\u001b[0m\u001b[0;34m,\u001b[0m\u001b[0;34m\u001b[0m\u001b[0;34m\u001b[0m\u001b[0m\n\u001b[0;32m---> 27\u001b[0;31m                                              'polynomialfeatures__degree', degree, cv=5)\n\u001b[0m\u001b[1;32m     28\u001b[0m \u001b[0;34m\u001b[0m\u001b[0m\n\u001b[1;32m     29\u001b[0m \u001b[0mtrain_scores_mean\u001b[0m \u001b[0;34m=\u001b[0m \u001b[0mnp\u001b[0m\u001b[0;34m.\u001b[0m\u001b[0mmean\u001b[0m\u001b[0;34m(\u001b[0m\u001b[0mtrain_scores\u001b[0m\u001b[0;34m,\u001b[0m \u001b[0maxis\u001b[0m\u001b[0;34m=\u001b[0m\u001b[0;36m1\u001b[0m\u001b[0;34m)\u001b[0m\u001b[0;34m\u001b[0m\u001b[0;34m\u001b[0m\u001b[0m\n",
            "\u001b[0;31mTypeError\u001b[0m: validation_curve() takes 3 positional arguments but 5 positional arguments (and 1 keyword-only argument) were given"
          ]
        }
      ]
    },
    {
      "cell_type": "markdown",
      "metadata": {
        "id": "YW-e97u7zMz7"
      },
      "source": [
        "#### Esto demuestra cuantitativamente el nivel de ajute del modelo a medida que vamos subiendo el grado del polinomio de ajuste y lo vamos haciendo más complejo:\n",
        "- Para el modelo lineal o grados polinomicos bajos el score sobre los datos de entrenamiento y test o validación es similar en ambos casos u bajo.\n",
        "\n",
        "- Cuando el modelo se hace más complejo y subimos el grado del polinomio, vamos mejorando el score de entrenamiento y de validación, hasta que llega un momento que el modelo queda sobre ajustado y el score de validación empieza a bajar monótonamente.\n",
        "\n",
        "De este comportamiento, vemos que el ajuste óptimo se da para un __MODELO POLINOMICO DE GRADO 4__ y representamos el modelo con los datos de entrada:"
      ]
    },
    {
      "cell_type": "code",
      "metadata": {
        "id": "avuXzlTfzMz7"
      },
      "source": [
        "plt.figure(figsize=(8, 8))\n",
        "\n",
        "\n",
        "#the model predictions and theoretical values\n",
        "xfit = np.linspace(0, 1, 100)\n",
        "yfit = PolynomialRegression(5).fit(x[:, np.newaxis], y_samp).predict(xfit[:, np.newaxis])\n",
        "yteor = np.cos(1.5 * np.pi * xfit)\n",
        "\n",
        "plt.scatter(x, y_samp, label='muestras')\n",
        "plt.plot(xfit, yteor, c='r', linestyle=':', label='funcion teorica')\n",
        "plt.plot(xfit, yfit, label='modelo')\n",
        "plt.legend(loc=\"best\")\n",
        "plt.axis();"
      ],
      "execution_count": null,
      "outputs": []
    },
    {
      "cell_type": "markdown",
      "metadata": {
        "id": "OxF6IkfCzMz7"
      },
      "source": [
        "## 4.2 CURVAS DE APRENDIZAJE\n",
        "\n",
        "Otra medida necesaria en los modelos de regresión para poder diseñarlos correctamente son las curvas de aprendizaje. Este método nos ayuda también a entender si el numero de muestras de entrenamiento es el correcto y si la complejidad del modelo que hemos seleccionado es la correcta.\n",
        "\n",
        "Las curvas de aprendizaje representan el scoring del modelo en función del número de datos en el set de entrenamiento y es de esperar que en general:\n",
        "\n",
        "\n",
        "- si tenemos pocos datos de entrenamiento el score de entrenamiento será muy bueno (cualquier modelo ajusta unos pocos datos muy bein) y el scoring de test será malo.\n",
        "\n",
        "- cuantos más datos de entrenamiento, el score de entrenamiento ira empeorando un poco hasta que llegue un momento que ya queda estable, porque añadir más datos no varía el error medio del ajuste. Pensemos por ejemplo, que si los datos siguen una tendencia simplemente lineal, el numero de datos que necesitaríamos para entrenar el modelo sería solamente 2 datos, los que describen la lineal. \n",
        "\n",
        "- cuantos más datos de entrenamiento, el score de validación irá mejorando hasta quedar estable. Es posible que este scoring converja con el de entrenamiento y ambos sean bajos, entonces tenemos un problema de BIAS (ajuste pobre). En el caso de que el el score de entrenamiento sea mayor podemos tener un problema de (VARIANCE) sobreajuste. En este caso amentar el numero de muestras de entrenamiento puede ayudar o reducir la complejidad del modelo.\n",
        "\n",
        "En Scikit-Learn tenemos una clase ``learning_curve`` que nos permite calcular automáticamente el scoring de un modelo sobre los datos de training y validación de manera iterativa para diferentes tamaños de muestras para entrenarlo.\n",
        "\n",
        "Al hacer este cálculo, podemos obtener una serie de datos y representarlos en curvas para ver como evolucionan. Estas curvas nos mostrarán si el numero de muestras de entrenamiento es suficiente y si el grado de complejidad que estamos usando es adecuado para nuestro modelo.\n",
        "\n",
        "El modelo será optimo cuando el scoring del validación sea lo más alto posible, que es el momento cuando el modelo generaliza bien.\n",
        "\n",
        "<a url=\"http://scikit-learn.org/stable/modules/generated/sklearn.model_selection.learning_curve.html\">Ver más información sobre *learning_curve*</a>\n",
        "\n",
        "Veamos como podemos generar estas curvas de scores de los datos de entrenamiento para diferentes valores del set de datos. Variaremos la complejidad del modelo para observar como afecta esto a las curvas de aprendizaje:\n"
      ]
    },
    {
      "cell_type": "code",
      "metadata": {
        "id": "w7RvOX3HzMz8"
      },
      "source": [
        "from sklearn.model_selection import learning_curve\n",
        "from sklearn.preprocessing import PolynomialFeatures\n",
        "from sklearn.linear_model import LinearRegression\n",
        "from sklearn.pipeline import make_pipeline\n",
        "\n",
        "#sizes\n",
        "n_samples_train = 100\n",
        "n_samples_test = 100\n",
        "\n",
        "##DATASETS###############################\n",
        "#training set\n",
        "x, y_samp = makeCosData(n_samples_train,0)\n",
        "\n",
        "#test set\n",
        "x_test, y_test = makeCosData(n_samples_test,1)\n",
        "\n",
        "\n",
        "##THE LINEAL REGRESSION MODEL WITH POLYNOMIAL FEATURES\n",
        "#build the pipeline\n",
        "def PolynomialRegression(degree, **kwargs):\n",
        "    return make_pipeline(PolynomialFeatures(degree),\n",
        "                         LinearRegression(**kwargs))\n",
        "\n",
        "model= PolynomialRegression(5).fit(x[:, np.newaxis], y_samp)\n",
        "\n",
        "\n",
        "# Measure r2_score\n",
        "r2_training = r2_score(y_samp,model.predict(x[:, np.newaxis]))\n",
        "r2_test = r2_score(y_test, model.predict(x_test[:, np.newaxis]))\n",
        "\n",
        "\n",
        "#the model predictions and theoretical values\n",
        "xfit = np.linspace(0, 1, 100)\n",
        "yfit = pipeline.predict(xfit[:, None])\n",
        "yteor = np.cos(1.5 * np.pi * xfit)\n",
        "\n",
        "\n",
        "## GENERATE LEARNING CURVES\n",
        "plt.figure(figsize=(8, 8))\n",
        "plt.title(\"$N$= {} ->  $R^2 train$= {:.2} - $R^2 test$= {:.2}\".format(n_samples_train, r2_training,r2_test))\n",
        "plt.scatter(x, y_samp, label='training_set')\n",
        "\n",
        "#y_test_predict = model.predict(x_test[:, np.newaxis])\n",
        "plt.plot(xfit, yfit, c='b', linestyle=':', label='modelo')\n",
        "plt.scatter(x_test, y_test, c='y', linestyle=':',label='test_set')\n",
        "plt.legend(loc='best')\n",
        "plt.axis();"
      ],
      "execution_count": null,
      "outputs": []
    },
    {
      "cell_type": "code",
      "metadata": {
        "id": "1vAAbcSTzMz8"
      },
      "source": [
        "np.linspace(0.1, 1.0, 25)"
      ],
      "execution_count": null,
      "outputs": []
    },
    {
      "cell_type": "markdown",
      "metadata": {
        "id": "VaOSz4FszMz8"
      },
      "source": [
        "Generamos las curvas de aprendizaje:"
      ]
    },
    {
      "cell_type": "code",
      "metadata": {
        "id": "LlXS5ILQzMz8"
      },
      "source": [
        "##DATASETS###############################\n",
        "#Data set (training + test)\n",
        "n_samples = 500\n",
        "x, y_samp = makeCosData(n_samples,0)\n",
        "\n",
        "\n",
        "##GENERACION DE CURVAS DE APRENDIZAJE\n",
        "cv=5\n",
        "n_jobs=1\n",
        "train_sizes= np.linspace(0.1, 1.0, 25)\n",
        "\n",
        "\n",
        "train_sizes, train_scores, test_scores = learning_curve(\n",
        "    PolynomialRegression(5), x[:,None], y_samp, cv=cv, n_jobs=n_jobs, \n",
        "    train_sizes=train_sizes,scoring='r2')\n",
        "\n",
        "train_scores_mean = np.mean(train_scores, axis=1)\n",
        "train_scores_std = np.std(train_scores, axis=1)\n",
        "test_scores_mean = np.mean(test_scores, axis=1)\n",
        "test_scores_std = np.std(test_scores, axis=1)\n",
        "\n",
        "\n",
        "## REPRESENTACIÓN GRÁFICA\n",
        "plt.figure(figsize=(12, 8))\n",
        "plt.title('LEARNING CURVE')\n",
        "plt.xlabel(\"Training examples\")\n",
        "plt.ylabel(\"Score\")\n",
        "#plt.ylim(-1, 1)\n",
        "\n",
        "plt.fill_between(train_sizes, train_scores_mean - train_scores_std,\n",
        "                 train_scores_mean + train_scores_std, alpha=0.1,\n",
        "                 color=\"r\")\n",
        "plt.fill_between(train_sizes, test_scores_mean - test_scores_std,\n",
        "                 test_scores_mean + test_scores_std, alpha=0.1, color=\"g\")\n",
        "plt.plot(train_sizes, train_scores_mean, 'o-', color=\"r\",\n",
        "         label=\"Training score\")\n",
        "plt.plot(train_sizes, test_scores_mean, 'o-', color=\"g\",\n",
        "         label=\"Cross-validation score\")\n",
        "\n",
        "plt.legend(loc=\"best\")"
      ],
      "execution_count": null,
      "outputs": []
    },
    {
      "cell_type": "markdown",
      "metadata": {
        "id": "bvLscDzIzMz8"
      },
      "source": [
        "Como puede observarse la curva de aprendizaje nos muestra como se comporta nuestro modelo a medida que lo entrenamos con más datos:\n",
        "\n",
        "- Cuando las curvas de entrenamiento y validación convergen significa que añadir más datos al modelo no mejorará el score.\n",
        "\n",
        "- Si están bastante separadas, significa que el modelo está sobre ajustado por lo que añadir más muestras de entrenamiento puede mejorar el score de validacion.\n",
        "\n",
        "En nuestro caso, la complejidad optima que muestra la curva de validación es un __MODELO POLINOMICO DE GRADO 4 ó 5__ y un numero de muestras mayor de 250 lo ajusta bien.\n"
      ]
    },
    {
      "cell_type": "markdown",
      "metadata": {
        "id": "sBibLg-_zMz9"
      },
      "source": [
        "## 5. Regularizacion\n",
        "\n",
        "Un mecanismo para aumentar la complejidad del modelo sin sobreajustarlo es añadir mas variables pero limitar los pesos de los coeficientes $\\theta_i$ a que seán bajos, de manera que se limita la variación de la curva que se aprende, es suave, pero tiene en cuenta muchas variables.\n",
        "\n",
        "Este mecanismo se denomina *Regularización* y consiste en incluir en la función de coste las magnitudes de los parámetros. El algoritmo intentará minimizar la función de coste y por lo tanto también las magnitudes de los parámetros, haciendo que la curva se suavice y evitando el sobreajuste.\n",
        "\n",
        "Existen muchos tipos de regularización y una de las más populares es la conocida como *ridge regression* or *regularizacion* $L_2$ , a veces también llamada *Tikhonov regularization*.\n",
        "\n",
        "En la regresión con regularización *ridge*, la función de coste que optimizamos se penaliza la suma de los cuadrados de los coeficientes:\n",
        "$$\n",
        "P = \\alpha\\sum_{n=1}^N \\theta_n^2\n",
        "$$\n",
        "donde $\\alpha$ es un parámetro libre de diseño del algoritmo y controla fuerza de la penalización que ejerce la regularización. \n",
        "\n",
        "Otro mecanismo de regularización muy utilizado es la regularización *Lasso*, donde la función de penalización es la suma de los valores absolutos de los parámetros.\n",
        "\n",
        "Este tipo de modelo de regresión lineal penalizado se construye en Scikit-Learn con toda una familia de estimadores (``Ridge``, ``Lasso``, etc):\n",
        "\n",
        "<a url=\"http://scikit-learn.org/stable/modules/linear_model.html#ridge-regression\">Ver detalle de la regularizacion *ridge* y otras</a>\n",
        "\n"
      ]
    },
    {
      "cell_type": "code",
      "metadata": {
        "id": "qJaLOY9MzMz9"
      },
      "source": [
        "from sklearn import linear_model\n",
        "from sklearn.pipeline import make_pipeline\n",
        "from sklearn.preprocessing import PolynomialFeatures\n",
        "\n",
        "##DATASETS###############################\n",
        "#training set\n",
        "n_samples = 100\n",
        "x, y_samp = makeCosData(n_samples,0)\n",
        "\n",
        "##THE RIDGE or LASSO REGRESSION MODELs WITH POLYNOMIAL FEATURES##############\n",
        "reg = linear_model.Ridge(alpha = .1)\n",
        "#reglasso = linear_model.Lasso(alpha = 0.005) #NOTA si se usa lasso hacer el alpha más pequeño que en el caso ridge (por ejemplo 0,1*alpha en ridge)\n",
        "model = make_pipeline(PolynomialFeatures(15), reg) #reglasso)\n",
        "model.fit(x[:, np.newaxis], y_samp) \n",
        "\n",
        "#the model predictions\n",
        "x_fit = np.linspace(0, 1, n_samples)\n",
        "y_fit = model.predict(x_fit[:, np.newaxis])\n",
        "y_teor = np.cos(1.5 * np.pi * xfit)\n",
        "\n",
        "#SCORES######################################\n",
        "# Measure r2_score\n",
        "r2_training = r2_score(y_samp,model.predict(x[:, np.newaxis]))\n",
        "r2_test = r2_score(y_teor, model.predict(x_fit[:, np.newaxis]))\n",
        "\n",
        "scores = cross_val_score(model,x[:, np.newaxis], y_samp,cv=5)\n",
        "\n",
        "\n",
        "plt.figure(figsize=(8, 8))\n",
        "plt.plot(x_fit, y_teor , label=\"True function\", c='r', linestyle=':')\n",
        "plt.scatter(x, y_samp, c='b', label='Samples')\n",
        "plt.plot(x_fit, y_fit, label='Model' );\n",
        "plt.title(\"$MSE$ = {:.2e} - $R^2 train$= {:.2} - $R^2 test$= {:.2}\".format(scores.mean(),r2_training,r2_test))\n",
        "plt.legend(loc=\"best\")\n",
        "plt.xlim((0, 1))\n",
        "plt.ylim((-2, 2))\n",
        "plt.xlabel(\"x\")\n",
        "plt.ylabel(\"y\")"
      ],
      "execution_count": null,
      "outputs": []
    },
    {
      "cell_type": "markdown",
      "metadata": {
        "id": "8NmfAG2pzMz9"
      },
      "source": [
        "## 4. EJERCICIO\n",
        "\n",
        "Hacemos una animación de la gráfica anterior para poder modificar interactivamente los valores de los parámetros del modelo *grado de las variables polinomicas* y el parámetro de la regularización $\\alpha$."
      ]
    },
    {
      "cell_type": "code",
      "metadata": {
        "colab": {
          "base_uri": "https://localhost:8080/",
          "height": 467,
          "referenced_widgets": [
            "987eeac1dafe452c8b38d6bd9e821bce",
            "eab932a74dc049808a1db6087758b120",
            "c754a4cdc73d446aa6a51991f3df01a4",
            "125a04d3c98e4021b1015a5d52d3ac66",
            "2e3b1dec2fd3473d8cb3f33fd58b6224",
            "8058aea43c5f4a8abff128bc947a1b0e",
            "7edc3b500f9d45888c9e0e320eb70706",
            "0ac8a85fa27f48259877e95c79fb7d83",
            "d81a7f2033f44ad792a79e9bd8e841d6",
            "a0808716e05d4eaea1c5704b4c8fb084",
            "32d6453c0b49489092f73c48f22f5e46",
            "a43211ec66184b358ca3a096c0cc4f7e",
            "faec65db92564162b01136e2165343f6"
          ]
        },
        "id": "5BAvfXyCzMz9",
        "outputId": "8cd6a962-c0bc-498c-cc6f-553050e8317e"
      },
      "source": [
        "%matplotlib inline\n",
        "from ipywidgets import interactive\n",
        "import ipywidgets as widgets\n",
        "from IPython.display import display\n",
        "\n",
        "##DATASETS###############################\n",
        "#training set\n",
        "n_samples = 100\n",
        "x, y_samp = makeCosData(n_samples,0)\n",
        "\n",
        "def f(alpha,degree, regtitle):\n",
        "    ##THE RIDGE or LASSO REGRESSION MODELs WITH POLYNOMIAL FEATURES##############\n",
        "    if regtitle=='RIDGE':\n",
        "        reg = linear_model.Ridge(alpha)\n",
        "    if regtitle=='LASSO':\n",
        "        #we need a smaller alpha for lasso regularization\n",
        "        #NOTA si se usa lasso hacer el alpha más pequeño que en el caso ridge (por ejemplo 0,1*alpha en ridge)\n",
        "        reg = linear_model.Lasso(alpha = 0.1*alpha)\n",
        "    model = make_pipeline(PolynomialFeatures(degree), reg)\n",
        "    model.fit(x[:, np.newaxis], y_samp) \n",
        "\n",
        "    #the modelpredictions\n",
        "    x_fit = np.linspace(0, 1, n_samples)\n",
        "    y_fit = model.predict(x_fit[:, np.newaxis])\n",
        "    y_teor = np.cos(1.5 * np.pi * xfit)\n",
        "\n",
        "    #SCORES######################################\n",
        "    # Measure r2_score\n",
        "    r2_training = r2_score(y_samp,model.predict(x[:, np.newaxis]))\n",
        "    r2_test = r2_score(y_teor, model.predict(x_fit[:, np.newaxis]))\n",
        "\n",
        "    scores = cross_val_score(model,x[:, np.newaxis], y_samp,cv=5)\n",
        "\n",
        "    plt.figure(figsize=(8, 8))\n",
        "    plt.plot(x_fit, y_teor , label=\"True function\", c='r', linestyle=':')\n",
        "    plt.scatter(x, y_samp, c='b', label='Samples')\n",
        "    plt.plot(x_fit, y_fit, label='Model' );\n",
        "    plt.title(regtitle+\" REGRESSION: $MSE$ = {:.2e} - $R^2 train$= {:.2} - $R^2 test$= {:.2}\".format(scores.mean(),r2_training,r2_test))\n",
        "    plt.legend(loc=\"best\")\n",
        "    plt.xlim((0, 1))\n",
        "    plt.ylim((-2, 2))\n",
        "    plt.xlabel(\"x\")\n",
        "    plt.ylabel(\"y\")\n",
        "    plt.show()\n",
        "    \n",
        "var_widget= widgets.RadioButtons(\n",
        "options=['RIDGE', 'LASSO'],\n",
        "description='Select regression type:',\n",
        "disabled=False\n",
        ")\n",
        "\n",
        "interactive_plot = interactive(f, alpha=(0.1, 1.0),degree=(2, 15), regtitle=var_widget)\n",
        "output = interactive_plot.children[-1]\n",
        "interactive_plot"
      ],
      "execution_count": 24,
      "outputs": [
        {
          "output_type": "display_data",
          "data": {
            "application/vnd.jupyter.widget-view+json": {
              "model_id": "987eeac1dafe452c8b38d6bd9e821bce",
              "version_minor": 0,
              "version_major": 2
            },
            "text/plain": [
              "interactive(children=(FloatSlider(value=0.55, description='alpha', max=1.0, min=0.1), IntSlider(value=8, descr…"
            ]
          },
          "metadata": {}
        }
      ]
    },
    {
      "cell_type": "markdown",
      "metadata": {
        "id": "lJCYTaNSzMz9"
      },
      "source": [
        "## 7. Ejercicio\n",
        "\n",
        "Carga el set de datos de la diabetes. Ajusta el modelo. Calcula el $R^2$. Predice si alguien tiene diabetes.\n",
        "\n",
        "<a url=\"http://scikit-learn.org/stable/datasets/index.html#diabetes-dataset\">Ver detalle del dataset</a>\n",
        "\n"
      ]
    },
    {
      "cell_type": "code",
      "metadata": {
        "id": "4MjiZlplzMz-"
      },
      "source": [
        "import matplotlib.pyplot as plt\n",
        "import numpy as np\n",
        "from sklearn import datasets, linear_model\n",
        "from sklearn.metrics import mean_squared_error, r2_score\n",
        "\n",
        "# Load the diabetes dataset\n",
        "diabetes = datasets.load_diabetes()\n",
        "\n",
        "# Use only one feature\n",
        "diabetes_X = diabetes.data[:, np.newaxis, 2]\n",
        "\n",
        "# Split the data into training/testing sets\n",
        "diabetes_X_train = diabetes_X[:-20]\n",
        "diabetes_X_test = diabetes_X[-20:]\n",
        "\n",
        "# Split the targets into training/testing sets\n",
        "diabetes_y_train = diabetes.target[:-20]\n",
        "diabetes_y_test = diabetes.target[-20:]\n",
        "\n",
        "# Create linear regression object\n",
        "regr = linear_model.LinearRegression()\n",
        "\n",
        "# Train the model using the training sets\n",
        "regr.fit(diabetes_X_train, diabetes_y_train)\n",
        "\n",
        "# Make predictions using the testing set\n",
        "diabetes_y_pred = regr.predict(diabetes_X_test)\n",
        "\n",
        "# The coefficients\n",
        "print('Coefficients: \\n', regr.coef_)\n",
        "# The mean squared error\n",
        "print(\"Mean squared error: %.2f\"\n",
        "      % mean_squared_error(diabetes_y_test, diabetes_y_pred))\n",
        "# Explained variance score: 1 is perfect prediction\n",
        "print('Variance score: %.2f' % r2_score(diabetes_y_test, diabetes_y_pred))\n",
        "\n",
        "# Plot outputs\n",
        "plt.scatter(diabetes_X_test, diabetes_y_test,  color='black')\n",
        "plt.plot(diabetes_X_test, diabetes_y_pred, color='blue', linewidth=3)\n",
        "\n",
        "plt.xticks(())\n",
        "plt.yticks(())\n",
        "\n",
        "plt.show()"
      ],
      "execution_count": null,
      "outputs": []
    },
    {
      "cell_type": "code",
      "metadata": {
        "collapsed": true,
        "id": "2OvgOpErzMz-"
      },
      "source": [
        ""
      ],
      "execution_count": null,
      "outputs": []
    }
  ]
}